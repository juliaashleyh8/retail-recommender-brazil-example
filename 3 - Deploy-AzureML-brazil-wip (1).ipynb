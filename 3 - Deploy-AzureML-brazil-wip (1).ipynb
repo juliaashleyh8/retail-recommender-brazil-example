{
 "cells": [
  {
   "cell_type": "code",
   "execution_count": 39,
   "metadata": {
    "application/vnd.databricks.v1+cell": {
     "cellMetadata": {},
     "inputWidgets": {},
     "nuid": "f4f70a0e-aab5-435c-85d4-a159ad521686",
     "showTitle": false,
     "title": ""
    }
   },
   "outputs": [],
   "source": [
    "import os\n",
    "import pandas as pd\n",
    "import pickle\n",
    "import json\n",
    "import requests\n",
    "import ast\n",
    "\n",
    "import turicreate\n",
    "from turicreate import SFrame\n",
    "\n",
    "import azureml.core\n",
    "from azureml.core import Workspace\n",
    "from azureml.core.model import Model, InferenceConfig\n",
    "from azureml.core.environment import Environment\n",
    "from azureml.core.conda_dependencies import CondaDependencies\n",
    "from azureml.core.webservice import AciWebservice, LocalWebservice, Webservice,  AksWebservice\n",
    "from azureml.core.compute import AksCompute, ComputeTarget\n",
    "from azureml.core.compute_target import ComputeTargetException"
   ]
  },
  {
   "cell_type": "code",
   "execution_count": 40,
   "metadata": {
    "application/vnd.databricks.v1+cell": {
     "cellMetadata": {},
     "inputWidgets": {},
     "nuid": "d00ae97c-a266-41bf-8bd5-50ff421ec21a",
     "showTitle": false,
     "title": ""
    }
   },
   "outputs": [
    {
     "name": "stdout",
     "output_type": "stream",
     "text": [
      "AZML SDK Version: 1.48.0\n",
      "Pandas Version: 1.1.5\n"
     ]
    }
   ],
   "source": [
    "print(\"AZML SDK Version:\", azureml.core.VERSION)\n",
    "print(\"Pandas Version:\", pd.__version__)"
   ]
  },
  {
   "cell_type": "code",
   "execution_count": 41,
   "metadata": {
    "application/vnd.databricks.v1+cell": {
     "cellMetadata": {},
     "inputWidgets": {},
     "nuid": "01b45487-e58e-4d09-92fa-d2f1fef357e5",
     "showTitle": false,
     "title": ""
    }
   },
   "outputs": [],
   "source": [
    "# If in Databricks\n",
    "# OUTPUT_DIR = \"/dbfs/FileStore/RetailRecommender/output/\"\n",
    "# MODELS_DIR = \"/dbfs/FileStore/RetailRecommender/models/\"\n",
    "# DEPLOY_DIR = \"/dbfs/FileStore/RetailRecommender/deploy/\"\n",
    "\n",
    "OUTPUT_DIR = \"./output/\"\n",
    "MODELS_DIR = \"./models/\"\n",
    "DEPLOY_DIR = \"./deploy/\"\n",
    "\n",
    "os.makedirs(DEPLOY_DIR, exist_ok=True)"
   ]
  },
  {
   "cell_type": "markdown",
   "metadata": {
    "application/vnd.databricks.v1+cell": {
     "cellMetadata": {},
     "inputWidgets": {},
     "nuid": "3588ac59-16f6-47a8-b4b5-2fcef153814e",
     "showTitle": false,
     "title": ""
    }
   },
   "source": [
    "# 1. Load the AML Workspace"
   ]
  },
  {
   "cell_type": "code",
   "execution_count": 42,
   "metadata": {
    "application/vnd.databricks.v1+cell": {
     "cellMetadata": {},
     "inputWidgets": {},
     "nuid": "04ac2723-ea80-402d-812d-6b4b495ac334",
     "showTitle": false,
     "title": ""
    }
   },
   "outputs": [
    {
     "name": "stdout",
     "output_type": "stream",
     "text": [
      "RRBrazilex\n",
      "retail-rec-brazil-ex\n",
      "eastus\n",
      "2f8a2563-4e90-4a88-8e6c-56fa0f12cb7e\n"
     ]
    }
   ],
   "source": [
    "ws = Workspace(workspace_name=\"RRBrazilex\", \n",
    "                subscription_id=\"2f8a2563-4e90-4a88-8e6c-56fa0f12cb7e\", \n",
    "                resource_group=\"retail-rec-brazil-ex\")\n",
    "\n",
    "# ws = Workspace(workspace_name=\"YOUR_WORKSPACE_NAME\", \n",
    "#                 subscription_id=\"YOUR_SUBSCRIPTION_ID\", \n",
    "#                 resource_group=\"YOUR_RESOURCE_GROUP\")\n",
    "print(ws.name, ws.resource_group, ws.location, ws.subscription_id, sep = \"\\n\")"
   ]
  },
  {
   "cell_type": "markdown",
   "metadata": {
    "application/vnd.databricks.v1+cell": {
     "cellMetadata": {},
     "inputWidgets": {},
     "nuid": "43cc05e2-217a-44bc-be89-a9c8898460f3",
     "showTitle": false,
     "title": ""
    }
   },
   "source": [
    "# 2. Register the Models on AZML service model registry"
   ]
  },
  {
   "cell_type": "code",
   "execution_count": 43,
   "metadata": {
    "application/vnd.databricks.v1+cell": {
     "cellMetadata": {},
     "inputWidgets": {},
     "nuid": "ac25fdce-ebd0-4385-97af-3f7114d95576",
     "showTitle": false,
     "title": ""
    }
   },
   "outputs": [],
   "source": [
    "model_s_path = MODELS_DIR + \"recommendation_s.model\"\n",
    "model_r_path = MODELS_DIR + \"recommendation_r.model\""
   ]
  },
  {
   "cell_type": "code",
   "execution_count": 44,
   "metadata": {
    "application/vnd.databricks.v1+cell": {
     "cellMetadata": {},
     "inputWidgets": {},
     "nuid": "4ba551bd-cd1b-480b-a738-989ff775a4fe",
     "showTitle": false,
     "title": ""
    }
   },
   "outputs": [
    {
     "name": "stdout",
     "output_type": "stream",
     "text": [
      "Registering model similarity_model\n",
      "Registering model ranking_factorization_model\n"
     ]
    }
   ],
   "source": [
    "azmodel_s = Model.register( model_path = model_s_path,\n",
    "                           model_name = \"similarity_model\",\n",
    "                           workspace = ws)\n",
    "\n",
    "azmodel_r = Model.register( model_path = model_r_path,\n",
    "                           model_name = \"ranking_factorization_model\",\n",
    "                           workspace = ws)"
   ]
  },
  {
   "cell_type": "markdown",
   "metadata": {
    "application/vnd.databricks.v1+cell": {
     "cellMetadata": {},
     "inputWidgets": {},
     "nuid": "fdbabb99-6cd9-4c63-b27a-e114c53deb7f",
     "showTitle": false,
     "title": ""
    }
   },
   "source": [
    "# 3. Test score.py init() and run() functions"
   ]
  },
  {
   "cell_type": "code",
   "execution_count": 45,
   "metadata": {
    "application/vnd.databricks.v1+cell": {
     "cellMetadata": {},
     "inputWidgets": {},
     "nuid": "7e83ca76-958a-4ac6-a2ed-6d6887d29764",
     "showTitle": false,
     "title": ""
    }
   },
   "outputs": [],
   "source": [
    "import os\n",
    "\n",
    "def init():\n",
    "    \n",
    "    global model_s\n",
    "    global model_r\n",
    "    global product_column_name\n",
    "    global customer_column_name\n",
    "    global reviewscore_column_name\n",
    "    \n",
    "    order_column_name = \"order_id\"\n",
    "    product_column_name = \"product_id\"\n",
    "    timestamp_column_name = \"order_purchase_timestamp\"\n",
    "    category_column_name = \"product_category_name_english\"\n",
    "    reviewscore_column_name = \"review_score\"\n",
    "    customer_column_name = \"customer_unique_id\"\n",
    "    customer_city_column_name = \"customer_city\"\n",
    "    \n",
    "    model_s = turicreate.load_model(model_s_path)\n",
    "    model_r = turicreate.load_model(model_r_path)\n",
    "    "
   ]
  },
  {
   "cell_type": "code",
   "execution_count": 73,
   "metadata": {
    "application/vnd.databricks.v1+cell": {
     "cellMetadata": {},
     "inputWidgets": {},
     "nuid": "7b5e717a-1136-470c-b1ac-e746c7e6d5a9",
     "showTitle": false,
     "title": ""
    }
   },
   "outputs": [],
   "source": [
    "def run(raw_data):\n",
    "    \n",
    "    data = json.loads(raw_data)\n",
    "    data = pd.DataFrame(data).to_dict(orient=\"list\")\n",
    "\n",
    "    try:\n",
    "        if customer_column_name in data:\n",
    "            print(customer_column_name + \" found\")\n",
    "            \n",
    "            # If observation side data exists\n",
    "            if (\"period\" or \"month\" or \"weekday\") in data:\n",
    "                print(\"Using Ranking Factorization Model\\n\")\n",
    "                users_query = turicreate.SFrame(\n",
    "                    {\"customer_unique_id\": data[customer_column_name], \n",
    "                    \"period\": data[\"period\"] if \"period\" in data else [\"Night\"] * len(data[customer_column_name]),\n",
    "                    \"month\": data[\"month\"] if \"month\" in data else [8] * len(data[customer_column_name]),\n",
    "                    \"weekday\": data[\"weekday\"] if \"weekday\" in data else [2] * len(data[customer_column_name])\n",
    "                    }\n",
    "                )\n",
    "\n",
    "                result = model_r.recommend(users=users_query, k=10).to_dataframe()\n",
    "                \n",
    "            else:\n",
    "                print(\"Using Similarity Model\\n\")\n",
    "                result = model_s.recommend(users=data[customer_column_name], k=10).to_dataframe()\n",
    "                \n",
    "            if product_column_name in data:\n",
    "                return \"Error: Request cannot have\" + product_column_name + \" and\" + customer_column_name + \" together. Please make separate requests for user recommendations and for items basket similarity\"\n",
    "        \n",
    "        elif product_column_name in data:\n",
    "                print(\"Using Similarity Model\\n\")\n",
    "                result = model_s.get_similar_items(data[product_column_name], k=10).to_dataframe()\n",
    "                \n",
    "        else:\n",
    "            return \"Error: Payload must contain at least a field named \" + customer_column_name + \" or \" + product_column_name\n",
    "    \n",
    "        return result.to_json(orient=\"records\")\n",
    "        \n",
    "    except Exception as e:\n",
    "        return e\n"
   ]
  },
  {
   "cell_type": "code",
   "execution_count": 74,
   "metadata": {
    "application/vnd.databricks.v1+cell": {
     "cellMetadata": {},
     "inputWidgets": {},
     "nuid": "650a1d48-1615-4252-bf34-2eb925ed8b70",
     "showTitle": false,
     "title": ""
    }
   },
   "outputs": [],
   "source": [
    "init()"
   ]
  },
  {
   "cell_type": "code",
   "execution_count": 75,
   "metadata": {
    "application/vnd.databricks.v1+cell": {
     "cellMetadata": {},
     "inputWidgets": {},
     "nuid": "7dc57eda-2933-4f3a-ac7c-bd8635073e59",
     "showTitle": false,
     "title": ""
    }
   },
   "outputs": [],
   "source": [
    "\n",
    "test_load1 = '''\n",
    "    [\n",
    "        {\"customer_unique_id\":\"871766c5855e863f6eccc05f988b23cb\", \"period\":\"Night\",  \"weekday\":2},\n",
    "        {\"customer_unique_id\":\"871766c5855e863f6eccc05f988b23cb\", \"period\":\"Night\", \"weekday\":2}\n",
    "    ]\n",
    "'''\n",
    "\n",
    "test_load2 = '''\n",
    "    [\n",
    "        {\"customer_unique_id\":\"871766c5855e863f6eccc05f988b23cb\"},\n",
    "        {\"customer_unique_id\":\"871766c5855e863f6eccc05f988b23cb\"}\n",
    "    ]\n",
    "'''\n",
    "\n",
    "test_load3 = '''\n",
    "    [\n",
    "        {\"customer_unique_id\":\"871766c5855e863f6eccc05f988b23cb\", \"period\":\"Night\",  \"weekday\":2 , \"month\": 9},\n",
    "        {\"customer_unique_id\":\"871766c5855e863f6eccc05f988b23cb\", \"period\":\"Night\",  \"weekday\":2 , \"month\": 9}\n",
    "    ]\n",
    "'''\n",
    "\n",
    "test_load4 = '''\n",
    "    [\n",
    "        {\"product_id\":\"4244733e06e7ecb4970a6e2683c13e61\"},\n",
    "        {\"product_id\":\"fdcf45aa23bb8312ecc0027d6e1ef1c4\"}\n",
    "    ]\n",
    "'''\n"
   ]
  },
  {
   "cell_type": "code",
   "execution_count": 76,
   "metadata": {
    "application/vnd.databricks.v1+cell": {
     "cellMetadata": {},
     "inputWidgets": {},
     "nuid": "0d8a37cd-0898-4efe-b6fb-86a4f7552165",
     "showTitle": false,
     "title": ""
    }
   },
   "outputs": [
    {
     "name": "stdout",
     "output_type": "stream",
     "text": [
      "customer_unique_id found\n",
      "Using Ranking Factorization Model\n",
      "\n"
     ]
    },
    {
     "data": {
      "text/plain": [
       "'[{\"customer_unique_id\":\"871766c5855e863f6eccc05f988b23cb\",\"product_id\":\"aca2eb7d00ea1a7b8ebd4e68314663af\",\"score\":4.6170641054,\"rank\":1},{\"customer_unique_id\":\"871766c5855e863f6eccc05f988b23cb\",\"product_id\":\"99a4788cb24856965c36a24e339b6058\",\"score\":4.1736911464,\"rank\":2},{\"customer_unique_id\":\"871766c5855e863f6eccc05f988b23cb\",\"product_id\":\"186fe07c8b8005ec6a498587ffbc1352\",\"score\":4.1233484102,\"rank\":3},{\"customer_unique_id\":\"871766c5855e863f6eccc05f988b23cb\",\"product_id\":\"2136c70bbe723d338fab53da3c03e6dc\",\"score\":4.028887212,\"rank\":4},{\"customer_unique_id\":\"871766c5855e863f6eccc05f988b23cb\",\"product_id\":\"a62e25e09e05e6faf31d90c6ec1aa3d1\",\"score\":4.0174223245,\"rank\":5},{\"customer_unique_id\":\"871766c5855e863f6eccc05f988b23cb\",\"product_id\":\"777d2e438a1b645f3aec9bd57e92672c\",\"score\":3.9907904232,\"rank\":6},{\"customer_unique_id\":\"871766c5855e863f6eccc05f988b23cb\",\"product_id\":\"422879e10f46682990de24d770e7f83d\",\"score\":3.9425410001,\"rank\":7},{\"customer_unique_id\":\"871766c5855e863f6eccc05f988b23cb\",\"product_id\":\"5b226d7c52f86ac72457617f78cff95d\",\"score\":3.933569905,\"rank\":8},{\"customer_unique_id\":\"871766c5855e863f6eccc05f988b23cb\",\"product_id\":\"6f33a4a09ae1180a0ee1ff4682b2d21f\",\"score\":3.9173561458,\"rank\":9},{\"customer_unique_id\":\"871766c5855e863f6eccc05f988b23cb\",\"product_id\":\"42a2c92a0979a949ca4ea89ec5c7b934\",\"score\":3.9065623892,\"rank\":10},{\"customer_unique_id\":\"871766c5855e863f6eccc05f988b23cb\",\"product_id\":\"aca2eb7d00ea1a7b8ebd4e68314663af\",\"score\":4.6170641054,\"rank\":1},{\"customer_unique_id\":\"871766c5855e863f6eccc05f988b23cb\",\"product_id\":\"99a4788cb24856965c36a24e339b6058\",\"score\":4.1736911464,\"rank\":2},{\"customer_unique_id\":\"871766c5855e863f6eccc05f988b23cb\",\"product_id\":\"186fe07c8b8005ec6a498587ffbc1352\",\"score\":4.1233484102,\"rank\":3},{\"customer_unique_id\":\"871766c5855e863f6eccc05f988b23cb\",\"product_id\":\"2136c70bbe723d338fab53da3c03e6dc\",\"score\":4.028887212,\"rank\":4},{\"customer_unique_id\":\"871766c5855e863f6eccc05f988b23cb\",\"product_id\":\"a62e25e09e05e6faf31d90c6ec1aa3d1\",\"score\":4.0174223245,\"rank\":5},{\"customer_unique_id\":\"871766c5855e863f6eccc05f988b23cb\",\"product_id\":\"777d2e438a1b645f3aec9bd57e92672c\",\"score\":3.9907904232,\"rank\":6},{\"customer_unique_id\":\"871766c5855e863f6eccc05f988b23cb\",\"product_id\":\"422879e10f46682990de24d770e7f83d\",\"score\":3.9425410001,\"rank\":7},{\"customer_unique_id\":\"871766c5855e863f6eccc05f988b23cb\",\"product_id\":\"5b226d7c52f86ac72457617f78cff95d\",\"score\":3.933569905,\"rank\":8},{\"customer_unique_id\":\"871766c5855e863f6eccc05f988b23cb\",\"product_id\":\"6f33a4a09ae1180a0ee1ff4682b2d21f\",\"score\":3.9173561458,\"rank\":9},{\"customer_unique_id\":\"871766c5855e863f6eccc05f988b23cb\",\"product_id\":\"42a2c92a0979a949ca4ea89ec5c7b934\",\"score\":3.9065623892,\"rank\":10}]'"
      ]
     },
     "execution_count": 76,
     "metadata": {},
     "output_type": "execute_result"
    }
   ],
   "source": [
    "run(test_load3)"
   ]
  },
  {
   "cell_type": "code",
   "execution_count": 77,
   "metadata": {
    "application/vnd.databricks.v1+cell": {
     "cellMetadata": {},
     "inputWidgets": {},
     "nuid": "73407d3b-57a2-4c5c-85f9-37609b786f9d",
     "showTitle": false,
     "title": ""
    }
   },
   "outputs": [
    {
     "name": "stdout",
     "output_type": "stream",
     "text": [
      "Using Similarity Model\n",
      "\n"
     ]
    },
    {
     "data": {
      "text/plain": [
       "'[]'"
      ]
     },
     "execution_count": 77,
     "metadata": {},
     "output_type": "execute_result"
    }
   ],
   "source": [
    "run(test_load4)"
   ]
  },
  {
   "cell_type": "markdown",
   "metadata": {
    "application/vnd.databricks.v1+cell": {
     "cellMetadata": {},
     "inputWidgets": {},
     "nuid": "e8647c79-1631-49cc-93f4-b715ce4b5157",
     "showTitle": false,
     "title": ""
    }
   },
   "source": [
    "# 4. Create Inference Environment"
   ]
  },
  {
   "cell_type": "code",
   "execution_count": 78,
   "metadata": {
    "application/vnd.databricks.v1+cell": {
     "cellMetadata": {},
     "inputWidgets": {},
     "nuid": "21d7aa30-e266-4033-af60-3592d2d56fac",
     "showTitle": false,
     "title": ""
    }
   },
   "outputs": [],
   "source": [
    "# curated_env = Environment.get(workspace=ws, name=\"AzureML-minimal-ubuntu18.04-py37-cpu-inference\")\n",
    "# myenv = curated_env.clone(\"turicreate_env\")\n",
    "\n",
    "conda_dep = CondaDependencies()\n",
    "conda_dep.add_pip_package(\"turicreate\")\n",
    "\n",
    "myenv = Environment(name=\"turicreate_env\")\n",
    "myenv.python.conda_dependencies=conda_dep\n",
    "myenv.inferencing_stack_version = \"latest\"\n",
    "\n",
    "# Register the Environment on AZML so we can retreive it later\n",
    "myenv = myenv.register(workspace=ws)\n",
    "\n",
    "# Uncomment this to re-build the environment\n",
    "# myenv.build(workspace=ws)\n"
   ]
  },
  {
   "cell_type": "markdown",
   "metadata": {
    "application/vnd.databricks.v1+cell": {
     "cellMetadata": {},
     "inputWidgets": {},
     "nuid": "54480d0d-495f-4c5c-92ef-a4a689d61ac1",
     "showTitle": false,
     "title": ""
    }
   },
   "source": [
    "# 5. Create the inference configuration\n",
    "\n",
    "### !!! Make sure that in score.py you set the right model version!!!"
   ]
  },
  {
   "cell_type": "code",
   "execution_count": 81,
   "metadata": {
    "application/vnd.databricks.v1+cell": {
     "cellMetadata": {},
     "inputWidgets": {},
     "nuid": "7e7cd7a7-2d07-4289-ae08-d134b9a6d96f",
     "showTitle": false,
     "title": ""
    }
   },
   "outputs": [
    {
     "name": "stdout",
     "output_type": "stream",
     "text": [
      "score.py written, using ./deploy/score.py\n"
     ]
    }
   ],
   "source": [
    "scorepy_text = '''\n",
    "import os\n",
    "import sys\n",
    "import turicreate\n",
    "from turicreate import SFrame\n",
    "import pandas as pd\n",
    "import json\n",
    "\n",
    "def init():\n",
    "    \n",
    "    global model_s\n",
    "    global model_r\n",
    "    \n",
    "    model_s_name = \"similarity_model\"\n",
    "    model_s_version = \"{S_VERSION}\"\n",
    "    model_s_filename = \"recommendation_s.model\"\n",
    "    \n",
    "    model_r_name = \"ranking_factorization_model\"\n",
    "    model_r_version = \"{R_VERSION}\"  \n",
    "    model_r_filename = \"recommendation_r.model\"\n",
    "    \n",
    "    model_s_path = os.path.join(os.getenv('AZUREML_MODEL_DIR'), model_s_name, model_s_version, model_s_filename)\n",
    "    model_r_path = os.path.join(os.getenv('AZUREML_MODEL_DIR'), model_r_name, model_r_version, model_r_filename)\n",
    "    \n",
    "    print(\"model_s_path\",model_s_path)\n",
    "    print(\"model_r_path\",model_r_path)\n",
    "    \n",
    "    model_s = turicreate.load_model(model_s_path)\n",
    "    model_r = turicreate.load_model(model_r_path)\n",
    "    \n",
    "    \n",
    "def run(raw_data):\n",
    "    \n",
    "    data = json.loads(raw_data)\n",
    "    data = pd.DataFrame(data).to_dict(orient=\"list\")\n",
    "\n",
    "    try:\n",
    "        if \"{USER_ID}\" in data:\n",
    "            print(\"{USER_ID} found\")\n",
    "            \n",
    "            # If observation side data exists\n",
    "            if (\"period\" or \"month\" or \"weekday\") in data:\n",
    "                print(\"Using Ranking Factorization Model\")\n",
    "                users_query = turicreate.SFrame(\n",
    "                    {{\"customer_unique_id\": data[\"{USER_ID}\"], \n",
    "                    \"period\": data[\"period\"] if \"period\" in data else [\"Night\"] * len(data[\"{USER_ID}\"]),\n",
    "                    \"month\": data[\"month\"] if \"month\" in data else [8] * len(data[\"{USER_ID}\"]),\n",
    "                    \"weekday\": data[\"weekday\"] if \"weekday\" in data else [2] * len(data[\"{USER_ID}\"])\n",
    "                    }}\n",
    "                )\n",
    "                result = model_r.recommend(users=users_query, k=10).to_dataframe()\n",
    "                \n",
    "            else:\n",
    "                print(\"Using Similarity Model\")\n",
    "                result = model_s.recommend(users=data[\"{USER_ID}\"], k=10).to_dataframe()\n",
    "                \n",
    "            if \"{ITEM_ID}\" in data:\n",
    "                return \"Error: Request cannot have {USER_ID} and {ITEM_ID} together. Please make separate requests for {USER_ID} recommendations and for {ITEM_ID} basket similarity\"\n",
    "        \n",
    "        elif \"{ITEM_ID}\" in data:\n",
    "                print(\"Using Similarity Model\")\n",
    "                result = model_s.get_similar_items(data[\"{ITEM_ID}\"], k=10).to_dataframe()\n",
    "                \n",
    "        else:\n",
    "            return \"Error: Payload must contain at least a field named {USER_ID} or {ITEM_ID}\"\n",
    "    \n",
    "        return result.to_json(orient=\"records\")\n",
    "        \n",
    "    except Exception as e:\n",
    "        return e\n",
    "\n",
    "'''.format(S_VERSION=3, R_VERSION=3, USER_ID=customer_column_name, ITEM_ID=product_column_name)\n",
    "\n",
    "with open(DEPLOY_DIR+\"score.py\", \"w\") as file:\n",
    "    file.write(scorepy_text)\n",
    "\n",
    "print(\"score.py written, using\",DEPLOY_DIR+\"score.py\")"
   ]
  },
  {
   "cell_type": "code",
   "execution_count": 82,
   "metadata": {
    "application/vnd.databricks.v1+cell": {
     "cellMetadata": {},
     "inputWidgets": {},
     "nuid": "47bae7bf-2127-4c53-b63e-4d3d43f9b800",
     "showTitle": false,
     "title": ""
    }
   },
   "outputs": [
    {
     "name": "stdout",
     "output_type": "stream",
     "text": [
      "\n",
      "import os\n",
      "import sys\n",
      "import turicreate\n",
      "from turicreate import SFrame\n",
      "import pandas as pd\n",
      "import json\n",
      "\n",
      "def init():\n",
      "    \n",
      "    global model_s\n",
      "    global model_r\n",
      "    \n",
      "    model_s_name = \"similarity_model\"\n",
      "    model_s_version = \"3\"\n",
      "    model_s_filename = \"recommendation_s.model\"\n",
      "    \n",
      "    model_r_name = \"ranking_factorization_model\"\n",
      "    model_r_version = \"3\"  \n",
      "    model_r_filename = \"recommendation_r.model\"\n",
      "    \n",
      "    model_s_path = os.path.join(os.getenv('AZUREML_MODEL_DIR'), model_s_name, model_s_version, model_s_filename)\n",
      "    model_r_path = os.path.join(os.getenv('AZUREML_MODEL_DIR'), model_r_name, model_r_version, model_r_filename)\n",
      "    \n",
      "    print(\"model_s_path\",model_s_path)\n",
      "    print(\"model_r_path\",model_r_path)\n",
      "    \n",
      "    model_s = turicreate.load_model(model_s_path)\n",
      "    model_r = turicreate.load_model(model_r_path)\n",
      "    \n",
      "    \n",
      "def run(raw_data):\n",
      "    \n",
      "    data = json.loads(raw_data)\n",
      "    data = pd.DataFrame(data).to_dict(orient=\"list\")\n",
      "\n",
      "    try:\n",
      "        if \"customer_unique_id\" in data:\n",
      "            print(\"customer_unique_id found\")\n",
      "            \n",
      "            # If observation side data exists\n",
      "            if (\"period\" or \"month\" or \"weekday\") in data:\n",
      "                print(\"Using Ranking Factorization Model\")\n",
      "                users_query = turicreate.SFrame(\n",
      "                    {\"customer_unique_id\": data[\"customer_unique_id\"], \n",
      "                    \"period\": data[\"period\"] if \"period\" in data else [\"Night\"] * len(data[\"customer_unique_id\"]),\n",
      "                    \"month\": data[\"month\"] if \"month\" in data else [8] * len(data[\"customer_unique_id\"]),\n",
      "                    \"weekday\": data[\"weekday\"] if \"weekday\" in data else [2] * len(data[\"customer_unique_id\"])\n",
      "                    }\n",
      "                )\n",
      "                result = model_r.recommend(users=users_query, k=10).to_dataframe()\n",
      "                \n",
      "            else:\n",
      "                print(\"Using Similarity Model\")\n",
      "                result = model_s.recommend(users=data[\"customer_unique_id\"], k=10).to_dataframe()\n",
      "                \n",
      "            if \"product_id\" in data:\n",
      "                return \"Error: Request cannot have customer_unique_id and product_id together. Please make separate requests for customer_unique_id recommendations and for product_id basket similarity\"\n",
      "        \n",
      "        elif \"product_id\" in data:\n",
      "                print(\"Using Similarity Model\")\n",
      "                result = model_s.get_similar_items(data[\"product_id\"], k=10).to_dataframe()\n",
      "                \n",
      "        else:\n",
      "            return \"Error: Payload must contain at least a field named customer_unique_id or product_id\"\n",
      "    \n",
      "        return result.to_json(orient=\"records\")\n",
      "        \n",
      "    except Exception as e:\n",
      "        return e\n",
      "\n"
     ]
    }
   ],
   "source": [
    "!cat {DEPLOY_DIR}score.py"
   ]
  },
  {
   "cell_type": "markdown",
   "metadata": {
    "application/vnd.databricks.v1+cell": {
     "cellMetadata": {},
     "inputWidgets": {},
     "nuid": "f5dfd9cd-7ffd-4c11-aca6-2b9e0cf9927f",
     "showTitle": false,
     "title": ""
    }
   },
   "source": [
    "# 6 . Deploy to Local\n",
    "This does not work on Databricks"
   ]
  },
  {
   "cell_type": "code",
   "execution_count": 83,
   "metadata": {
    "application/vnd.databricks.v1+cell": {
     "cellMetadata": {},
     "inputWidgets": {},
     "nuid": "177d909d-68a4-48a2-84b2-1cf5ec9bb6b0",
     "showTitle": false,
     "title": ""
    }
   },
   "outputs": [
    {
     "name": "stderr",
     "output_type": "stream",
     "text": [
      "/tmp/ipykernel_64236/3062853723.py:5: FutureWarning: azureml.core.model:\n",
      "To leverage new model deployment capabilities, AzureML recommends using CLI/SDK v2 to deploy models as online endpoint, \n",
      "please refer to respective documentations \n",
      "https://docs.microsoft.com/azure/machine-learning/how-to-deploy-managed-online-endpoints /\n",
      "https://docs.microsoft.com/azure/machine-learning/how-to-attach-kubernetes-anywhere \n",
      "For more information on migration, see https://aka.ms/acimoemigration. \n",
      "To disable CLI/SDK v1 deprecation warning set AZUREML_LOG_DEPRECATION_WARNING_ENABLED to 'False'\n",
      "  local_service = Model.deploy(ws, \"test\", [azmodel_s, azmodel_r], inference_config, deployment_config)\n"
     ]
    },
    {
     "name": "stdout",
     "output_type": "stream",
     "text": [
      "Downloading model similarity_model:3 to /tmp/azureml_x36eg0wl/similarity_model/3\n",
      "Downloading model ranking_factorization_model:3 to /tmp/azureml_x36eg0wl/ranking_factorization_model/3\n",
      "Generating Docker build context.\n",
      "Package creation Succeeded\n",
      "Logging into Docker registry 8cd100591dc0495bba6b05e638847d61.azurecr.io\n",
      "Logging into Docker registry 8cd100591dc0495bba6b05e638847d61.azurecr.io\n",
      "Building Docker image from Dockerfile...\n",
      "Step 1/5 : FROM 8cd100591dc0495bba6b05e638847d61.azurecr.io/azureml/azureml_e09ca68920848b36c7b56c609f002bda\n",
      " ---> 76721a88f05f\n",
      "Step 2/5 : COPY azureml-app /var/azureml-app\n",
      " ---> 1b2ded63a86d\n",
      "Step 3/5 : RUN mkdir -p '/var/azureml-app' && echo eyJhY2NvdW50Q29udGV4dCI6eyJzdWJzY3JpcHRpb25JZCI6IjJmOGEyNTYzLTRlOTAtNGE4OC04ZTZjLTU2ZmEwZjEyY2I3ZSIsInJlc291cmNlR3JvdXBOYW1lIjoicmV0YWlsLXJlYy1icmF6aWwtZXgiLCJhY2NvdW50TmFtZSI6InJyYnJhemlsZXgiLCJ3b3Jrc3BhY2VJZCI6IjhjZDEwMDU5LTFkYzAtNDk1Yi1iYTZiLTA1ZTYzODg0N2Q2MSJ9LCJtb2RlbHMiOnt9LCJtb2RlbHNJbmZvIjp7fX0= | base64 --decode > /var/azureml-app/model_config_map.json\n",
      " ---> Running in 3f9467b55459\n",
      " ---> f6596f1fb476\n",
      "Step 4/5 : RUN mv '/var/azureml-app/tmpvf3hj_nw.py' /var/azureml-app/main.py\n",
      " ---> Running in d5021667fab0\n",
      " ---> b2207e8ca184\n",
      "Step 5/5 : CMD [\"runsvdir\",\"/var/runit\"]\n",
      " ---> Running in eb245063dae0\n",
      " ---> 18fb568d27b4\n",
      "Successfully built 18fb568d27b4\n",
      "Successfully tagged test:latest\n",
      "Container has been successfully cleaned up.\n",
      "Image sha256:a7b9c1e19ff79c410493954530f9536d27f2107808f5df769491181279c1533f successfully removed.\n",
      "Starting Docker container...\n",
      "Docker container running.\n"
     ]
    }
   ],
   "source": [
    "inference_config = InferenceConfig(entry_script=DEPLOY_DIR+\"score.py\",environment=myenv)\n",
    "\n",
    "deployment_config = LocalWebservice.deploy_configuration(port=6789)\n",
    "\n",
    "local_service = Model.deploy(ws, \"test\", [azmodel_s, azmodel_r], inference_config, deployment_config)"
   ]
  },
  {
   "cell_type": "code",
   "execution_count": null,
   "metadata": {
    "application/vnd.databricks.v1+cell": {
     "cellMetadata": {},
     "inputWidgets": {},
     "nuid": "787d032b-f49a-47dc-a1df-38b65970747c",
     "showTitle": false,
     "title": ""
    }
   },
   "outputs": [],
   "source": [
    "# If container fails, check out the logs\n",
    "# local_service.get_logs()"
   ]
  },
  {
   "cell_type": "markdown",
   "metadata": {
    "application/vnd.databricks.v1+cell": {
     "cellMetadata": {},
     "inputWidgets": {},
     "nuid": "8d8a8b26-58f0-41db-8e17-fe694b98e108",
     "showTitle": false,
     "title": ""
    }
   },
   "source": [
    "## Test local web service container"
   ]
  },
  {
   "cell_type": "code",
   "execution_count": 84,
   "metadata": {
    "application/vnd.databricks.v1+cell": {
     "cellMetadata": {},
     "inputWidgets": {},
     "nuid": "34c940de-6423-4ca8-a686-e1a1368b137b",
     "showTitle": false,
     "title": ""
    }
   },
   "outputs": [
    {
     "name": "stdout",
     "output_type": "stream",
     "text": [
      "Local service hosted in: http://localhost:6789/score\n"
     ]
    }
   ],
   "source": [
    "print(\"Local service hosted in:\", local_service.scoring_uri)"
   ]
  },
  {
   "cell_type": "code",
   "execution_count": 85,
   "metadata": {
    "application/vnd.databricks.v1+cell": {
     "cellMetadata": {},
     "inputWidgets": {},
     "nuid": "445f6482-d103-4110-8abd-7192385b250f",
     "showTitle": false,
     "title": ""
    }
   },
   "outputs": [
    {
     "name": "stdout",
     "output_type": "stream",
     "text": [
      "Checking container health...\n",
      "Local webservice is running at http://localhost:6789\n",
      "[{\"customer_unique_id\":\"871766c5855e863f6eccc05f988b23cb\",\"product_id\":\"aca2eb7d00ea1a7b8ebd4e68314663af\",\"score\":4.6170641054,\"rank\":1},{\"customer_unique_id\":\"871766c5855e863f6eccc05f988b23cb\",\"product_id\":\"99a4788cb24856965c36a24e339b6058\",\"score\":4.1736911464,\"rank\":2},{\"customer_unique_id\":\"871766c5855e863f6eccc05f988b23cb\",\"product_id\":\"186fe07c8b8005ec6a498587ffbc1352\",\"score\":4.1233484102,\"rank\":3},{\"customer_unique_id\":\"871766c5855e863f6eccc05f988b23cb\",\"product_id\":\"2136c70bbe723d338fab53da3c03e6dc\",\"score\":4.028887212,\"rank\":4},{\"customer_unique_id\":\"871766c5855e863f6eccc05f988b23cb\",\"product_id\":\"a62e25e09e05e6faf31d90c6ec1aa3d1\",\"score\":4.0174223245,\"rank\":5},{\"customer_unique_id\":\"871766c5855e863f6eccc05f988b23cb\",\"product_id\":\"777d2e438a1b645f3aec9bd57e92672c\",\"score\":3.9907904232,\"rank\":6},{\"customer_unique_id\":\"871766c5855e863f6eccc05f988b23cb\",\"product_id\":\"422879e10f46682990de24d770e7f83d\",\"score\":3.9425410001,\"rank\":7},{\"customer_unique_id\":\"871766c5855e863f6eccc05f988b23cb\",\"product_id\":\"5b226d7c52f86ac72457617f78cff95d\",\"score\":3.933569905,\"rank\":8},{\"customer_unique_id\":\"871766c5855e863f6eccc05f988b23cb\",\"product_id\":\"6f33a4a09ae1180a0ee1ff4682b2d21f\",\"score\":3.9173561458,\"rank\":9},{\"customer_unique_id\":\"871766c5855e863f6eccc05f988b23cb\",\"product_id\":\"42a2c92a0979a949ca4ea89ec5c7b934\",\"score\":3.9065623892,\"rank\":10},{\"customer_unique_id\":\"871766c5855e863f6eccc05f988b23cb\",\"product_id\":\"aca2eb7d00ea1a7b8ebd4e68314663af\",\"score\":4.6170641054,\"rank\":1},{\"customer_unique_id\":\"871766c5855e863f6eccc05f988b23cb\",\"product_id\":\"99a4788cb24856965c36a24e339b6058\",\"score\":4.1736911464,\"rank\":2},{\"customer_unique_id\":\"871766c5855e863f6eccc05f988b23cb\",\"product_id\":\"186fe07c8b8005ec6a498587ffbc1352\",\"score\":4.1233484102,\"rank\":3},{\"customer_unique_id\":\"871766c5855e863f6eccc05f988b23cb\",\"product_id\":\"2136c70bbe723d338fab53da3c03e6dc\",\"score\":4.028887212,\"rank\":4},{\"customer_unique_id\":\"871766c5855e863f6eccc05f988b23cb\",\"product_id\":\"a62e25e09e05e6faf31d90c6ec1aa3d1\",\"score\":4.0174223245,\"rank\":5},{\"customer_unique_id\":\"871766c5855e863f6eccc05f988b23cb\",\"product_id\":\"777d2e438a1b645f3aec9bd57e92672c\",\"score\":3.9907904232,\"rank\":6},{\"customer_unique_id\":\"871766c5855e863f6eccc05f988b23cb\",\"product_id\":\"422879e10f46682990de24d770e7f83d\",\"score\":3.9425410001,\"rank\":7},{\"customer_unique_id\":\"871766c5855e863f6eccc05f988b23cb\",\"product_id\":\"5b226d7c52f86ac72457617f78cff95d\",\"score\":3.933569905,\"rank\":8},{\"customer_unique_id\":\"871766c5855e863f6eccc05f988b23cb\",\"product_id\":\"6f33a4a09ae1180a0ee1ff4682b2d21f\",\"score\":3.9173561458,\"rank\":9},{\"customer_unique_id\":\"871766c5855e863f6eccc05f988b23cb\",\"product_id\":\"42a2c92a0979a949ca4ea89ec5c7b934\",\"score\":3.9065623892,\"rank\":10}]\n"
     ]
    }
   ],
   "source": [
    "import json\n",
    "\n",
    "response = local_service.run(input_data = test_load3)\n",
    "print(response)"
   ]
  },
  {
   "cell_type": "code",
   "execution_count": 86,
   "metadata": {
    "application/vnd.databricks.v1+cell": {
     "cellMetadata": {},
     "inputWidgets": {},
     "nuid": "e3d61ba0-0d58-4bd2-9cec-7a87723bc181",
     "showTitle": false,
     "title": ""
    }
   },
   "outputs": [
    {
     "name": "stdout",
     "output_type": "stream",
     "text": [
      "[{\"customer_unique_id\":\"871766c5855e863f6eccc05f988b23cb\",\"product_id\":\"154e7e31ebfa092203795c972e5804a6\",\"score\":0.0067212236,\"rank\":1},{\"customer_unique_id\":\"871766c5855e863f6eccc05f988b23cb\",\"product_id\":\"36f60d45225e60c7da4558b070ce4b60\",\"score\":0.0060527384,\"rank\":2},{\"customer_unique_id\":\"871766c5855e863f6eccc05f988b23cb\",\"product_id\":\"2b4609f8948be18874494203496bc318\",\"score\":0.0043835616,\"rank\":3},{\"customer_unique_id\":\"871766c5855e863f6eccc05f988b23cb\",\"product_id\":\"e53e557d5a159f5aa2c5e995dfdf244b\",\"score\":0.0032941175,\"rank\":4},{\"customer_unique_id\":\"871766c5855e863f6eccc05f988b23cb\",\"product_id\":\"b1acb7e8152c90c9619897753a75c973\",\"score\":0.0032536769,\"rank\":5},{\"customer_unique_id\":\"871766c5855e863f6eccc05f988b23cb\",\"product_id\":\"3f14d740544f37ece8a9e7bc8349797e\",\"score\":0.002758621,\"rank\":6},{\"customer_unique_id\":\"871766c5855e863f6eccc05f988b23cb\",\"product_id\":\"7c1bd920dbdf22470b68bde975dd3ccf\",\"score\":0.002337662,\"rank\":7},{\"customer_unique_id\":\"871766c5855e863f6eccc05f988b23cb\",\"product_id\":\"18486698933fbb64af6c0a255f7dd64c\",\"score\":0.0018181813,\"rank\":8},{\"customer_unique_id\":\"871766c5855e863f6eccc05f988b23cb\",\"product_id\":\"f4f67ccaece962d013a4e1d7dc3a61f7\",\"score\":0.0015999997,\"rank\":9},{\"customer_unique_id\":\"871766c5855e863f6eccc05f988b23cb\",\"product_id\":\"7ba74f993dca27160dc49880d9ac56b2\",\"score\":0.0015384614,\"rank\":10},{\"customer_unique_id\":\"871766c5855e863f6eccc05f988b23cb\",\"product_id\":\"154e7e31ebfa092203795c972e5804a6\",\"score\":0.0067212236,\"rank\":1},{\"customer_unique_id\":\"871766c5855e863f6eccc05f988b23cb\",\"product_id\":\"36f60d45225e60c7da4558b070ce4b60\",\"score\":0.0060527384,\"rank\":2},{\"customer_unique_id\":\"871766c5855e863f6eccc05f988b23cb\",\"product_id\":\"2b4609f8948be18874494203496bc318\",\"score\":0.0043835616,\"rank\":3},{\"customer_unique_id\":\"871766c5855e863f6eccc05f988b23cb\",\"product_id\":\"e53e557d5a159f5aa2c5e995dfdf244b\",\"score\":0.0032941175,\"rank\":4},{\"customer_unique_id\":\"871766c5855e863f6eccc05f988b23cb\",\"product_id\":\"b1acb7e8152c90c9619897753a75c973\",\"score\":0.0032536769,\"rank\":5},{\"customer_unique_id\":\"871766c5855e863f6eccc05f988b23cb\",\"product_id\":\"3f14d740544f37ece8a9e7bc8349797e\",\"score\":0.002758621,\"rank\":6},{\"customer_unique_id\":\"871766c5855e863f6eccc05f988b23cb\",\"product_id\":\"7c1bd920dbdf22470b68bde975dd3ccf\",\"score\":0.002337662,\"rank\":7},{\"customer_unique_id\":\"871766c5855e863f6eccc05f988b23cb\",\"product_id\":\"18486698933fbb64af6c0a255f7dd64c\",\"score\":0.0018181813,\"rank\":8},{\"customer_unique_id\":\"871766c5855e863f6eccc05f988b23cb\",\"product_id\":\"f4f67ccaece962d013a4e1d7dc3a61f7\",\"score\":0.0015999997,\"rank\":9},{\"customer_unique_id\":\"871766c5855e863f6eccc05f988b23cb\",\"product_id\":\"7ba74f993dca27160dc49880d9ac56b2\",\"score\":0.0015384614,\"rank\":10}]\n"
     ]
    }
   ],
   "source": [
    "import urllib\n",
    "import requests\n",
    "import ast\n",
    "\n",
    "# The URL will need to the edited if ACI or AKS service\n",
    "url_aci = local_service.scoring_uri\n",
    "\n",
    "headers = {'Content-Type':'application/json'}\n",
    "body = test_load2\n",
    "\n",
    "req = urllib.request.Request(url_aci, str.encode(body), headers)\n",
    "response = ast.literal_eval(urllib.request.urlopen(req).read().decode('utf-8'))\n",
    "\n",
    "print(response)\n"
   ]
  },
  {
   "cell_type": "markdown",
   "metadata": {},
   "source": [
    "# 7. Deploy to Azure Container Instance"
   ]
  },
  {
   "cell_type": "code",
   "execution_count": 87,
   "metadata": {},
   "outputs": [
    {
     "name": "stderr",
     "output_type": "stream",
     "text": [
      "/tmp/ipykernel_64236/1052589028.py:5: FutureWarning: azureml.core.model:\n",
      "To leverage new model deployment capabilities, AzureML recommends using CLI/SDK v2 to deploy models as online endpoint, \n",
      "please refer to respective documentations \n",
      "https://docs.microsoft.com/azure/machine-learning/how-to-deploy-managed-online-endpoints /\n",
      "https://docs.microsoft.com/azure/machine-learning/how-to-attach-kubernetes-anywhere \n",
      "For more information on migration, see https://aka.ms/acimoemigration. \n",
      "To disable CLI/SDK v1 deprecation warning set AZUREML_LOG_DEPRECATION_WARNING_ENABLED to 'False'\n",
      "  aci_service = Model.deploy(ws, \"aci-service\", [azmodel_s, azmodel_r], inference_config, deployment_config, overwrite=True)\n"
     ]
    },
    {
     "name": "stdout",
     "output_type": "stream",
     "text": [
      "Tips: You can try get_logs(): https://aka.ms/debugimage#dockerlog or local deployment: https://aka.ms/debugimage#debug-locally to debug if deployment takes longer than 10 minutes.\n",
      "Running\n",
      "2023-02-03 19:46:04+00:00 Creating Container Registry if not exists.\n",
      "2023-02-03 19:46:05+00:00 Registering the environment.\n",
      "2023-02-03 19:46:05+00:00 Use the existing image.\n",
      "2023-02-03 19:46:05+00:00 Generating deployment configuration.\n",
      "2023-02-03 19:46:08+00:00 Submitting deployment to compute.\n",
      "2023-02-03 19:46:12+00:00 Checking the status of deployment aci-service..\n",
      "2023-02-03 19:50:11+00:00 Checking the status of inference endpoint aci-service.\n",
      "Succeeded\n",
      "ACI service creation operation finished, operation \"Succeeded\"\n"
     ]
    }
   ],
   "source": [
    "inference_config = InferenceConfig(entry_script=DEPLOY_DIR+\"score.py\",environment=myenv)\n",
    "\n",
    "deployment_config = AciWebservice.deploy_configuration(cpu_cores=1, memory_gb=1)\n",
    "\n",
    "aci_service = Model.deploy(ws, \"aci-service\", [azmodel_s, azmodel_r], inference_config, deployment_config, overwrite=True)\n",
    "\n",
    "aci_service.wait_for_deployment(show_output=True)"
   ]
  },
  {
   "cell_type": "markdown",
   "metadata": {},
   "source": [
    "## Test ACI URL API Endpoint"
   ]
  },
  {
   "cell_type": "code",
   "execution_count": 88,
   "metadata": {},
   "outputs": [
    {
     "data": {
      "text/plain": [
       "'http://f2b2eff3-4b12-4f4f-9273-7de5852f0a36.eastus.azurecontainer.io/score'"
      ]
     },
     "execution_count": 88,
     "metadata": {},
     "output_type": "execute_result"
    }
   ],
   "source": [
    "aci_service.scoring_uri"
   ]
  },
  {
   "cell_type": "code",
   "execution_count": 89,
   "metadata": {},
   "outputs": [
    {
     "name": "stdout",
     "output_type": "stream",
     "text": [
      "[{\"customer_unique_id\":\"871766c5855e863f6eccc05f988b23cb\",\"product_id\":\"154e7e31ebfa092203795c972e5804a6\",\"score\":0.0067212236,\"rank\":1},{\"customer_unique_id\":\"871766c5855e863f6eccc05f988b23cb\",\"product_id\":\"36f60d45225e60c7da4558b070ce4b60\",\"score\":0.0060527384,\"rank\":2},{\"customer_unique_id\":\"871766c5855e863f6eccc05f988b23cb\",\"product_id\":\"2b4609f8948be18874494203496bc318\",\"score\":0.0043835616,\"rank\":3},{\"customer_unique_id\":\"871766c5855e863f6eccc05f988b23cb\",\"product_id\":\"e53e557d5a159f5aa2c5e995dfdf244b\",\"score\":0.0032941175,\"rank\":4},{\"customer_unique_id\":\"871766c5855e863f6eccc05f988b23cb\",\"product_id\":\"b1acb7e8152c90c9619897753a75c973\",\"score\":0.0032536769,\"rank\":5},{\"customer_unique_id\":\"871766c5855e863f6eccc05f988b23cb\",\"product_id\":\"3f14d740544f37ece8a9e7bc8349797e\",\"score\":0.002758621,\"rank\":6},{\"customer_unique_id\":\"871766c5855e863f6eccc05f988b23cb\",\"product_id\":\"7c1bd920dbdf22470b68bde975dd3ccf\",\"score\":0.002337662,\"rank\":7},{\"customer_unique_id\":\"871766c5855e863f6eccc05f988b23cb\",\"product_id\":\"18486698933fbb64af6c0a255f7dd64c\",\"score\":0.0018181813,\"rank\":8},{\"customer_unique_id\":\"871766c5855e863f6eccc05f988b23cb\",\"product_id\":\"f4f67ccaece962d013a4e1d7dc3a61f7\",\"score\":0.0015999997,\"rank\":9},{\"customer_unique_id\":\"871766c5855e863f6eccc05f988b23cb\",\"product_id\":\"7ba74f993dca27160dc49880d9ac56b2\",\"score\":0.0015384614,\"rank\":10},{\"customer_unique_id\":\"871766c5855e863f6eccc05f988b23cb\",\"product_id\":\"154e7e31ebfa092203795c972e5804a6\",\"score\":0.0067212236,\"rank\":1},{\"customer_unique_id\":\"871766c5855e863f6eccc05f988b23cb\",\"product_id\":\"36f60d45225e60c7da4558b070ce4b60\",\"score\":0.0060527384,\"rank\":2},{\"customer_unique_id\":\"871766c5855e863f6eccc05f988b23cb\",\"product_id\":\"2b4609f8948be18874494203496bc318\",\"score\":0.0043835616,\"rank\":3},{\"customer_unique_id\":\"871766c5855e863f6eccc05f988b23cb\",\"product_id\":\"e53e557d5a159f5aa2c5e995dfdf244b\",\"score\":0.0032941175,\"rank\":4},{\"customer_unique_id\":\"871766c5855e863f6eccc05f988b23cb\",\"product_id\":\"b1acb7e8152c90c9619897753a75c973\",\"score\":0.0032536769,\"rank\":5},{\"customer_unique_id\":\"871766c5855e863f6eccc05f988b23cb\",\"product_id\":\"3f14d740544f37ece8a9e7bc8349797e\",\"score\":0.002758621,\"rank\":6},{\"customer_unique_id\":\"871766c5855e863f6eccc05f988b23cb\",\"product_id\":\"7c1bd920dbdf22470b68bde975dd3ccf\",\"score\":0.002337662,\"rank\":7},{\"customer_unique_id\":\"871766c5855e863f6eccc05f988b23cb\",\"product_id\":\"18486698933fbb64af6c0a255f7dd64c\",\"score\":0.0018181813,\"rank\":8},{\"customer_unique_id\":\"871766c5855e863f6eccc05f988b23cb\",\"product_id\":\"f4f67ccaece962d013a4e1d7dc3a61f7\",\"score\":0.0015999997,\"rank\":9},{\"customer_unique_id\":\"871766c5855e863f6eccc05f988b23cb\",\"product_id\":\"7ba74f993dca27160dc49880d9ac56b2\",\"score\":0.0015384614,\"rank\":10}]\n"
     ]
    }
   ],
   "source": [
    "import urllib\n",
    "import requests\n",
    "import ast\n",
    "\n",
    "# The URL will need to the edited if ACI or AKS service\n",
    "url_aci = aci_service.scoring_uri\n",
    "\n",
    "headers = {'Content-Type':'application/json'}\n",
    "body = test_load2\n",
    "\n",
    "req = urllib.request.Request(url_aci, str.encode(body), headers)\n",
    "response = ast.literal_eval(urllib.request.urlopen(req).read().decode('utf-8'))\n",
    "\n",
    "print(response)\n"
   ]
  },
  {
   "cell_type": "code",
   "execution_count": 90,
   "metadata": {},
   "outputs": [],
   "source": [
    "aci_service.delete()"
   ]
  },
  {
   "cell_type": "markdown",
   "metadata": {
    "application/vnd.databricks.v1+cell": {
     "cellMetadata": {},
     "inputWidgets": {},
     "nuid": "628be469-ce99-45cb-96e0-80e652f9fe24",
     "showTitle": false,
     "title": ""
    }
   },
   "source": [
    "# 8. Deploy to Production -  managed AKS Cluster\n",
    "\n",
    "Details for SSL and more best practices for production here: https://github.com/Azure/MachineLearningNotebooks/blob/master/how-to-use-azureml/deployment/production-deploy-to-aks/production-deploy-to-aks.ipynb"
   ]
  },
  {
   "cell_type": "code",
   "execution_count": 91,
   "metadata": {
    "application/vnd.databricks.v1+cell": {
     "cellMetadata": {},
     "inputWidgets": {},
     "nuid": "e2e85cda-818a-4e66-892f-5ca0b08692c5",
     "showTitle": false,
     "title": ""
    }
   },
   "outputs": [
    {
     "name": "stdout",
     "output_type": "stream",
     "text": [
      "InProgress........................................................................................................................................................................................................................................\n",
      "SucceededProvisioning operation finished, operation \"Succeeded\"\n"
     ]
    }
   ],
   "source": [
    "# Choose a name for your AKS cluster\n",
    "aks_name = 'my-aks'\n",
    "\n",
    "# Verify that cluster does not exist already\n",
    "try:\n",
    "    aks_target = ComputeTarget(workspace=ws, name=aks_name)\n",
    "    print('Found existing cluster, use it.')\n",
    "except ComputeTargetException:\n",
    "    # Use the default configuration (can also provide parameters to customize)\n",
    "    # https://learn.microsoft.com/en-us/python/api/azureml-core/azureml.core.compute.aks.akscompute?view=azure-ml-py\n",
    "    prov_config = AksCompute.provisioning_configuration()\n",
    "\n",
    "    # Create the cluster\n",
    "    aks_target = ComputeTarget.create(workspace = ws, \n",
    "                                    name = aks_name, \n",
    "                                    provisioning_configuration = prov_config)\n",
    "\n",
    "if aks_target.get_status() != \"Succeeded\":\n",
    "    aks_target.wait_for_completion(show_output=True)"
   ]
  },
  {
   "cell_type": "code",
   "execution_count": null,
   "metadata": {
    "application/vnd.databricks.v1+cell": {
     "cellMetadata": {},
     "inputWidgets": {},
     "nuid": "2d17f34a-a1b5-4632-b3a5-c8643ac948bf",
     "showTitle": false,
     "title": ""
    }
   },
   "outputs": [],
   "source": [
    "# Set the web service configuration (using default here)\n",
    "# https://learn.microsoft.com/en-us/python/api/azureml-core/azureml.core.webservice.akswebservice?view=azure-ml-py#azureml-core-webservice-akswebservice-deploy-configuration\n",
    "aks_config = AksWebservice.deploy_configuration()\n",
    "\n",
    "# # Enable token auth and disable (key) auth on the webservice\n",
    "# aks_config = AksWebservice.deploy_configuration(token_auth_enabled=True, auth_enabled=False)"
   ]
  },
  {
   "cell_type": "code",
   "execution_count": null,
   "metadata": {
    "application/vnd.databricks.v1+cell": {
     "cellMetadata": {},
     "inputWidgets": {},
     "nuid": "56b7c922-2406-458c-9216-b25ae925426b",
     "showTitle": false,
     "title": ""
    }
   },
   "outputs": [],
   "source": [
    "%%time\n",
    "\n",
    "aks_service_name ='aks-service'\n",
    "\n",
    "aks_service = Model.deploy(workspace=ws,\n",
    "                           name=aks_service_name,\n",
    "                           models=[azmodel_s, azmodel_r],\n",
    "                           inference_config=inference_config,\n",
    "                           deployment_config=aks_config,\n",
    "                           deployment_target=aks_target,\n",
    "                           overwrite=True)\n",
    "\n",
    "aks_service.wait_for_deployment(show_output = True)\n",
    "print(aks_service.state)"
   ]
  },
  {
   "cell_type": "markdown",
   "metadata": {
    "application/vnd.databricks.v1+cell": {
     "cellMetadata": {},
     "inputWidgets": {},
     "nuid": "d5350a07-b3fa-4a36-a6b7-b83ce515fdfb",
     "showTitle": false,
     "title": ""
    }
   },
   "source": [
    "# 8. Test the web service using raw HTTP request"
   ]
  },
  {
   "cell_type": "code",
   "execution_count": null,
   "metadata": {
    "application/vnd.databricks.v1+cell": {
     "cellMetadata": {},
     "inputWidgets": {},
     "nuid": "5935a168-462a-4ffc-b823-28fd9ae03a14",
     "showTitle": false,
     "title": ""
    }
   },
   "outputs": [],
   "source": [
    "# # if (key) auth is enabled, retrieve the API keys. AML generates two keys.\n",
    "key1, Key2 = aks_service.get_keys()\n",
    "print(key1)\n",
    "\n",
    "# # if token auth is enabled, retrieve the token.\n",
    "# access_token, refresh_after = aks_service.get_token()"
   ]
  },
  {
   "cell_type": "code",
   "execution_count": null,
   "metadata": {
    "application/vnd.databricks.v1+cell": {
     "cellMetadata": {},
     "inputWidgets": {},
     "nuid": "527fee7d-2a9d-4574-b291-579a7de30f7f",
     "showTitle": false,
     "title": ""
    }
   },
   "outputs": [],
   "source": [
    "print(aks_service.scoring_uri)"
   ]
  },
  {
   "cell_type": "code",
   "execution_count": null,
   "metadata": {
    "application/vnd.databricks.v1+cell": {
     "cellMetadata": {},
     "inputWidgets": {},
     "nuid": "e8627124-39dc-47e7-b4c0-6f20bdfd5ee8",
     "showTitle": false,
     "title": ""
    }
   },
   "outputs": [],
   "source": [
    "apiurl = aks_service.scoring_uri\n",
    "key = key1\n",
    "# key = \"G46wSFtiiAFlCHHi0beyU29ceaB2dPRS\"\n",
    "# apiurl = \"http://20.114.104.171:80/api/v1/service/aks-service/score\""
   ]
  },
  {
   "cell_type": "code",
   "execution_count": null,
   "metadata": {
    "application/vnd.databricks.v1+cell": {
     "cellMetadata": {},
     "inputWidgets": {},
     "nuid": "abf7b0ae-8e78-47ae-a0be-5388b3c11d83",
     "showTitle": false,
     "title": ""
    }
   },
   "outputs": [],
   "source": [
    "%%time\n",
    "\n",
    "# # If (key) auth is enabled, don't forget to add key to the HTTP header.\n",
    "headers = {'Content-Type':'application/json', 'Authorization': 'Bearer ' + key}\n",
    "\n",
    "# # If token auth is enabled, don't forget to add token to the HTTP header.\n",
    "# headers = {'Content-Type':'application/json', 'Authorization': 'Bearer ' + access_token}\n",
    "\n",
    "resp = requests.post(apiurl, bytes(test_load1,encoding = 'utf8'), headers=headers)\n",
    "\n",
    "print(ast.literal_eval(resp.text))"
   ]
  },
  {
   "cell_type": "code",
   "execution_count": null,
   "metadata": {
    "application/vnd.databricks.v1+cell": {
     "cellMetadata": {},
     "inputWidgets": {},
     "nuid": "c4d4e31e-bd4e-4700-93f7-318ff85dc11f",
     "showTitle": false,
     "title": ""
    }
   },
   "outputs": [],
   "source": [
    "aks_service.delete()"
   ]
  },
  {
   "cell_type": "code",
   "execution_count": null,
   "metadata": {
    "application/vnd.databricks.v1+cell": {
     "cellMetadata": {},
     "inputWidgets": {},
     "nuid": "7c6a85a9-560d-4677-8b2b-5f8bbd27d773",
     "showTitle": false,
     "title": ""
    }
   },
   "outputs": [],
   "source": [
    "# aks_service.get_logs()"
   ]
  }
 ],
 "metadata": {
  "application/vnd.databricks.v1+notebook": {
   "dashboards": [],
   "language": "python",
   "notebookMetadata": {
    "pythonIndentUnit": 4
   },
   "notebookName": "Deploy-AzureML",
   "notebookOrigID": 4076937798675624,
   "widgets": {}
  },
  "kernelspec": {
   "display_name": "Python 3.8 - AzureML",
   "language": "python",
   "name": "python38-azureml"
  },
  "language_info": {
   "codemirror_mode": {
    "name": "ipython",
    "version": 3
   },
   "file_extension": ".py",
   "mimetype": "text/x-python",
   "name": "python",
   "nbconvert_exporter": "python",
   "pygments_lexer": "ipython3",
   "version": "3.8.10"
  }
 },
 "nbformat": 4,
 "nbformat_minor": 4
}
