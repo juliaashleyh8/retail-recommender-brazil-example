{
 "cells": [
  {
   "cell_type": "code",
   "execution_count": 26,
   "metadata": {
    "application/vnd.databricks.v1+cell": {
     "cellMetadata": {},
     "inputWidgets": {},
     "nuid": "f4f70a0e-aab5-435c-85d4-a159ad521686",
     "showTitle": false,
     "title": ""
    }
   },
   "outputs": [],
   "source": [
    "import os\n",
    "import pandas as pd\n",
    "import pickle\n",
    "import json\n",
    "import requests\n",
    "import ast\n",
    "\n",
    "import turicreate\n",
    "from turicreate import SFrame\n",
    "\n",
    "import azureml.core\n",
    "from azureml.core import Workspace\n",
    "from azureml.core.model import Model, InferenceConfig\n",
    "from azureml.core.environment import Environment\n",
    "from azureml.core.conda_dependencies import CondaDependencies\n",
    "from azureml.core.webservice import AciWebservice, LocalWebservice, Webservice,  AksWebservice\n",
    "from azureml.core.compute import AksCompute, ComputeTarget\n",
    "from azureml.core.compute_target import ComputeTargetException"
   ]
  },
  {
   "cell_type": "code",
   "execution_count": 27,
   "metadata": {
    "application/vnd.databricks.v1+cell": {
     "cellMetadata": {},
     "inputWidgets": {},
     "nuid": "d00ae97c-a266-41bf-8bd5-50ff421ec21a",
     "showTitle": false,
     "title": ""
    }
   },
   "outputs": [
    {
     "name": "stdout",
     "output_type": "stream",
     "text": [
      "AZML SDK Version: 1.48.0\n",
      "Pandas Version: 1.1.5\n"
     ]
    }
   ],
   "source": [
    "print(\"AZML SDK Version:\", azureml.core.VERSION)\n",
    "print(\"Pandas Version:\", pd.__version__)"
   ]
  },
  {
   "cell_type": "code",
   "execution_count": 28,
   "metadata": {
    "application/vnd.databricks.v1+cell": {
     "cellMetadata": {},
     "inputWidgets": {},
     "nuid": "01b45487-e58e-4d09-92fa-d2f1fef357e5",
     "showTitle": false,
     "title": ""
    }
   },
   "outputs": [],
   "source": [
    "# If in Databricks\n",
    "# OUTPUT_DIR = \"/dbfs/FileStore/RetailRecommender/output/\"\n",
    "# MODELS_DIR = \"/dbfs/FileStore/RetailRecommender/models/\"\n",
    "# DEPLOY_DIR = \"/dbfs/FileStore/RetailRecommender/deploy/\"\n",
    "\n",
    "OUTPUT_DIR = \"./output/\"\n",
    "MODELS_DIR = \"./models/\"\n",
    "DEPLOY_DIR = \"./deploy/\"\n",
    "\n",
    "os.makedirs(DEPLOY_DIR, exist_ok=True)"
   ]
  },
  {
   "cell_type": "markdown",
   "metadata": {
    "application/vnd.databricks.v1+cell": {
     "cellMetadata": {},
     "inputWidgets": {},
     "nuid": "3588ac59-16f6-47a8-b4b5-2fcef153814e",
     "showTitle": false,
     "title": ""
    }
   },
   "source": [
    "# 1. Load the AML Workspace"
   ]
  },
  {
   "cell_type": "code",
   "execution_count": 29,
   "metadata": {
    "application/vnd.databricks.v1+cell": {
     "cellMetadata": {},
     "inputWidgets": {},
     "nuid": "04ac2723-ea80-402d-812d-6b4b495ac334",
     "showTitle": false,
     "title": ""
    }
   },
   "outputs": [
    {
     "name": "stdout",
     "output_type": "stream",
     "text": [
      "RRBrazilex\n",
      "retail-rec-brazil-ex\n",
      "eastus\n",
      "2f8a2563-4e90-4a88-8e6c-56fa0f12cb7e\n"
     ]
    }
   ],
   "source": [
    "ws = Workspace(workspace_name=\"RRBrazilex\", \n",
    "                subscription_id=\"2f8a2563-4e90-4a88-8e6c-56fa0f12cb7e\", \n",
    "                resource_group=\"retail-rec-brazil-ex\")\n",
    "\n",
    "# ws = Workspace(workspace_name=\"YOUR_WORKSPACE_NAME\", \n",
    "#                 subscription_id=\"YOUR_SUBSCRIPTION_ID\", \n",
    "#                 resource_group=\"YOUR_RESOURCE_GROUP\")\n",
    "print(ws.name, ws.resource_group, ws.location, ws.subscription_id, sep = \"\\n\")"
   ]
  },
  {
   "cell_type": "markdown",
   "metadata": {
    "application/vnd.databricks.v1+cell": {
     "cellMetadata": {},
     "inputWidgets": {},
     "nuid": "43cc05e2-217a-44bc-be89-a9c8898460f3",
     "showTitle": false,
     "title": ""
    }
   },
   "source": [
    "# 2. Register the Models on AZML service model registry"
   ]
  },
  {
   "cell_type": "code",
   "execution_count": 30,
   "metadata": {
    "application/vnd.databricks.v1+cell": {
     "cellMetadata": {},
     "inputWidgets": {},
     "nuid": "ac25fdce-ebd0-4385-97af-3f7114d95576",
     "showTitle": false,
     "title": ""
    }
   },
   "outputs": [],
   "source": [
    "model_s_path = MODELS_DIR + \"recommendation_s.model\"\n",
    "model_r_path = MODELS_DIR + \"recommendation_r.model\""
   ]
  },
  {
   "cell_type": "code",
   "execution_count": 31,
   "metadata": {
    "application/vnd.databricks.v1+cell": {
     "cellMetadata": {},
     "inputWidgets": {},
     "nuid": "4ba551bd-cd1b-480b-a738-989ff775a4fe",
     "showTitle": false,
     "title": ""
    }
   },
   "outputs": [
    {
     "name": "stdout",
     "output_type": "stream",
     "text": [
      "Registering model similarity_model\n",
      "Registering model ranking_factorization_model\n"
     ]
    }
   ],
   "source": [
    "azmodel_s = Model.register( model_path = model_s_path,\n",
    "                           model_name = \"similarity_model\",\n",
    "                           workspace = ws)\n",
    "\n",
    "azmodel_r = Model.register( model_path = model_r_path,\n",
    "                           model_name = \"ranking_factorization_model\",\n",
    "                           workspace = ws)"
   ]
  },
  {
   "cell_type": "markdown",
   "metadata": {
    "application/vnd.databricks.v1+cell": {
     "cellMetadata": {},
     "inputWidgets": {},
     "nuid": "fdbabb99-6cd9-4c63-b27a-e114c53deb7f",
     "showTitle": false,
     "title": ""
    }
   },
   "source": [
    "# 3. Test score.py init() and run() functions"
   ]
  },
  {
   "cell_type": "code",
   "execution_count": 33,
   "metadata": {
    "application/vnd.databricks.v1+cell": {
     "cellMetadata": {},
     "inputWidgets": {},
     "nuid": "7e83ca76-958a-4ac6-a2ed-6d6887d29764",
     "showTitle": false,
     "title": ""
    }
   },
   "outputs": [],
   "source": [
    "import os\n",
    "\n",
    "def init():\n",
    "    \n",
    "    global model_s\n",
    "    global model_r\n",
    "    global product_column_name\n",
    "    global customer_column_name\n",
    "    global reviewscore_column_name\n",
    "    \n",
    "    order_column_name = \"order_id\"\n",
    "    product_column_name = \"product_id\"\n",
    "    timestamp_column_name = \"order_purchase_timestamp\"\n",
    "    category_column_name = \"product_category_name_english\"\n",
    "    reviewscore_column_name = \"review_score\"\n",
    "    customer_column_name = \"customer_unique_id\"\n",
    "    customer_city_column_name = \"customer_city\"\n",
    "    \n",
    "    model_s = turicreate.load_model(model_s_path)\n",
    "    model_r = turicreate.load_model(model_r_path)\n",
    "    "
   ]
  },
  {
   "cell_type": "code",
   "execution_count": 34,
   "metadata": {
    "application/vnd.databricks.v1+cell": {
     "cellMetadata": {},
     "inputWidgets": {},
     "nuid": "7b5e717a-1136-470c-b1ac-e746c7e6d5a9",
     "showTitle": false,
     "title": ""
    }
   },
   "outputs": [],
   "source": [
    "def run(raw_data):\n",
    "    \n",
    "    data = json.loads(raw_data)\n",
    "    data = pd.DataFrame(data).to_dict(orient=\"list\")\n",
    "\n",
    "    try:\n",
    "        if customer_column_name in data:\n",
    "            print(customer_column_name + \" found\")\n",
    "            \n",
    "            # If observation side data exists\n",
    "            if (\"period\" or \"month\" or \"weekday\") in data:\n",
    "                print(\"Using Ranking Factorization Model\\n\")\n",
    "                users_query = turicreate.SFrame(\n",
    "                    {\"visitorid\": data[customer_column_name], \n",
    "                    \"period\": data[\"period\"] if \"period\" in data else [\"Night\"] * len(data[customer_column_name]),\n",
    "                    \"month\": data[\"month\"] if \"month\" in data else [8] * len(data[customer_column_name]),\n",
    "                    \"weekday\": data[\"weekday\"] if \"weekday\" in data else [2] * len(data[customer_column_name])\n",
    "                    }\n",
    "                )\n",
    "                result = model_r.recommend(users=users_query, k=10).to_dataframe()\n",
    "                \n",
    "            else:\n",
    "                print(\"Using Similarity Model\\n\")\n",
    "                result = model_s.recommend(users=data[customer_column_name], k=10).to_dataframe()\n",
    "                \n",
    "            if product_column_name in data:\n",
    "                return \"Error: Request cannot have\" + product_column_name + \" and\" + customer_column_name + \" together. Please make separate requests for user recommendations and for items basket similarity\"\n",
    "        \n",
    "        elif product_column_name in data:\n",
    "                print(\"Using Similarity Model\\n\")\n",
    "                result = model_s.get_similar_items(data[product_column_name], k=10).to_dataframe()\n",
    "                \n",
    "        else:\n",
    "            return \"Error: Payload must contain at least a field named \" + customer_column_name + \" or \" + product_column_name\n",
    "    \n",
    "        return result.to_json(orient=\"records\")\n",
    "        \n",
    "    except Exception as e:\n",
    "        return e\n"
   ]
  },
  {
   "cell_type": "code",
   "execution_count": 35,
   "metadata": {
    "application/vnd.databricks.v1+cell": {
     "cellMetadata": {},
     "inputWidgets": {},
     "nuid": "650a1d48-1615-4252-bf34-2eb925ed8b70",
     "showTitle": false,
     "title": ""
    }
   },
   "outputs": [],
   "source": [
    "init()"
   ]
  },
  {
   "cell_type": "code",
   "execution_count": 36,
   "metadata": {
    "application/vnd.databricks.v1+cell": {
     "cellMetadata": {},
     "inputWidgets": {},
     "nuid": "7dc57eda-2933-4f3a-ac7c-bd8635073e59",
     "showTitle": false,
     "title": ""
    }
   },
   "outputs": [],
   "source": [
    "\n",
    "test_load1 = '''\n",
    "    [\n",
    "        {\"visitorid\":6000, \"period\":\"Night\",  \"weekday\":2},\n",
    "        {\"visitorid\":871766c5855e863f6eccc05f988b23cb, \"period\":\"Night\", \"weekday\":2}\n",
    "    ]\n",
    "'''\n",
    "\n",
    "test_load2 = '''\n",
    "    [\n",
    "        {\"visitorid\":6000},\n",
    "        {\"visitorid\":871766c5855e863f6eccc05f988b23cb}\n",
    "    ]\n",
    "'''\n",
    "\n",
    "test_load3 = '''\n",
    "    [\n",
    "        {\"visitorid\":6000,\"period\":\"Night\",  \"weekday\":2 , \"month\": 9},\n",
    "        {\"visitorid\":871766c5855e863f6eccc05f988b23cb,\"period\":\"Night\",  \"weekday\":2 , \"month\": 9}\n",
    "    ]\n",
    "'''\n",
    "\n",
    "test_load4 = '''\n",
    "    [\n",
    "        {\"product_id\":4244733e06e7ecb4970a6e2683c13e61},\n",
    "        {\"product_id\":fdcf45aa23bb8312ecc0027d6e1ef1c4}\n",
    "    ]\n",
    "'''\n"
   ]
  },
  {
   "cell_type": "code",
   "execution_count": 37,
   "metadata": {
    "application/vnd.databricks.v1+cell": {
     "cellMetadata": {},
     "inputWidgets": {},
     "nuid": "0d8a37cd-0898-4efe-b6fb-86a4f7552165",
     "showTitle": false,
     "title": ""
    }
   },
   "outputs": [
    {
     "ename": "JSONDecodeError",
     "evalue": "Expecting ',' delimiter: line 4 column 28 (char 106)",
     "output_type": "error",
     "traceback": [
      "\u001b[0;31m---------------------------------------------------------------------------\u001b[0m",
      "\u001b[0;31mJSONDecodeError\u001b[0m                           Traceback (most recent call last)",
      "Cell \u001b[0;32mIn[37], line 1\u001b[0m\n\u001b[0;32m----> 1\u001b[0m \u001b[43mrun\u001b[49m\u001b[43m(\u001b[49m\u001b[43mtest_load3\u001b[49m\u001b[43m)\u001b[49m\n",
      "Cell \u001b[0;32mIn[34], line 3\u001b[0m, in \u001b[0;36mrun\u001b[0;34m(raw_data)\u001b[0m\n\u001b[1;32m      1\u001b[0m \u001b[38;5;28;01mdef\u001b[39;00m \u001b[38;5;21mrun\u001b[39m(raw_data):\n\u001b[0;32m----> 3\u001b[0m     data \u001b[38;5;241m=\u001b[39m \u001b[43mjson\u001b[49m\u001b[38;5;241;43m.\u001b[39;49m\u001b[43mloads\u001b[49m\u001b[43m(\u001b[49m\u001b[43mraw_data\u001b[49m\u001b[43m)\u001b[49m\n\u001b[1;32m      4\u001b[0m     data \u001b[38;5;241m=\u001b[39m pd\u001b[38;5;241m.\u001b[39mDataFrame(data)\u001b[38;5;241m.\u001b[39mto_dict(orient\u001b[38;5;241m=\u001b[39m\u001b[38;5;124m\"\u001b[39m\u001b[38;5;124mlist\u001b[39m\u001b[38;5;124m\"\u001b[39m)\n\u001b[1;32m      6\u001b[0m     \u001b[38;5;28;01mtry\u001b[39;00m:\n",
      "File \u001b[0;32m/anaconda/envs/azureml_py38/lib/python3.8/json/__init__.py:357\u001b[0m, in \u001b[0;36mloads\u001b[0;34m(s, cls, object_hook, parse_float, parse_int, parse_constant, object_pairs_hook, **kw)\u001b[0m\n\u001b[1;32m    352\u001b[0m     \u001b[38;5;28;01mdel\u001b[39;00m kw[\u001b[38;5;124m'\u001b[39m\u001b[38;5;124mencoding\u001b[39m\u001b[38;5;124m'\u001b[39m]\n\u001b[1;32m    354\u001b[0m \u001b[38;5;28;01mif\u001b[39;00m (\u001b[38;5;28mcls\u001b[39m \u001b[38;5;129;01mis\u001b[39;00m \u001b[38;5;28;01mNone\u001b[39;00m \u001b[38;5;129;01mand\u001b[39;00m object_hook \u001b[38;5;129;01mis\u001b[39;00m \u001b[38;5;28;01mNone\u001b[39;00m \u001b[38;5;129;01mand\u001b[39;00m\n\u001b[1;32m    355\u001b[0m         parse_int \u001b[38;5;129;01mis\u001b[39;00m \u001b[38;5;28;01mNone\u001b[39;00m \u001b[38;5;129;01mand\u001b[39;00m parse_float \u001b[38;5;129;01mis\u001b[39;00m \u001b[38;5;28;01mNone\u001b[39;00m \u001b[38;5;129;01mand\u001b[39;00m\n\u001b[1;32m    356\u001b[0m         parse_constant \u001b[38;5;129;01mis\u001b[39;00m \u001b[38;5;28;01mNone\u001b[39;00m \u001b[38;5;129;01mand\u001b[39;00m object_pairs_hook \u001b[38;5;129;01mis\u001b[39;00m \u001b[38;5;28;01mNone\u001b[39;00m \u001b[38;5;129;01mand\u001b[39;00m \u001b[38;5;129;01mnot\u001b[39;00m kw):\n\u001b[0;32m--> 357\u001b[0m     \u001b[38;5;28;01mreturn\u001b[39;00m \u001b[43m_default_decoder\u001b[49m\u001b[38;5;241;43m.\u001b[39;49m\u001b[43mdecode\u001b[49m\u001b[43m(\u001b[49m\u001b[43ms\u001b[49m\u001b[43m)\u001b[49m\n\u001b[1;32m    358\u001b[0m \u001b[38;5;28;01mif\u001b[39;00m \u001b[38;5;28mcls\u001b[39m \u001b[38;5;129;01mis\u001b[39;00m \u001b[38;5;28;01mNone\u001b[39;00m:\n\u001b[1;32m    359\u001b[0m     \u001b[38;5;28mcls\u001b[39m \u001b[38;5;241m=\u001b[39m JSONDecoder\n",
      "File \u001b[0;32m/anaconda/envs/azureml_py38/lib/python3.8/json/decoder.py:337\u001b[0m, in \u001b[0;36mJSONDecoder.decode\u001b[0;34m(self, s, _w)\u001b[0m\n\u001b[1;32m    332\u001b[0m \u001b[38;5;28;01mdef\u001b[39;00m \u001b[38;5;21mdecode\u001b[39m(\u001b[38;5;28mself\u001b[39m, s, _w\u001b[38;5;241m=\u001b[39mWHITESPACE\u001b[38;5;241m.\u001b[39mmatch):\n\u001b[1;32m    333\u001b[0m     \u001b[38;5;124;03m\"\"\"Return the Python representation of ``s`` (a ``str`` instance\u001b[39;00m\n\u001b[1;32m    334\u001b[0m \u001b[38;5;124;03m    containing a JSON document).\u001b[39;00m\n\u001b[1;32m    335\u001b[0m \n\u001b[1;32m    336\u001b[0m \u001b[38;5;124;03m    \"\"\"\u001b[39;00m\n\u001b[0;32m--> 337\u001b[0m     obj, end \u001b[38;5;241m=\u001b[39m \u001b[38;5;28;43mself\u001b[39;49m\u001b[38;5;241;43m.\u001b[39;49m\u001b[43mraw_decode\u001b[49m\u001b[43m(\u001b[49m\u001b[43ms\u001b[49m\u001b[43m,\u001b[49m\u001b[43m \u001b[49m\u001b[43midx\u001b[49m\u001b[38;5;241;43m=\u001b[39;49m\u001b[43m_w\u001b[49m\u001b[43m(\u001b[49m\u001b[43ms\u001b[49m\u001b[43m,\u001b[49m\u001b[43m \u001b[49m\u001b[38;5;241;43m0\u001b[39;49m\u001b[43m)\u001b[49m\u001b[38;5;241;43m.\u001b[39;49m\u001b[43mend\u001b[49m\u001b[43m(\u001b[49m\u001b[43m)\u001b[49m\u001b[43m)\u001b[49m\n\u001b[1;32m    338\u001b[0m     end \u001b[38;5;241m=\u001b[39m _w(s, end)\u001b[38;5;241m.\u001b[39mend()\n\u001b[1;32m    339\u001b[0m     \u001b[38;5;28;01mif\u001b[39;00m end \u001b[38;5;241m!=\u001b[39m \u001b[38;5;28mlen\u001b[39m(s):\n",
      "File \u001b[0;32m/anaconda/envs/azureml_py38/lib/python3.8/json/decoder.py:353\u001b[0m, in \u001b[0;36mJSONDecoder.raw_decode\u001b[0;34m(self, s, idx)\u001b[0m\n\u001b[1;32m    344\u001b[0m \u001b[38;5;124;03m\"\"\"Decode a JSON document from ``s`` (a ``str`` beginning with\u001b[39;00m\n\u001b[1;32m    345\u001b[0m \u001b[38;5;124;03ma JSON document) and return a 2-tuple of the Python\u001b[39;00m\n\u001b[1;32m    346\u001b[0m \u001b[38;5;124;03mrepresentation and the index in ``s`` where the document ended.\u001b[39;00m\n\u001b[0;32m   (...)\u001b[0m\n\u001b[1;32m    350\u001b[0m \n\u001b[1;32m    351\u001b[0m \u001b[38;5;124;03m\"\"\"\u001b[39;00m\n\u001b[1;32m    352\u001b[0m \u001b[38;5;28;01mtry\u001b[39;00m:\n\u001b[0;32m--> 353\u001b[0m     obj, end \u001b[38;5;241m=\u001b[39m \u001b[38;5;28;43mself\u001b[39;49m\u001b[38;5;241;43m.\u001b[39;49m\u001b[43mscan_once\u001b[49m\u001b[43m(\u001b[49m\u001b[43ms\u001b[49m\u001b[43m,\u001b[49m\u001b[43m \u001b[49m\u001b[43midx\u001b[49m\u001b[43m)\u001b[49m\n\u001b[1;32m    354\u001b[0m \u001b[38;5;28;01mexcept\u001b[39;00m \u001b[38;5;167;01mStopIteration\u001b[39;00m \u001b[38;5;28;01mas\u001b[39;00m err:\n\u001b[1;32m    355\u001b[0m     \u001b[38;5;28;01mraise\u001b[39;00m JSONDecodeError(\u001b[38;5;124m\"\u001b[39m\u001b[38;5;124mExpecting value\u001b[39m\u001b[38;5;124m\"\u001b[39m, s, err\u001b[38;5;241m.\u001b[39mvalue) \u001b[38;5;28;01mfrom\u001b[39;00m \u001b[38;5;28mNone\u001b[39m\n",
      "\u001b[0;31mJSONDecodeError\u001b[0m: Expecting ',' delimiter: line 4 column 28 (char 106)"
     ]
    }
   ],
   "source": [
    "run(test_load3)"
   ]
  },
  {
   "cell_type": "code",
   "execution_count": 17,
   "metadata": {
    "application/vnd.databricks.v1+cell": {
     "cellMetadata": {},
     "inputWidgets": {},
     "nuid": "73407d3b-57a2-4c5c-85f9-37609b786f9d",
     "showTitle": false,
     "title": ""
    }
   },
   "outputs": [],
   "source": [
    "# run(test_load4)"
   ]
  },
  {
   "cell_type": "markdown",
   "metadata": {
    "application/vnd.databricks.v1+cell": {
     "cellMetadata": {},
     "inputWidgets": {},
     "nuid": "e8647c79-1631-49cc-93f4-b715ce4b5157",
     "showTitle": false,
     "title": ""
    }
   },
   "source": [
    "# 4. Create Inference Environment"
   ]
  },
  {
   "cell_type": "code",
   "execution_count": 18,
   "metadata": {
    "application/vnd.databricks.v1+cell": {
     "cellMetadata": {},
     "inputWidgets": {},
     "nuid": "21d7aa30-e266-4033-af60-3592d2d56fac",
     "showTitle": false,
     "title": ""
    }
   },
   "outputs": [],
   "source": [
    "# curated_env = Environment.get(workspace=ws, name=\"AzureML-minimal-ubuntu18.04-py37-cpu-inference\")\n",
    "# myenv = curated_env.clone(\"turicreate_env\")\n",
    "\n",
    "conda_dep = CondaDependencies()\n",
    "conda_dep.add_pip_package(\"turicreate\")\n",
    "\n",
    "myenv = Environment(name=\"turicreate_env\")\n",
    "myenv.python.conda_dependencies=conda_dep\n",
    "myenv.inferencing_stack_version = \"latest\"\n",
    "\n",
    "# Register the Environment on AZML so we can retreive it later\n",
    "myenv = myenv.register(workspace=ws)\n",
    "\n",
    "# Uncomment this to re-build the environment\n",
    "# myenv.build(workspace=ws)\n"
   ]
  },
  {
   "cell_type": "markdown",
   "metadata": {
    "application/vnd.databricks.v1+cell": {
     "cellMetadata": {},
     "inputWidgets": {},
     "nuid": "54480d0d-495f-4c5c-92ef-a4a689d61ac1",
     "showTitle": false,
     "title": ""
    }
   },
   "source": [
    "# 5. Create the inference configuration\n",
    "\n",
    "### !!! Make sure that in score.py you set the right model version!!!"
   ]
  },
  {
   "cell_type": "code",
   "execution_count": 19,
   "metadata": {
    "application/vnd.databricks.v1+cell": {
     "cellMetadata": {},
     "inputWidgets": {},
     "nuid": "7e7cd7a7-2d07-4289-ae08-d134b9a6d96f",
     "showTitle": false,
     "title": ""
    }
   },
   "outputs": [
    {
     "name": "stdout",
     "output_type": "stream",
     "text": [
      "score.py written, using ./deploy/score.py\n"
     ]
    }
   ],
   "source": [
    "scorepy_text = '''\n",
    "import os\n",
    "import sys\n",
    "import turicreate\n",
    "from turicreate import SFrame\n",
    "import pandas as pd\n",
    "import json\n",
    "\n",
    "def init():\n",
    "    \n",
    "    global model_s\n",
    "    global model_r\n",
    "    \n",
    "    model_s_name = \"similarity_model\"\n",
    "    model_s_version = \"{S_VERSION}\"\n",
    "    model_s_filename = \"recommendation_s.model\"\n",
    "    \n",
    "    model_r_name = \"ranking_factorization_model\"\n",
    "    model_r_version = \"{R_VERSION}\"  \n",
    "    model_r_filename = \"recommendation_r.model\"\n",
    "    \n",
    "    model_s_path = os.path.join(os.getenv('AZUREML_MODEL_DIR'), model_s_name, model_s_version, model_s_filename)\n",
    "    model_r_path = os.path.join(os.getenv('AZUREML_MODEL_DIR'), model_r_name, model_r_version, model_r_filename)\n",
    "    \n",
    "    print(\"model_s_path\",model_s_path)\n",
    "    print(\"model_r_path\",model_r_path)\n",
    "    \n",
    "    model_s = turicreate.load_model(model_s_path)\n",
    "    model_r = turicreate.load_model(model_r_path)\n",
    "    \n",
    "    \n",
    "def run(raw_data):\n",
    "    \n",
    "    data = json.loads(raw_data)\n",
    "    data = pd.DataFrame(data).to_dict(orient=\"list\")\n",
    "\n",
    "    try:\n",
    "        if \"{USER_ID}\" in data:\n",
    "            print(\"{USER_ID} found\")\n",
    "            \n",
    "            # If observation side data exists\n",
    "            if (\"period\" or \"month\" or \"weekday\") in data:\n",
    "                print(\"Using Ranking Factorization Model\")\n",
    "                users_query = turicreate.SFrame(\n",
    "                    {{\"visitorid\": data[\"{USER_ID}\"], \n",
    "                    \"period\": data[\"period\"] if \"period\" in data else [\"Night\"] * len(data[\"{USER_ID}\"]),\n",
    "                    \"month\": data[\"month\"] if \"month\" in data else [8] * len(data[\"{USER_ID}\"]),\n",
    "                    \"weekday\": data[\"weekday\"] if \"weekday\" in data else [2] * len(data[\"{USER_ID}\"])\n",
    "                    }}\n",
    "                )\n",
    "                result = model_r.recommend(users=users_query, k=10).to_dataframe()\n",
    "                \n",
    "            else:\n",
    "                print(\"Using Similarity Model\")\n",
    "                result = model_s.recommend(users=data[\"{USER_ID}\"], k=10).to_dataframe()\n",
    "                \n",
    "            if \"{ITEM_ID}\" in data:\n",
    "                return \"Error: Request cannot have {USER_ID} and {ITEM_ID} together. Please make separate requests for {USER_ID} recommendations and for {ITEM_ID} basket similarity\"\n",
    "        \n",
    "        elif \"{ITEM_ID}\" in data:\n",
    "                print(\"Using Similarity Model\")\n",
    "                result = model_s.get_similar_items(data[\"{ITEM_ID}\"], k=10).to_dataframe()\n",
    "                \n",
    "        else:\n",
    "            return \"Error: Payload must contain at least a field named {USER_ID} or {ITEM_ID}\"\n",
    "    \n",
    "        return result.to_json(orient=\"records\")\n",
    "        \n",
    "    except Exception as e:\n",
    "        return e\n",
    "\n",
    "'''.format(S_VERSION=1, R_VERSION=1, USER_ID=customer_column_name, ITEM_ID=product_column_name)\n",
    "\n",
    "with open(DEPLOY_DIR+\"score.py\", \"w\") as file:\n",
    "    file.write(scorepy_text)\n",
    "\n",
    "print(\"score.py written, using\",DEPLOY_DIR+\"score.py\")"
   ]
  },
  {
   "cell_type": "code",
   "execution_count": 20,
   "metadata": {
    "application/vnd.databricks.v1+cell": {
     "cellMetadata": {},
     "inputWidgets": {},
     "nuid": "47bae7bf-2127-4c53-b63e-4d3d43f9b800",
     "showTitle": false,
     "title": ""
    }
   },
   "outputs": [
    {
     "name": "stdout",
     "output_type": "stream",
     "text": [
      "\n",
      "import os\n",
      "import sys\n",
      "import turicreate\n",
      "from turicreate import SFrame\n",
      "import pandas as pd\n",
      "import json\n",
      "\n",
      "def init():\n",
      "    \n",
      "    global model_s\n",
      "    global model_r\n",
      "    \n",
      "    model_s_name = \"similarity_model\"\n",
      "    model_s_version = \"1\"\n",
      "    model_s_filename = \"recommendation_s.model\"\n",
      "    \n",
      "    model_r_name = \"ranking_factorization_model\"\n",
      "    model_r_version = \"1\"  \n",
      "    model_r_filename = \"recommendation_r.model\"\n",
      "    \n",
      "    model_s_path = os.path.join(os.getenv('AZUREML_MODEL_DIR'), model_s_name, model_s_version, model_s_filename)\n",
      "    model_r_path = os.path.join(os.getenv('AZUREML_MODEL_DIR'), model_r_name, model_r_version, model_r_filename)\n",
      "    \n",
      "    print(\"model_s_path\",model_s_path)\n",
      "    print(\"model_r_path\",model_r_path)\n",
      "    \n",
      "    model_s = turicreate.load_model(model_s_path)\n",
      "    model_r = turicreate.load_model(model_r_path)\n",
      "    \n",
      "    \n",
      "def run(raw_data):\n",
      "    \n",
      "    data = json.loads(raw_data)\n",
      "    data = pd.DataFrame(data).to_dict(orient=\"list\")\n",
      "\n",
      "    try:\n",
      "        if \"customer_unique_id\" in data:\n",
      "            print(\"customer_unique_id found\")\n",
      "            \n",
      "            # If observation side data exists\n",
      "            if (\"period\" or \"month\" or \"weekday\") in data:\n",
      "                print(\"Using Ranking Factorization Model\")\n",
      "                users_query = turicreate.SFrame(\n",
      "                    {\"visitorid\": data[\"customer_unique_id\"], \n",
      "                    \"period\": data[\"period\"] if \"period\" in data else [\"Night\"] * len(data[\"customer_unique_id\"]),\n",
      "                    \"month\": data[\"month\"] if \"month\" in data else [8] * len(data[\"customer_unique_id\"]),\n",
      "                    \"weekday\": data[\"weekday\"] if \"weekday\" in data else [2] * len(data[\"customer_unique_id\"])\n",
      "                    }\n",
      "                )\n",
      "                result = model_r.recommend(users=users_query, k=10).to_dataframe()\n",
      "                \n",
      "            else:\n",
      "                print(\"Using Similarity Model\")\n",
      "                result = model_s.recommend(users=data[\"customer_unique_id\"], k=10).to_dataframe()\n",
      "                \n",
      "            if \"product_id\" in data:\n",
      "                return \"Error: Request cannot have customer_unique_id and product_id together. Please make separate requests for customer_unique_id recommendations and for product_id basket similarity\"\n",
      "        \n",
      "        elif \"product_id\" in data:\n",
      "                print(\"Using Similarity Model\")\n",
      "                result = model_s.get_similar_items(data[\"product_id\"], k=10).to_dataframe()\n",
      "                \n",
      "        else:\n",
      "            return \"Error: Payload must contain at least a field named customer_unique_id or product_id\"\n",
      "    \n",
      "        return result.to_json(orient=\"records\")\n",
      "        \n",
      "    except Exception as e:\n",
      "        return e\n",
      "\n"
     ]
    }
   ],
   "source": [
    "!cat {DEPLOY_DIR}score.py"
   ]
  },
  {
   "cell_type": "markdown",
   "metadata": {
    "application/vnd.databricks.v1+cell": {
     "cellMetadata": {},
     "inputWidgets": {},
     "nuid": "f5dfd9cd-7ffd-4c11-aca6-2b9e0cf9927f",
     "showTitle": false,
     "title": ""
    }
   },
   "source": [
    "# 6 . Deploy to Local\n",
    "This does not work on Databricks"
   ]
  },
  {
   "cell_type": "code",
   "execution_count": 21,
   "metadata": {
    "application/vnd.databricks.v1+cell": {
     "cellMetadata": {},
     "inputWidgets": {},
     "nuid": "177d909d-68a4-48a2-84b2-1cf5ec9bb6b0",
     "showTitle": false,
     "title": ""
    }
   },
   "outputs": [
    {
     "name": "stderr",
     "output_type": "stream",
     "text": [
      "/tmp/ipykernel_64236/3062853723.py:5: FutureWarning: azureml.core.model:\n",
      "To leverage new model deployment capabilities, AzureML recommends using CLI/SDK v2 to deploy models as online endpoint, \n",
      "please refer to respective documentations \n",
      "https://docs.microsoft.com/azure/machine-learning/how-to-deploy-managed-online-endpoints /\n",
      "https://docs.microsoft.com/azure/machine-learning/how-to-attach-kubernetes-anywhere \n",
      "For more information on migration, see https://aka.ms/acimoemigration. \n",
      "To disable CLI/SDK v1 deprecation warning set AZUREML_LOG_DEPRECATION_WARNING_ENABLED to 'False'\n",
      "  local_service = Model.deploy(ws, \"test\", [azmodel_s, azmodel_r], inference_config, deployment_config)\n"
     ]
    },
    {
     "name": "stdout",
     "output_type": "stream",
     "text": [
      "Downloading model similarity_model:1 to /tmp/azureml_opw8zfgs/similarity_model/1\n",
      "Downloading model ranking_factorization_model:1 to /tmp/azureml_opw8zfgs/ranking_factorization_model/1\n",
      "Generating Docker build context.\n",
      "2023/02/01 02:04:33 Downloading source code...\n",
      "2023/02/01 02:04:34 Finished downloading source code\n",
      "2023/02/01 02:04:34 Creating Docker network: acb_default_network, driver: 'bridge'\n",
      "2023/02/01 02:04:35 Successfully set up Docker network: acb_default_network\n",
      "2023/02/01 02:04:35 Setting up Docker configuration...\n",
      "2023/02/01 02:04:35 Successfully set up Docker configuration\n",
      "2023/02/01 02:04:35 Logging in to registry: 8cd100591dc0495bba6b05e638847d61.azurecr.io\n",
      "2023/02/01 02:04:36 Successfully logged into 8cd100591dc0495bba6b05e638847d61.azurecr.io\n",
      "2023/02/01 02:04:36 Executing step ID: acb_step_0. Timeout(sec): 5400, Working directory: '', Network: 'acb_default_network'\n",
      "2023/02/01 02:04:36 Scanning for dependencies...\n",
      "2023/02/01 02:04:36 Successfully scanned dependencies\n",
      "2023/02/01 02:04:36 Launching container with name: acb_step_0\n",
      "Sending build context to Docker daemon  72.19kB\n",
      "Step 1/28 : FROM mcr.microsoft.com/azureml/o16n-base/python-assets:latest AS inferencing-assets\n",
      "latest: Pulling from azureml/o16n-base/python-assets\n",
      "db829b535d6f: Pulling fs layer\n",
      "db829b535d6f: Verifying Checksum\n",
      "db829b535d6f: Download complete\n",
      "db829b535d6f: Pull complete\n",
      "Digest: sha256:d417c9df876f4ff868f2128e8295ebdac1b709ed514c71b315d63384f52438f6\n",
      "Status: Downloaded newer image for mcr.microsoft.com/azureml/o16n-base/python-assets:latest\n",
      " ---> 996620d81c92\n",
      "Step 2/28 : FROM mcr.microsoft.com/azureml/openmpi4.1.0-ubuntu20.04:20221101.v1@sha256:4505a963b2d34a42b5eaef48b8142ca98123d05d3a95eee3fe57551570a70e3b\n",
      "mcr.microsoft.com/azureml/openmpi4.1.0-ubuntu20.04:20221101.v1@sha256:4505a963b2d34a42b5eaef48b8142ca98123d05d3a95eee3fe57551570a70e3b: Pulling from azureml/openmpi4.1.0-ubuntu20.04\n",
      "d7bfe07ed847: Pulling fs layer\n",
      "d1327a17a430: Pulling fs layer\n",
      "69a9739a8058: Pulling fs layer\n",
      "1551e9d33102: Pulling fs layer\n",
      "726392826fd2: Pulling fs layer\n",
      "6ed0c5c30145: Pulling fs layer\n",
      "ea261e5684f6: Pulling fs layer\n",
      "21207d3ea9d3: Pulling fs layer\n",
      "c9a742e394f6: Pulling fs layer\n",
      "b0c9de384791: Pulling fs layer\n",
      "1551e9d33102: Waiting\n",
      "726392826fd2: Waiting\n",
      "6ed0c5c30145: Waiting\n",
      "ea261e5684f6: Waiting\n",
      "21207d3ea9d3: Waiting\n",
      "c9a742e394f6: Waiting\n",
      "b0c9de384791: Waiting\n",
      "d7bfe07ed847: Verifying Checksum\n",
      "d7bfe07ed847: Download complete\n",
      "69a9739a8058: Verifying Checksum\n",
      "69a9739a8058: Download complete\n",
      "726392826fd2: Verifying Checksum\n",
      "726392826fd2: Download complete\n",
      "1551e9d33102: Verifying Checksum\n",
      "1551e9d33102: Download complete\n",
      "ea261e5684f6: Verifying Checksum\n",
      "ea261e5684f6: Download complete\n",
      "21207d3ea9d3: Verifying Checksum\n",
      "21207d3ea9d3: Download complete\n",
      "6ed0c5c30145: Verifying Checksum\n",
      "6ed0c5c30145: Download complete\n",
      "b0c9de384791: Verifying Checksum\n",
      "b0c9de384791: Download complete\n",
      "c9a742e394f6: Verifying Checksum\n",
      "c9a742e394f6: Download complete\n",
      "d1327a17a430: Verifying Checksum\n",
      "d1327a17a430: Download complete\n",
      "d7bfe07ed847: Pull complete\n",
      "d1327a17a430: Pull complete\n",
      "69a9739a8058: Pull complete\n",
      "1551e9d33102: Pull complete\n",
      "726392826fd2: Pull complete\n",
      "6ed0c5c30145: Pull complete\n",
      "ea261e5684f6: Pull complete\n",
      "21207d3ea9d3: Pull complete\n",
      "c9a742e394f6: Pull complete\n",
      "b0c9de384791: Pull complete\n",
      "Digest: sha256:4505a963b2d34a42b5eaef48b8142ca98123d05d3a95eee3fe57551570a70e3b\n",
      "Status: Downloaded newer image for mcr.microsoft.com/azureml/openmpi4.1.0-ubuntu20.04:20221101.v1@sha256:4505a963b2d34a42b5eaef48b8142ca98123d05d3a95eee3fe57551570a70e3b\n",
      " ---> b6fd6a8d28e9\n",
      "Step 3/28 : USER root\n",
      " ---> Running in cf590620f3ff\n",
      "Removing intermediate container cf590620f3ff\n",
      " ---> 5d4053148c32\n",
      "Step 4/28 : RUN mkdir -p $HOME/.cache\n",
      " ---> Running in 732471db940e\n",
      "Removing intermediate container 732471db940e\n",
      " ---> f460246f7e43\n",
      "Step 5/28 : WORKDIR /\n",
      " ---> Running in 3f6fa83d1584\n",
      "Removing intermediate container 3f6fa83d1584\n",
      " ---> 4aa1f0479e92\n",
      "Step 6/28 : COPY azureml-environment-setup/99brokenproxy /etc/apt/apt.conf.d/\n",
      " ---> aae93e6598b1\n",
      "Step 7/28 : RUN true\n",
      " ---> Running in 739e7965aaa7\n",
      "Removing intermediate container 739e7965aaa7\n",
      " ---> c4a69e645893\n",
      "Step 8/28 : COPY --from=inferencing-assets /artifacts /var/\n",
      " ---> 3271e47f8581\n",
      "Step 9/28 : RUN /var/requirements/install_system_requirements.sh\n",
      " ---> Running in 2d4f2ad52230\n",
      "Get:1 https://packages.microsoft.com/ubuntu/20.04/prod focal InRelease [10.5 kB]\n",
      "Get:2 https://packages.microsoft.com/ubuntu/20.04/prod focal/main armhf Packages [33.1 kB]\n",
      "Get:3 https://packages.microsoft.com/ubuntu/20.04/prod focal/main amd64 Packages [249 kB]\n",
      "Get:4 https://packages.microsoft.com/ubuntu/20.04/prod focal/main arm64 Packages [53.2 kB]\n",
      "Get:5 http://security.ubuntu.com/ubuntu focal-security InRelease [114 kB]\n",
      "Hit:6 http://archive.ubuntu.com/ubuntu focal InRelease\n",
      "Get:7 http://archive.ubuntu.com/ubuntu focal-updates InRelease [114 kB]\n",
      "Get:8 http://archive.ubuntu.com/ubuntu focal-backports InRelease [108 kB]\n",
      "Get:9 http://security.ubuntu.com/ubuntu focal-security/universe amd64 Packages [990 kB]\n",
      "Get:10 http://archive.ubuntu.com/ubuntu focal-updates/main amd64 Packages [2921 kB]\n",
      "Get:11 http://security.ubuntu.com/ubuntu focal-security/multiverse amd64 Packages [27.7 kB]\n",
      "Get:12 http://security.ubuntu.com/ubuntu focal-security/restricted amd64 Packages [1882 kB]\n",
      "Get:13 http://archive.ubuntu.com/ubuntu focal-updates/restricted amd64 Packages [2009 kB]\n",
      "Get:14 http://security.ubuntu.com/ubuntu focal-security/main amd64 Packages [2448 kB]\n",
      "Get:15 http://archive.ubuntu.com/ubuntu focal-updates/multiverse amd64 Packages [31.2 kB]\n",
      "Get:16 http://archive.ubuntu.com/ubuntu focal-updates/universe amd64 Packages [1290 kB]\n",
      "Get:17 http://archive.ubuntu.com/ubuntu focal-backports/main amd64 Packages [55.2 kB]\n",
      "Get:18 http://archive.ubuntu.com/ubuntu focal-backports/universe amd64 Packages [28.6 kB]\n",
      "Fetched 12.4 MB in 2s (7330 kB/s)\n",
      "Reading package lists...\n",
      "Reading package lists...\n",
      "Building dependency tree...\n",
      "Reading state information...\n",
      "liblttng-ust0 is already the newest version (2.11.0-1).\n",
      "libunwind8 is already the newest version (1.2.1-9build1).\n",
      "libxml++2.6-2v5 is already the newest version (2.40.1-3build1).\n",
      "psmisc is already the newest version (23.3-1).\n",
      "runit is already the newest version (2.1.2-9.2ubuntu1).\n",
      "rsyslog is already the newest version (8.2001.0-1ubuntu1.3).\n",
      "unzip is already the newest version (6.0-25ubuntu1.1).\n",
      "wget is already the newest version (1.20.3-1ubuntu2).\n",
      "The following additional packages will be installed:\n",
      "  curl libnginx-mod-http-echo nginx-common\n",
      "Suggested packages:\n",
      "  fcgiwrap nginx-doc ssl-cert\n",
      "The following packages will be upgraded:\n",
      "  curl libcurl4 libnginx-mod-http-echo nginx-common nginx-light\n",
      "5 upgraded, 0 newly installed, 0 to remove and 50 not upgraded.\n",
      "Need to get 857 kB of archives.\n",
      "After this operation, 3072 B of additional disk space will be used.\n",
      "Get:1 http://archive.ubuntu.com/ubuntu focal-updates/main amd64 curl amd64 7.68.0-1ubuntu2.15 [161 kB]\n",
      "Get:2 http://archive.ubuntu.com/ubuntu focal-updates/main amd64 libcurl4 amd64 7.68.0-1ubuntu2.15 [235 kB]\n",
      "Get:3 http://archive.ubuntu.com/ubuntu focal-updates/universe amd64 nginx-light amd64 1.18.0-0ubuntu1.4 [402 kB]\n",
      "Get:4 http://archive.ubuntu.com/ubuntu focal-updates/universe amd64 libnginx-mod-http-echo amd64 1.18.0-0ubuntu1.4 [21.5 kB]\n",
      "Get:5 http://archive.ubuntu.com/ubuntu focal-updates/main amd64 nginx-common all 1.18.0-0ubuntu1.4 [37.7 kB]\n",
      "\u001b[91mdebconf: delaying package configuration, since apt-utils is not installed\n",
      "\u001b[0mFetched 857 kB in 0s (5097 kB/s)\n",
      "(Reading database ... 19341 files and directories currently installed.)\n",
      "Preparing to unpack .../curl_7.68.0-1ubuntu2.15_amd64.deb ...\n",
      "Unpacking curl (7.68.0-1ubuntu2.15) over (7.68.0-1ubuntu2.14) ...\n",
      "Preparing to unpack .../libcurl4_7.68.0-1ubuntu2.15_amd64.deb ...\n",
      "Unpacking libcurl4:amd64 (7.68.0-1ubuntu2.15) over (7.68.0-1ubuntu2.14) ...\n",
      "Preparing to unpack .../nginx-light_1.18.0-0ubuntu1.4_amd64.deb ...\n",
      "Unpacking nginx-light (1.18.0-0ubuntu1.4) over (1.18.0-0ubuntu1.3) ...\n",
      "Preparing to unpack .../libnginx-mod-http-echo_1.18.0-0ubuntu1.4_amd64.deb ...\n",
      "Unpacking libnginx-mod-http-echo (1.18.0-0ubuntu1.4) over (1.18.0-0ubuntu1.3) ...\n",
      "Preparing to unpack .../nginx-common_1.18.0-0ubuntu1.4_all.deb ...\n",
      "Unpacking nginx-common (1.18.0-0ubuntu1.4) over (1.18.0-0ubuntu1.3) ...\n",
      "Setting up nginx-common (1.18.0-0ubuntu1.4) ...\n",
      "Setting up libnginx-mod-http-echo (1.18.0-0ubuntu1.4) ...\n",
      "Setting up libcurl4:amd64 (7.68.0-1ubuntu2.15) ...\n",
      "Setting up curl (7.68.0-1ubuntu2.15) ...\n",
      "Setting up nginx-light (1.18.0-0ubuntu1.4) ...\n",
      "invoke-rc.d: could not determine current runlevel\n",
      "invoke-rc.d: policy-rc.d denied execution of start.\n",
      "Processing triggers for systemd (245.4-4ubuntu3.18) ...\n",
      "Processing triggers for libc-bin (2.31-0ubuntu9.9) ...\n",
      "Removing intermediate container 2d4f2ad52230\n",
      " ---> 41d131f020d0\n",
      "Step 10/28 : RUN cp /var/configuration/rsyslog.conf /etc/rsyslog.conf && cp /var/configuration/nginx.conf /etc/nginx/sites-available/app && ln -sf /etc/nginx/sites-available/app /etc/nginx/sites-enabled/app && rm -f /etc/nginx/sites-enabled/default\n",
      " ---> Running in 708ca50be7b3\n",
      "Removing intermediate container 708ca50be7b3\n",
      " ---> ec2ea95ac42b\n",
      "Step 11/28 : ENV SVDIR=/var/runit\n",
      " ---> Running in 5add6cf1616f\n",
      "Removing intermediate container 5add6cf1616f\n",
      " ---> acbf5fec4dc2\n",
      "Step 12/28 : RUN if dpkg --compare-versions `conda --version | grep -oE '[^ ]+$'` lt 4.4.11; then conda install conda==4.4.11; fi\n",
      " ---> Running in b7d970487ab9\n",
      "Removing intermediate container b7d970487ab9\n",
      " ---> 0070faa63845\n",
      "Step 13/28 : COPY azureml-environment-setup/mutated_conda_dependencies.yml azureml-environment-setup/mutated_conda_dependencies.yml\n",
      " ---> 3850e8413588\n",
      "Step 14/28 : RUN ldconfig /usr/local/cuda/lib64/stubs && conda env create -p /azureml-envs/azureml_635f1be5530626fe076c2224989f6314 -f azureml-environment-setup/mutated_conda_dependencies.yml && rm -rf \"$HOME/.cache/pip\" && conda clean -aqy && CONDA_ROOT_DIR=$(conda info --root) && rm -rf \"$CONDA_ROOT_DIR/pkgs\" && find \"$CONDA_ROOT_DIR\" -type d -name __pycache__ -exec rm -rf {} + && ldconfig\n",
      " ---> Running in 30aa820eeb38\n",
      "Warning: you have pip-installed dependencies in your environment file, but you do not list pip itself as one of your conda dependencies.  Conda may not use the correct pip to install your packages, and they may end up in the wrong place.  Please add an explicit pip dependency.  I'm adding one for you, but still nagging you.\n",
      "Collecting package metadata (repodata.json): ...working... \n",
      "done\n",
      "Solving environment: ...working... done\n",
      "\n",
      "Downloading and Extracting Packages\n",
      "libstdcxx-ng-11.2.0  | 6.1 MB    | ########## | 100% \n",
      "_libgcc_mutex-0.1    | 3 KB      | ########## | 100% \n",
      "openssl-1.1.1q       | 3.8 MB    | ########## | 100% \n",
      "_openmp_mutex-5.1    | 20 KB     | ########## | 100% \n",
      "libgcc-ng-11.2.0     | 8.5 MB    | ########## | 100% \n",
      "certifi-2022.6.15    | 156 KB    | ########## | 100% \n",
      "zlib-1.2.12          | 130 KB    | ########## | 100% \n",
      "xz-5.2.5             | 389 KB    | ########## | 100% \n",
      "pip-22.1.2           | 2.9 MB    | ########## | 100% \n",
      "setuptools-61.2.0    | 1.3 MB    | ########## | 100% \n",
      "ca-certificates-2022 | 131 KB    | ########## | 100% \n",
      "sqlite-3.39.2        | 1.5 MB    | ########## | 100% \n",
      "readline-8.1.2       | 423 KB    | ########## | 100% \n",
      "ncurses-6.3          | 1.1 MB    | ########## | 100% \n",
      "python-3.8.13        | 22.7 MB   | ########## | 100% \n",
      "tk-8.6.12            | 3.3 MB    | ########## | 100% \n",
      "libgomp-11.2.0       | 560 KB    | ########## | 100% \n",
      "libffi-3.3           | 54 KB     | ########## | 100% \n",
      "wheel-0.37.1         | 31 KB     | ########## | 100% \n",
      "ld_impl_linux-64-2.3 | 732 KB    | ########## | 100% \n",
      "Preparing transaction: ...working... done\n",
      "Verifying transaction: ...working... done\n",
      "Executing transaction: ...working... done\n",
      "Installing pip dependencies: ...working... \n",
      "Ran pip subprocess with arguments:\n",
      "['/azureml-envs/azureml_635f1be5530626fe076c2224989f6314/bin/python', '-m', 'pip', 'install', '-U', '-r', '/azureml-environment-setup/condaenv.6bumjys3.requirements.txt']\n",
      "Pip subprocess output:\n",
      "Collecting azureml-defaults\n",
      "  Downloading azureml_defaults-1.48.0-py3-none-any.whl (2.0 kB)\n",
      "Collecting turicreate\n",
      "  Downloading turicreate-6.4.1-cp38-cp38-manylinux1_x86_64.whl (92.0 MB)\n",
      "     ━━━━━━━━━━━━━━━━━━━━━━━━━━━━━━━━━━━━━━━━ 92.0/92.0 MB 36.0 MB/s eta 0:00:00\n",
      "Collecting azureml-core~=1.48.0\n",
      "  Downloading azureml_core-1.48.0-py3-none-any.whl (3.3 MB)\n",
      "     ━━━━━━━━━━━━━━━━━━━━━━━━━━━━━━━━━━━━━━━━ 3.3/3.3 MB 78.2 MB/s eta 0:00:00\n",
      "Collecting azureml-inference-server-http~=0.7.2\n",
      "  Downloading azureml_inference_server_http-0.7.7-py3-none-any.whl (56 kB)\n",
      "     ━━━━━━━━━━━━━━━━━━━━━━━━━━━━━━━━━━━━━━━━ 56.8/56.8 kB 10.7 MB/s eta 0:00:00\n",
      "Collecting azureml-dataset-runtime[fuse]~=1.48.0\n",
      "  Downloading azureml_dataset_runtime-1.48.0-py3-none-any.whl (2.2 kB)\n",
      "Collecting pillow>=5.2.0\n",
      "  Downloading Pillow-9.4.0-cp38-cp38-manylinux_2_28_x86_64.whl (3.4 MB)\n",
      "     ━━━━━━━━━━━━━━━━━━━━━━━━━━━━━━━━━━━━━━━━ 3.4/3.4 MB 110.7 MB/s eta 0:00:00\n",
      "Collecting decorator>=4.0.9\n",
      "  Downloading decorator-5.1.1-py3-none-any.whl (9.1 kB)\n",
      "Collecting resampy==0.2.1\n",
      "  Downloading resampy-0.2.1.tar.gz (322 kB)\n",
      "     ━━━━━━━━━━━━━━━━━━━━━━━━━━━━━━━━━━━━━━ 322.4/322.4 kB 56.1 MB/s eta 0:00:00\n",
      "  Preparing metadata (setup.py): started\n",
      "  Preparing metadata (setup.py): finished with status 'done'\n",
      "Collecting requests>=2.9.1\n",
      "  Downloading requests-2.28.2-py3-none-any.whl (62 kB)\n",
      "     ━━━━━━━━━━━━━━━━━━━━━━━━━━━━━━━━━━━━━━━━ 62.8/62.8 kB 11.9 MB/s eta 0:00:00\n",
      "Collecting numpy\n",
      "  Downloading numpy-1.24.1-cp38-cp38-manylinux_2_17_x86_64.manylinux2014_x86_64.whl (17.3 MB)\n",
      "     ━━━━━━━━━━━━━━━━━━━━━━━━━━━━━━━━━━━━━━━━ 17.3/17.3 MB 98.7 MB/s eta 0:00:00\n",
      "Collecting coremltools==4.0b3\n",
      "  Downloading coremltools-4.0b3-py3-none-any.whl (4.6 MB)\n",
      "     ━━━━━━━━━━━━━━━━━━━━━━━━━━━━━━━━━━━━━━━━ 4.6/4.6 MB 118.0 MB/s eta 0:00:00\n",
      "Collecting six>=1.10.0\n",
      "  Downloading six-1.16.0-py2.py3-none-any.whl (11 kB)\n",
      "Collecting tensorflow>=2.0.0\n",
      "  Downloading tensorflow-2.11.0-cp38-cp38-manylinux_2_17_x86_64.manylinux2014_x86_64.whl (588.3 MB)\n",
      "     ━━━━━━━━━━━━━━━━━━━━━━━━━━━━━━━━━━━━━━━ 588.3/588.3 MB 5.0 MB/s eta 0:00:00\n",
      "Collecting pandas>=0.23.2\n",
      "  Downloading pandas-1.5.3-cp38-cp38-manylinux_2_17_x86_64.manylinux2014_x86_64.whl (12.2 MB)\n",
      "     ━━━━━━━━━━━━━━━━━━━━━━━━━━━━━━━━━━━━━━━ 12.2/12.2 MB 120.5 MB/s eta 0:00:00\n",
      "Collecting scipy>=1.1.0\n",
      "  Downloading scipy-1.10.0-cp38-cp38-manylinux_2_17_x86_64.manylinux2014_x86_64.whl (34.5 MB)\n",
      "     ━━━━━━━━━━━━━━━━━━━━━━━━━━━━━━━━━━━━━━━━ 34.5/34.5 MB 74.9 MB/s eta 0:00:00\n",
      "Collecting numba<0.51.0\n",
      "  Downloading numba-0.50.1-cp38-cp38-manylinux2014_x86_64.whl (3.6 MB)\n",
      "     ━━━━━━━━━━━━━━━━━━━━━━━━━━━━━━━━━━━━━━━━ 3.6/3.6 MB 124.5 MB/s eta 0:00:00\n",
      "Collecting prettytable==0.7.2\n",
      "  Downloading prettytable-0.7.2.zip (28 kB)\n",
      "  Preparing metadata (setup.py): started\n",
      "  Preparing metadata (setup.py): finished with status 'done'\n",
      "Collecting protobuf>=3.1.0\n",
      "  Downloading protobuf-4.21.12-cp37-abi3-manylinux2014_x86_64.whl (409 kB)\n",
      "     ━━━━━━━━━━━━━━━━━━━━━━━━━━━━━━━━━━━━━━ 409.8/409.8 kB 67.4 MB/s eta 0:00:00\n",
      "Collecting attrs\n",
      "  Downloading attrs-22.2.0-py3-none-any.whl (60 kB)\n",
      "     ━━━━━━━━━━━━━━━━━━━━━━━━━━━━━━━━━━━━━━━━ 60.0/60.0 kB 11.3 MB/s eta 0:00:00\n",
      "Collecting tqdm\n",
      "  Downloading tqdm-4.64.1-py2.py3-none-any.whl (78 kB)\n",
      "     ━━━━━━━━━━━━━━━━━━━━━━━━━━━━━━━━━━━━━━━━ 78.5/78.5 kB 15.5 MB/s eta 0:00:00\n",
      "Collecting sympy\n",
      "  Downloading sympy-1.11.1-py3-none-any.whl (6.5 MB)\n",
      "     ━━━━━━━━━━━━━━━━━━━━━━━━━━━━━━━━━━━━━━━━ 6.5/6.5 MB 121.6 MB/s eta 0:00:00\n",
      "Collecting attr\n",
      "  Downloading attr-0.3.2-py2.py3-none-any.whl (3.3 kB)\n",
      "Collecting python-dateutil<3.0.0,>=2.7.3\n",
      "  Downloading python_dateutil-2.8.2-py2.py3-none-any.whl (247 kB)\n",
      "     ━━━━━━━━━━━━━━━━━━━━━━━━━━━━━━━━━━━━━━ 247.7/247.7 kB 40.8 MB/s eta 0:00:00\n",
      "Collecting backports.tempfile\n",
      "  Downloading backports.tempfile-1.0-py2.py3-none-any.whl (4.4 kB)\n",
      "Collecting adal<=1.2.7,>=1.2.0\n",
      "  Downloading adal-1.2.7-py2.py3-none-any.whl (55 kB)\n",
      "     ━━━━━━━━━━━━━━━━━━━━━━━━━━━━━━━━━━━━━━━━ 55.5/55.5 kB 10.6 MB/s eta 0:00:00\n",
      "Collecting paramiko<3.0.0,>=2.0.8\n",
      "  Downloading paramiko-2.12.0-py2.py3-none-any.whl (213 kB)\n",
      "     ━━━━━━━━━━━━━━━━━━━━━━━━━━━━━━━━━━━━━━ 213.1/213.1 kB 38.4 MB/s eta 0:00:00\n",
      "Collecting SecretStorage<4.0.0\n",
      "  Downloading SecretStorage-3.3.3-py3-none-any.whl (15 kB)\n",
      "Collecting azure-mgmt-resource<22.0.0,>=15.0.0\n",
      "  Downloading azure_mgmt_resource-21.2.1-py3-none-any.whl (2.3 MB)\n",
      "     ━━━━━━━━━━━━━━━━━━━━━━━━━━━━━━━━━━━━━━━━ 2.3/2.3 MB 111.2 MB/s eta 0:00:00\n",
      "Collecting azure-mgmt-keyvault<11.0.0,>=0.40.0\n",
      "  Downloading azure_mgmt_keyvault-10.1.0-py3-none-any.whl (605 kB)\n",
      "     ━━━━━━━━━━━━━━━━━━━━━━━━━━━━━━━━━━━━━━ 605.9/605.9 kB 72.8 MB/s eta 0:00:00\n",
      "Collecting msrestazure<=0.6.4,>=0.4.33\n",
      "  Downloading msrestazure-0.6.4-py2.py3-none-any.whl (40 kB)\n",
      "     ━━━━━━━━━━━━━━━━━━━━━━━━━━━━━━━━━━━━━━━━ 40.5/40.5 kB 9.2 MB/s eta 0:00:00\n",
      "Collecting msal-extensions<=1.0.0,>=0.3.0\n",
      "  Downloading msal_extensions-1.0.0-py2.py3-none-any.whl (19 kB)\n",
      "Collecting knack~=0.10.0\n",
      "  Downloading knack-0.10.1-py3-none-any.whl (61 kB)\n",
      "     ━━━━━━━━━━━━━━━━━━━━━━━━━━━━━━━━━━━━━━━━ 61.1/61.1 kB 10.0 MB/s eta 0:00:00\n",
      "Collecting jsonpickle<3.0.0\n",
      "  Downloading jsonpickle-2.2.0-py2.py3-none-any.whl (39 kB)\n",
      "Collecting pkginfo\n",
      "  Downloading pkginfo-1.9.6-py3-none-any.whl (30 kB)\n",
      "Collecting azure-mgmt-authorization<4,>=0.40.0\n",
      "  Downloading azure_mgmt_authorization-3.0.0-py3-none-any.whl (965 kB)\n",
      "     ━━━━━━━━━━━━━━━━━━━━━━━━━━━━━━━━━━━━━━ 965.9/965.9 kB 94.6 MB/s eta 0:00:00\n",
      "Collecting cryptography!=1.9,!=2.0.*,!=2.1.*,!=2.2.*,<41\n",
      "  Downloading cryptography-39.0.0-cp36-abi3-manylinux_2_28_x86_64.whl (4.2 MB)\n",
      "     ━━━━━━━━━━━━━━━━━━━━━━━━━━━━━━━━━━━━━━━━ 4.2/4.2 MB 130.2 MB/s eta 0:00:00\n",
      "Collecting contextlib2<22.0.0\n",
      "  Downloading contextlib2-21.6.0-py2.py3-none-any.whl (13 kB)\n",
      "Collecting azure-core<2.0.0\n",
      "  Downloading azure_core-1.26.2-py3-none-any.whl (173 kB)\n",
      "     ━━━━━━━━━━━━━━━━━━━━━━━━━━━━━━━━━━━━━━ 173.8/173.8 kB 32.8 MB/s eta 0:00:00\n",
      "Collecting msrest<=0.7.1,>=0.5.1\n",
      "  Downloading msrest-0.7.1-py3-none-any.whl (85 kB)\n",
      "     ━━━━━━━━━━━━━━━━━━━━━━━━━━━━━━━━━━━━━━━━ 85.4/85.4 kB 19.5 MB/s eta 0:00:00\n",
      "Collecting PyJWT<3.0.0\n",
      "  Downloading PyJWT-2.6.0-py3-none-any.whl (20 kB)\n",
      "Collecting pyopenssl<23.0.0\n",
      "  Downloading pyOpenSSL-22.1.0-py3-none-any.whl (57 kB)\n",
      "     ━━━━━━━━━━━━━━━━━━━━━━━━━━━━━━━━━━━━━━━━ 57.0/57.0 kB 8.1 MB/s eta 0:00:00\n",
      "Collecting azure-graphrbac<1.0.0,>=0.40.0\n",
      "  Downloading azure_graphrbac-0.61.1-py2.py3-none-any.whl (141 kB)\n",
      "     ━━━━━━━━━━━━━━━━━━━━━━━━━━━━━━━━━━━━━━ 141.4/141.4 kB 30.0 MB/s eta 0:00:00\n",
      "Collecting packaging<22.0,>=20.0\n",
      "  Downloading packaging-21.3-py3-none-any.whl (40 kB)\n",
      "     ━━━━━━━━━━━━━━━━━━━━━━━━━━━━━━━━━━━━━━━━ 40.8/40.8 kB 7.5 MB/s eta 0:00:00\n",
      "Collecting azure-mgmt-containerregistry<11,>=8.2.0\n",
      "  Downloading azure_mgmt_containerregistry-10.0.0-py3-none-any.whl (1.2 MB)\n",
      "     ━━━━━━━━━━━━━━━━━━━━━━━━━━━━━━━━━━━━━━━━ 1.2/1.2 MB 101.5 MB/s eta 0:00:00\n",
      "Collecting pytz\n",
      "  Downloading pytz-2022.7.1-py2.py3-none-any.whl (499 kB)\n",
      "     ━━━━━━━━━━━━━━━━━━━━━━━━━━━━━━━━━━━━━━ 499.4/499.4 kB 74.0 MB/s eta 0:00:00\n",
      "Collecting msal<2.0.0,>=1.15.0\n",
      "  Downloading msal-1.21.0-py2.py3-none-any.whl (89 kB)\n",
      "     ━━━━━━━━━━━━━━━━━━━━━━━━━━━━━━━━━━━━━━━━ 89.9/89.9 kB 19.0 MB/s eta 0:00:00\n",
      "Collecting pathspec<1.0.0\n",
      "  Downloading pathspec-0.11.0-py3-none-any.whl (29 kB)\n",
      "Collecting humanfriendly<11.0,>=4.7\n",
      "  Downloading humanfriendly-10.0-py2.py3-none-any.whl (86 kB)\n",
      "     ━━━━━━━━━━━━━━━━━━━━━━━━━━━━━━━━━━━━━━━━ 86.8/86.8 kB 16.6 MB/s eta 0:00:00\n",
      "Collecting azure-mgmt-storage<21.0.0,>=16.0.0\n",
      "  Downloading azure_mgmt_storage-20.1.0-py3-none-any.whl (2.3 MB)\n",
      "     ━━━━━━━━━━━━━━━━━━━━━━━━━━━━━━━━━━━━━━━━ 2.3/2.3 MB 122.0 MB/s eta 0:00:00\n",
      "Collecting urllib3<2.0.0,>=1.23\n",
      "  Downloading urllib3-1.26.14-py2.py3-none-any.whl (140 kB)\n",
      "     ━━━━━━━━━━━━━━━━━━━━━━━━━━━━━━━━━━━━━━ 140.6/140.6 kB 27.4 MB/s eta 0:00:00\n",
      "Collecting jmespath<2.0.0\n",
      "  Downloading jmespath-1.0.1-py3-none-any.whl (20 kB)\n",
      "Collecting azure-common<2.0.0,>=1.1.12\n",
      "  Downloading azure_common-1.1.28-py2.py3-none-any.whl (14 kB)\n",
      "Collecting docker<7.0.0\n",
      "  Downloading docker-6.0.1-py3-none-any.whl (147 kB)\n",
      "     ━━━━━━━━━━━━━━━━━━━━━━━━━━━━━━━━━━━━━━ 147.5/147.5 kB 37.3 MB/s eta 0:00:00\n",
      "Collecting argcomplete<3\n",
      "  Downloading argcomplete-2.0.0-py2.py3-none-any.whl (37 kB)\n",
      "Collecting ndg-httpsclient<=0.5.1\n",
      "  Downloading ndg_httpsclient-0.5.1-py3-none-any.whl (34 kB)\n",
      "Collecting pyarrow<=9.0.0,>=0.17.0\n",
      "  Downloading pyarrow-9.0.0-cp38-cp38-manylinux_2_17_x86_64.manylinux2014_x86_64.whl (35.3 MB)\n",
      "     ━━━━━━━━━━━━━━━━━━━━━━━━━━━━━━━━━━━━━━━━ 35.3/35.3 MB 63.5 MB/s eta 0:00:00\n",
      "Collecting azureml-dataprep<4.9.0a,>=4.8.0a\n",
      "  Downloading azureml_dataprep-4.8.6-py3-none-any.whl (43.5 MB)\n",
      "     ━━━━━━━━━━━━━━━━━━━━━━━━━━━━━━━━━━━━━━━━ 43.5/43.5 MB 57.7 MB/s eta 0:00:00\n",
      "Collecting fusepy<4.0.0,>=3.0.1\n",
      "  Downloading fusepy-3.0.1.tar.gz (11 kB)\n",
      "  Preparing metadata (setup.py): started\n",
      "  Preparing metadata (setup.py): finished with status 'done'\n",
      "Collecting gunicorn==20.1.0\n",
      "  Downloading gunicorn-20.1.0-py3-none-any.whl (79 kB)\n",
      "     ━━━━━━━━━━━━━━━━━━━━━━━━━━━━━━━━━━━━━━━━ 79.5/79.5 kB 3.2 MB/s eta 0:00:00\n",
      "Collecting opencensus-ext-azure~=1.1.0\n",
      "  Downloading opencensus_ext_azure-1.1.8-py2.py3-none-any.whl (42 kB)\n",
      "     ━━━━━━━━━━━━━━━━━━━━━━━━━━━━━━━━━━━━━━━━ 43.0/43.0 kB 1.7 MB/s eta 0:00:00\n",
      "Collecting inference-schema~=1.5.0\n",
      "  Downloading inference_schema-1.5.1-py3-none-any.whl (21 kB)\n",
      "Collecting flask-cors~=3.0.1\n",
      "  Downloading Flask_Cors-3.0.10-py2.py3-none-any.whl (14 kB)\n",
      "Requirement already satisfied: setuptools>=3.0 in /azureml-envs/azureml_635f1be5530626fe076c2224989f6314/lib/python3.8/site-packages (from gunicorn==20.1.0->azureml-inference-server-http~=0.7.2->azureml-defaults->-r /azureml-environment-setup/condaenv.6bumjys3.requirements.txt (line 1)) (61.2.0)\n",
      "Collecting llvmlite<0.34,>=0.33.0.dev0\n",
      "  Downloading llvmlite-0.33.0-cp38-cp38-manylinux1_x86_64.whl (18.3 MB)\n",
      "     ━━━━━━━━━━━━━━━━━━━━━━━━━━━━━━━━━━━━━━━━ 18.3/18.3 MB 90.0 MB/s eta 0:00:00\n",
      "Collecting charset-normalizer<4,>=2\n",
      "  Downloading charset_normalizer-3.0.1-cp38-cp38-manylinux_2_17_x86_64.manylinux2014_x86_64.whl (195 kB)\n",
      "     ━━━━━━━━━━━━━━━━━━━━━━━━━━━━━━━━━━━━━━ 195.4/195.4 kB 34.4 MB/s eta 0:00:00\n",
      "Collecting idna<4,>=2.5\n",
      "  Downloading idna-3.4-py3-none-any.whl (61 kB)\n",
      "     ━━━━━━━━━━━━━━━━━━━━━━━━━━━━━━━━━━━━━━━━ 61.5/61.5 kB 13.8 MB/s eta 0:00:00\n",
      "Requirement already satisfied: certifi>=2017.4.17 in /azureml-envs/azureml_635f1be5530626fe076c2224989f6314/lib/python3.8/site-packages (from requests>=2.9.1->turicreate->-r /azureml-environment-setup/condaenv.6bumjys3.requirements.txt (line 2)) (2022.6.15)\n",
      "Collecting tensorflow-io-gcs-filesystem>=0.23.1\n",
      "  Downloading tensorflow_io_gcs_filesystem-0.30.0-cp38-cp38-manylinux_2_12_x86_64.manylinux2010_x86_64.whl (2.4 MB)\n",
      "     ━━━━━━━━━━━━━━━━━━━━━━━━━━━━━━━━━━━━━━━━ 2.4/2.4 MB 114.4 MB/s eta 0:00:00\n",
      "Collecting keras<2.12,>=2.11.0\n",
      "  Downloading keras-2.11.0-py2.py3-none-any.whl (1.7 MB)\n",
      "     ━━━━━━━━━━━━━━━━━━━━━━━━━━━━━━━━━━━━━━━━ 1.7/1.7 MB 105.1 MB/s eta 0:00:00\n",
      "Collecting absl-py>=1.0.0\n",
      "  Downloading absl_py-1.4.0-py3-none-any.whl (126 kB)\n",
      "     ━━━━━━━━━━━━━━━━━━━━━━━━━━━━━━━━━━━━━━ 126.5/126.5 kB 11.5 MB/s eta 0:00:00\n",
      "Collecting tensorboard<2.12,>=2.11\n",
      "  Downloading tensorboard-2.11.2-py3-none-any.whl (6.0 MB)\n",
      "     ━━━━━━━━━━━━━━━━━━━━━━━━━━━━━━━━━━━━━━━━ 6.0/6.0 MB 128.1 MB/s eta 0:00:00\n",
      "Collecting gast<=0.4.0,>=0.2.1\n",
      "  Downloading gast-0.4.0-py3-none-any.whl (9.8 kB)\n",
      "Collecting typing-extensions>=3.6.6\n",
      "  Downloading typing_extensions-4.4.0-py3-none-any.whl (26 kB)\n",
      "Collecting h5py>=2.9.0\n",
      "  Downloading h5py-3.8.0-cp38-cp38-manylinux_2_17_x86_64.manylinux2014_x86_64.whl (4.7 MB)\n",
      "     ━━━━━━━━━━━━━━━━━━━━━━━━━━━━━━━━━━━━━━━━ 4.7/4.7 MB 123.6 MB/s eta 0:00:00\n",
      "Collecting tensorflow-estimator<2.12,>=2.11.0\n",
      "  Downloading tensorflow_estimator-2.11.0-py2.py3-none-any.whl (439 kB)\n",
      "     ━━━━━━━━━━━━━━━━━━━━━━━━━━━━━━━━━━━━━━ 439.2/439.2 kB 65.7 MB/s eta 0:00:00\n",
      "Collecting grpcio<2.0,>=1.24.3\n",
      "  Downloading grpcio-1.51.1-cp38-cp38-manylinux_2_17_x86_64.manylinux2014_x86_64.whl (4.8 MB)\n",
      "     ━━━━━━━━━━━━━━━━━━━━━━━━━━━━━━━━━━━━━━━━ 4.8/4.8 MB 123.4 MB/s eta 0:00:00\n",
      "Collecting wrapt>=1.11.0\n",
      "  Downloading wrapt-1.14.1-cp38-cp38-manylinux_2_5_x86_64.manylinux1_x86_64.manylinux_2_17_x86_64.manylinux2014_x86_64.whl (81 kB)\n",
      "     ━━━━━━━━━━━━━━━━━━━━━━━━━━━━━━━━━━━━━━━━ 81.0/81.0 kB 18.7 MB/s eta 0:00:00\n",
      "Collecting libclang>=13.0.0\n",
      "  Downloading libclang-15.0.6.1-py2.py3-none-manylinux2010_x86_64.whl (21.5 MB)\n",
      "     ━━━━━━━━━━━━━━━━━━━━━━━━━━━━━━━━━━━━━━━━ 21.5/21.5 MB 82.2 MB/s eta 0:00:00\n",
      "Collecting flatbuffers>=2.0\n",
      "  Downloading flatbuffers-23.1.21-py2.py3-none-any.whl (26 kB)\n",
      "Collecting termcolor>=1.1.0\n",
      "  Downloading termcolor-2.2.0-py3-none-any.whl (6.6 kB)\n",
      "Collecting google-pasta>=0.1.1\n",
      "  Downloading google_pasta-0.2.0-py3-none-any.whl (57 kB)\n",
      "     ━━━━━━━━━━━━━━━━━━━━━━━━━━━━━━━━━━━━━━━━ 57.5/57.5 kB 13.0 MB/s eta 0:00:00\n",
      "Collecting protobuf>=3.1.0\n",
      "  Downloading protobuf-3.19.6-cp38-cp38-manylinux_2_17_x86_64.manylinux2014_x86_64.whl (1.1 MB)\n",
      "     ━━━━━━━━━━━━━━━━━━━━━━━━━━━━━━━━━━━━━━━━ 1.1/1.1 MB 88.8 MB/s eta 0:00:00\n",
      "Collecting astunparse>=1.6.0\n",
      "  Downloading astunparse-1.6.3-py2.py3-none-any.whl (12 kB)\n",
      "Collecting opt-einsum>=2.3.2\n",
      "  Downloading opt_einsum-3.3.0-py3-none-any.whl (65 kB)\n",
      "     ━━━━━━━━━━━━━━━━━━━━━━━━━━━━━━━━━━━━━━━━ 65.5/65.5 kB 13.6 MB/s eta 0:00:00\n",
      "Requirement already satisfied: wheel<1.0,>=0.23.0 in /azureml-envs/azureml_635f1be5530626fe076c2224989f6314/lib/python3.8/site-packages (from astunparse>=1.6.0->tensorflow>=2.0.0->turicreate->-r /azureml-environment-setup/condaenv.6bumjys3.requirements.txt (line 2)) (0.37.1)\n",
      "Collecting azure-mgmt-core<2.0.0,>=1.3.2\n",
      "  Downloading azure_mgmt_core-1.3.2-py3-none-any.whl (26 kB)\n",
      "Collecting azureml-dataprep-native<39.0.0,>=38.0.0\n",
      "  Downloading azureml_dataprep_native-38.0.0-cp38-cp38-manylinux1_x86_64.whl (1.4 MB)\n",
      "     ━━━━━━━━━━━━━━━━━━━━━━━━━━━━━━━━━━━━━━━━ 1.4/1.4 MB 102.8 MB/s eta 0:00:00\n",
      "Collecting dotnetcore2<4.0.0,>=3.0.0\n",
      "  Downloading dotnetcore2-3.1.23-py3-none-manylinux1_x86_64.whl (31.1 MB)\n",
      "     ━━━━━━━━━━━━━━━━━━━━━━━━━━━━━━━━━━━━━━━━ 31.1/31.1 MB 72.4 MB/s eta 0:00:00\n",
      "Collecting azure-identity>=1.7.0\n",
      "  Downloading azure_identity-1.12.0-py3-none-any.whl (135 kB)\n",
      "     ━━━━━━━━━━━━━━━━━━━━━━━━━━━━━━━━━━━━━━━ 135.5/135.5 kB 7.1 MB/s eta 0:00:00\n",
      "Collecting cloudpickle<3.0.0,>=1.1.0\n",
      "  Downloading cloudpickle-2.2.1-py3-none-any.whl (25 kB)\n",
      "Collecting azureml-dataprep-rslex~=2.15.2dev0\n",
      "  Downloading azureml_dataprep_rslex-2.15.2-cp38-cp38-manylinux_2_17_x86_64.manylinux2014_x86_64.whl (16.5 MB)\n",
      "     ━━━━━━━━━━━━━━━━━━━━━━━━━━━━━━━━━━━━━━━ 16.5/16.5 MB 105.8 MB/s eta 0:00:00\n",
      "Collecting pyyaml<7.0.0,>=5.1.0\n",
      "  Downloading PyYAML-6.0-cp38-cp38-manylinux_2_5_x86_64.manylinux1_x86_64.manylinux_2_12_x86_64.manylinux2010_x86_64.whl (701 kB)\n",
      "     ━━━━━━━━━━━━━━━━━━━━━━━━━━━━━━━━━━━━━━ 701.2/701.2 kB 73.9 MB/s eta 0:00:00\n",
      "Collecting jsonschema\n",
      "  Downloading jsonschema-4.17.3-py3-none-any.whl (90 kB)\n",
      "     ━━━━━━━━━━━━━━━━━━━━━━━━━━━━━━━━━━━━━━━━ 90.4/90.4 kB 18.9 MB/s eta 0:00:00\n",
      "Collecting cffi>=1.12\n",
      "  Downloading cffi-1.15.1-cp38-cp38-manylinux_2_17_x86_64.manylinux2014_x86_64.whl (442 kB)\n",
      "     ━━━━━━━━━━━━━━━━━━━━━━━━━━━━━━━━━━━━━━ 442.7/442.7 kB 50.5 MB/s eta 0:00:00\n",
      "Collecting websocket-client>=0.32.0\n",
      "  Downloading websocket_client-1.5.0-py3-none-any.whl (55 kB)\n",
      "     ━━━━━━━━━━━━━━━━━━━━━━━━━━━━━━━━━━━━━━━━ 55.9/55.9 kB 6.4 MB/s eta 0:00:00\n",
      "Collecting Flask>=0.9\n",
      "  Downloading Flask-2.2.2-py3-none-any.whl (101 kB)\n",
      "     ━━━━━━━━━━━━━━━━━━━━━━━━━━━━━━━━━━━━━━━ 101.5/101.5 kB 4.3 MB/s eta 0:00:00\n",
      "Collecting wrapt>=1.11.0\n",
      "  Downloading wrapt-1.12.1.tar.gz (27 kB)\n",
      "  Preparing metadata (setup.py): started\n",
      "  Preparing metadata (setup.py): finished with status 'done'\n",
      "Collecting pygments\n",
      "  Downloading Pygments-2.14.0-py3-none-any.whl (1.1 MB)\n",
      "     ━━━━━━━━━━━━━━━━━━━━━━━━━━━━━━━━━━━━━━━━ 1.1/1.1 MB 90.6 MB/s eta 0:00:00\n",
      "Collecting tabulate\n",
      "  Downloading tabulate-0.9.0-py3-none-any.whl (35 kB)\n",
      "Collecting portalocker<3,>=1.0\n",
      "  Downloading portalocker-2.7.0-py2.py3-none-any.whl (15 kB)\n",
      "Collecting isodate>=0.6.0\n",
      "  Downloading isodate-0.6.1-py2.py3-none-any.whl (41 kB)\n",
      "     ━━━━━━━━━━━━━━━━━━━━━━━━━━━━━━━━━━━━━━━ 41.7/41.7 kB 946.2 kB/s eta 0:00:00\n",
      "Collecting requests-oauthlib>=0.5.0\n",
      "  Downloading requests_oauthlib-1.3.1-py2.py3-none-any.whl (23 kB)\n",
      "Collecting pyasn1>=0.1.1\n",
      "  Downloading pyasn1-0.4.8-py2.py3-none-any.whl (77 kB)\n",
      "     ━━━━━━━━━━━━━━━━━━━━━━━━━━━━━━━━━━━━━━━━ 77.1/77.1 kB 5.1 MB/s eta 0:00:00\n",
      "Collecting opencensus<1.0.0,>=0.11.1\n",
      "  Downloading opencensus-0.11.1-py2.py3-none-any.whl (128 kB)\n",
      "     ━━━━━━━━━━━━━━━━━━━━━━━━━━━━━━━━━━━━━━━ 128.2/128.2 kB 4.0 MB/s eta 0:00:00\n",
      "Collecting psutil>=5.6.3\n",
      "  Downloading psutil-5.9.4-cp36-abi3-manylinux_2_12_x86_64.manylinux2010_x86_64.manylinux_2_17_x86_64.manylinux2014_x86_64.whl (280 kB)\n",
      "     ━━━━━━━━━━━━━━━━━━━━━━━━━━━━━━━━━━━━━━ 280.2/280.2 kB 42.9 MB/s eta 0:00:00\n",
      "Collecting pyparsing!=3.0.5,>=2.0.2\n",
      "  Downloading pyparsing-3.0.9-py3-none-any.whl (98 kB)\n",
      "     ━━━━━━━━━━━━━━━━━━━━━━━━━━━━━━━━━━━━━━━━ 98.3/98.3 kB 21.4 MB/s eta 0:00:00\n",
      "Collecting bcrypt>=3.1.3\n",
      "  Downloading bcrypt-4.0.1-cp36-abi3-manylinux_2_28_x86_64.whl (593 kB)\n",
      "     ━━━━━━━━━━━━━━━━━━━━━━━━━━━━━━━━━━━━━━ 593.7/593.7 kB 68.2 MB/s eta 0:00:00\n",
      "Collecting pynacl>=1.0.1\n",
      "  Downloading PyNaCl-1.5.0-cp36-abi3-manylinux_2_17_x86_64.manylinux2014_x86_64.manylinux_2_24_x86_64.whl (856 kB)\n",
      "     ━━━━━━━━━━━━━━━━━━━━━━━━━━━━━━━━━━━━━━ 856.7/856.7 kB 80.5 MB/s eta 0:00:00\n",
      "Collecting cryptography!=1.9,!=2.0.*,!=2.1.*,!=2.2.*,<41\n",
      "  Downloading cryptography-38.0.4-cp36-abi3-manylinux_2_28_x86_64.whl (4.2 MB)\n",
      "     ━━━━━━━━━━━━━━━━━━━━━━━━━━━━━━━━━━━━━━━━ 4.2/4.2 MB 111.4 MB/s eta 0:00:00\n",
      "Collecting PySocks!=1.5.7,>=1.5.6\n",
      "  Downloading PySocks-1.7.1-py3-none-any.whl (16 kB)\n",
      "Collecting jeepney>=0.6\n",
      "  Downloading jeepney-0.8.0-py3-none-any.whl (48 kB)\n",
      "     ━━━━━━━━━━━━━━━━━━━━━━━━━━━━━━━━━━━━━━━━ 48.4/48.4 kB 10.8 MB/s eta 0:00:00\n",
      "Collecting google-auth-oauthlib<0.5,>=0.4.1\n",
      "  Downloading google_auth_oauthlib-0.4.6-py2.py3-none-any.whl (18 kB)\n",
      "Collecting tensorboard-data-server<0.7.0,>=0.6.0\n",
      "  Downloading tensorboard_data_server-0.6.1-py3-none-manylinux2010_x86_64.whl (4.9 MB)\n",
      "     ━━━━━━━━━━━━━━━━━━━━━━━━━━━━━━━━━━━━━━━━ 4.9/4.9 MB 114.6 MB/s eta 0:00:00\n",
      "Collecting tensorboard-plugin-wit>=1.6.0\n",
      "  Downloading tensorboard_plugin_wit-1.8.1-py3-none-any.whl (781 kB)\n",
      "     ━━━━━━━━━━━━━━━━━━━━━━━━━━━━━━━━━━━━━━ 781.3/781.3 kB 82.6 MB/s eta 0:00:00\n",
      "Collecting markdown>=2.6.8\n",
      "  Downloading Markdown-3.4.1-py3-none-any.whl (93 kB)\n",
      "     ━━━━━━━━━━━━━━━━━━━━━━━━━━━━━━━━━━━━━━━━ 93.3/93.3 kB 22.2 MB/s eta 0:00:00\n",
      "Collecting werkzeug>=1.0.1\n",
      "  Downloading Werkzeug-2.2.2-py3-none-any.whl (232 kB)\n",
      "     ━━━━━━━━━━━━━━━━━━━━━━━━━━━━━━━━━━━━━━ 232.7/232.7 kB 43.9 MB/s eta 0:00:00\n",
      "Collecting google-auth<3,>=1.6.3\n",
      "  Downloading google_auth-2.16.0-py2.py3-none-any.whl (177 kB)\n",
      "     ━━━━━━━━━━━━━━━━━━━━━━━━━━━━━━━━━━━━━━ 177.8/177.8 kB 31.3 MB/s eta 0:00:00\n",
      "Collecting backports.weakref\n",
      "  Downloading backports.weakref-1.0.post1-py2.py3-none-any.whl (5.2 kB)\n",
      "Collecting mpmath>=0.19\n",
      "  Downloading mpmath-1.2.1-py3-none-any.whl (532 kB)\n",
      "     ━━━━━━━━━━━━━━━━━━━━━━━━━━━━━━━━━━━━━━ 532.6/532.6 kB 64.5 MB/s eta 0:00:00\n",
      "Collecting pycparser\n",
      "  Downloading pycparser-2.21-py2.py3-none-any.whl (118 kB)\n",
      "     ━━━━━━━━━━━━━━━━━━━━━━━━━━━━━━━━━━━━━━ 118.7/118.7 kB 26.9 MB/s eta 0:00:00\n",
      "Collecting distro>=1.2.0\n",
      "  Downloading distro-1.8.0-py3-none-any.whl (20 kB)\n",
      "Collecting click>=8.0\n",
      "  Downloading click-8.1.3-py3-none-any.whl (96 kB)\n",
      "     ━━━━━━━━━━━━━━━━━━━━━━━━━━━━━━━━━━━━━━━━ 96.6/96.6 kB 22.1 MB/s eta 0:00:00\n",
      "Collecting importlib-metadata>=3.6.0\n",
      "  Downloading importlib_metadata-6.0.0-py3-none-any.whl (21 kB)\n",
      "Collecting itsdangerous>=2.0\n",
      "  Downloading itsdangerous-2.1.2-py3-none-any.whl (15 kB)\n",
      "Collecting Jinja2>=3.0\n",
      "  Downloading Jinja2-3.1.2-py3-none-any.whl (133 kB)\n",
      "     ━━━━━━━━━━━━━━━━━━━━━━━━━━━━━━━━━━━━━━ 133.1/133.1 kB 26.8 MB/s eta 0:00:00\n",
      "Collecting pyasn1-modules>=0.2.1\n",
      "  Downloading pyasn1_modules-0.2.8-py2.py3-none-any.whl (155 kB)\n",
      "     ━━━━━━━━━━━━━━━━━━━━━━━━━━━━━━━━━━━━━━ 155.3/155.3 kB 30.7 MB/s eta 0:00:00\n",
      "Collecting cachetools<6.0,>=2.0.0\n",
      "  Downloading cachetools-5.3.0-py3-none-any.whl (9.3 kB)\n",
      "Collecting rsa<5,>=3.1.4\n",
      "  Downloading rsa-4.9-py3-none-any.whl (34 kB)\n",
      "Collecting opencensus-context>=0.1.3\n",
      "  Downloading opencensus_context-0.1.3-py2.py3-none-any.whl (5.1 kB)\n",
      "Collecting google-api-core<3.0.0,>=1.0.0\n",
      "  Downloading google_api_core-2.11.0-py3-none-any.whl (120 kB)\n",
      "     ━━━━━━━━━━━━━━━━━━━━━━━━━━━━━━━━━━━━━━ 120.3/120.3 kB 24.4 MB/s eta 0:00:00\n",
      "Collecting oauthlib>=3.0.0\n",
      "  Downloading oauthlib-3.2.2-py3-none-any.whl (151 kB)\n",
      "     ━━━━━━━━━━━━━━━━━━━━━━━━━━━━━━━━━━━━━━ 151.7/151.7 kB 30.4 MB/s eta 0:00:00\n",
      "Collecting MarkupSafe>=2.1.1\n",
      "  Downloading MarkupSafe-2.1.2-cp38-cp38-manylinux_2_17_x86_64.manylinux2014_x86_64.whl (25 kB)\n",
      "Collecting importlib-resources>=1.4.0\n",
      "  Downloading importlib_resources-5.10.2-py3-none-any.whl (34 kB)\n",
      "Collecting pkgutil-resolve-name>=1.3.10\n",
      "  Downloading pkgutil_resolve_name-1.3.10-py3-none-any.whl (4.7 kB)\n",
      "Collecting pyrsistent!=0.17.0,!=0.17.1,!=0.17.2,>=0.14.0\n",
      "  Downloading pyrsistent-0.19.3-py3-none-any.whl (57 kB)\n",
      "     ━━━━━━━━━━━━━━━━━━━━━━━━━━━━━━━━━━━━━━━━ 57.5/57.5 kB 10.4 MB/s eta 0:00:00\n",
      "Collecting googleapis-common-protos<2.0dev,>=1.56.2\n",
      "  Downloading googleapis_common_protos-1.58.0-py2.py3-none-any.whl (223 kB)\n",
      "     ━━━━━━━━━━━━━━━━━━━━━━━━━━━━━━━━━━━━━━━ 223.0/223.0 kB 9.5 MB/s eta 0:00:00\n",
      "Collecting zipp>=0.5\n",
      "  Downloading zipp-3.12.0-py3-none-any.whl (6.6 kB)\n",
      "Building wheels for collected packages: prettytable, resampy, fusepy, wrapt\n",
      "  Building wheel for prettytable (setup.py): started\n",
      "  Building wheel for prettytable (setup.py): finished with status 'done'\n",
      "  Created wheel for prettytable: filename=prettytable-0.7.2-py3-none-any.whl size=13714 sha256=16723b15c43b87be29e975cf74b67baabb867436a6144e3d0e001c067a381510\n",
      "  Stored in directory: /root/.cache/pip/wheels/48/6d/77/9517cb933af254f51a446f1a5ec9c2be3e45f17384940bce68\n",
      "  Building wheel for resampy (setup.py): started\n",
      "  Building wheel for resampy (setup.py): finished with status 'done'\n",
      "  Created wheel for resampy: filename=resampy-0.2.1-py3-none-any.whl size=320860 sha256=8c965c8f64e752ff53332b3d189a2c83624d1559cedd8f9be0a86b2579f548d7\n",
      "  Stored in directory: /root/.cache/pip/wheels/2b/a9/15/89e0e4544c36f50e4e8d54d546f2331c461f505d3b55d3f358\n",
      "  Building wheel for fusepy (setup.py): started\n",
      "  Building wheel for fusepy (setup.py): finished with status 'done'\n",
      "  Created wheel for fusepy: filename=fusepy-3.0.1-py3-none-any.whl size=10503 sha256=b57abd7c79995e69972fbab2376bbd2ad7b42e35463d386d3f229415d8889c60\n",
      "  Stored in directory: /root/.cache/pip/wheels/7f/41/10/f70b83a1164fdb95e7bc37bace13114a024227e56c2fee02bb\n",
      "  Building wheel for wrapt (setup.py): started\n",
      "  Building wheel for wrapt (setup.py): finished with status 'done'\n",
      "  Created wheel for wrapt: filename=wrapt-1.12.1-cp38-cp38-linux_x86_64.whl size=81719 sha256=bef720349b6c7c47ee20a9ae440d70c9d4cf96fb44975b70bc9e0e1bb8dc63b3\n",
      "  Stored in directory: /root/.cache/pip/wheels/5f/fd/9e/b6cf5890494cb8ef0b5eaff72e5d55a70fb56316007d6dfe73\n",
      "Successfully built prettytable resampy fusepy wrapt\n",
      "Installing collected packages: wrapt, tensorboard-plugin-wit, pytz, pyasn1, prettytable, opencensus-context, mpmath, libclang, fusepy, flatbuffers, charset-normalizer, backports.weakref, azureml-dataprep-rslex, azureml-dataprep-native, azure-common, attr, zipp, websocket-client, urllib3, typing-extensions, tqdm, termcolor, tensorflow-io-gcs-filesystem, tensorflow-estimator, tensorboard-data-server, tabulate, sympy, six, rsa, pyyaml, PySocks, pyrsistent, pyparsing, PyJWT, pygments, pycparser, pyasn1-modules, psutil, protobuf, portalocker, pkgutil-resolve-name, pkginfo, pillow, pathspec, oauthlib, numpy, MarkupSafe, llvmlite, keras, jsonpickle, jmespath, jeepney, itsdangerous, idna, humanfriendly, gunicorn, grpcio, gast, distro, decorator, contextlib2, cloudpickle, click, cachetools, bcrypt, backports.tempfile, attrs, argcomplete, absl-py, werkzeug, scipy, requests, python-dateutil, pyarrow, packaging, opt-einsum, numba, knack, Jinja2, isodate, importlib-resources, importlib-metadata, h5py, googleapis-common-protos, google-pasta, google-auth, dotnetcore2, cffi, astunparse, resampy, requests-oauthlib, pynacl, pandas, markdown, jsonschema, inference-schema, google-api-core, Flask, docker, cryptography, coremltools, azure-core, SecretStorage, pyopenssl, paramiko, opencensus, msrest, google-auth-oauthlib, flask-cors, azure-mgmt-core, adal, tensorboard, ndg-httpsclient, msrestazure, msal, azure-mgmt-storage, azure-mgmt-resource, azure-mgmt-keyvault, azure-mgmt-containerregistry, azure-mgmt-authorization, tensorflow, msal-extensions, azure-graphrbac, turicreate, azureml-core, azure-identity, opencensus-ext-azure, azureml-dataprep, azureml-inference-server-http, azureml-dataset-runtime, azureml-defaults\n",
      "Successfully installed Flask-2.2.2 Jinja2-3.1.2 MarkupSafe-2.1.2 PyJWT-2.6.0 PySocks-1.7.1 SecretStorage-3.3.3 absl-py-1.4.0 adal-1.2.7 argcomplete-2.0.0 astunparse-1.6.3 attr-0.3.2 attrs-22.2.0 azure-common-1.1.28 azure-core-1.26.2 azure-graphrbac-0.61.1 azure-identity-1.12.0 azure-mgmt-authorization-3.0.0 azure-mgmt-containerregistry-10.0.0 azure-mgmt-core-1.3.2 azure-mgmt-keyvault-10.1.0 azure-mgmt-resource-21.2.1 azure-mgmt-storage-20.1.0 azureml-core-1.48.0 azureml-dataprep-4.8.6 azureml-dataprep-native-38.0.0 azureml-dataprep-rslex-2.15.2 azureml-dataset-runtime-1.48.0 azureml-defaults-1.48.0 azureml-inference-server-http-0.7.7 backports.tempfile-1.0 backports.weakref-1.0.post1 bcrypt-4.0.1 cachetools-5.3.0 cffi-1.15.1 charset-normalizer-3.0.1 click-8.1.3 cloudpickle-2.2.1 contextlib2-21.6.0 coremltools-4.0b3 cryptography-38.0.4 decorator-5.1.1 distro-1.8.0 docker-6.0.1 dotnetcore2-3.1.23 flask-cors-3.0.10 flatbuffers-23.1.21 fusepy-3.0.1 gast-0.4.0 google-api-core-2.11.0 google-auth-2.16.0 google-auth-oauthlib-0.4.6 google-pasta-0.2.0 googleapis-common-protos-1.58.0 grpcio-1.51.1 gunicorn-20.1.0 h5py-3.8.0 humanfriendly-10.0 idna-3.4 importlib-metadata-6.0.0 importlib-resources-5.10.2 inference-schema-1.5.1 isodate-0.6.1 itsdangerous-2.1.2 jeepney-0.8.0 jmespath-1.0.1 jsonpickle-2.2.0 jsonschema-4.17.3 keras-2.11.0 knack-0.10.1 libclang-15.0.6.1 llvmlite-0.33.0 markdown-3.4.1 mpmath-1.2.1 msal-1.21.0 msal-extensions-1.0.0 msrest-0.7.1 msrestazure-0.6.4 ndg-httpsclient-0.5.1 numba-0.50.1 numpy-1.24.1 oauthlib-3.2.2 opencensus-0.11.1 opencensus-context-0.1.3 opencensus-ext-azure-1.1.8 opt-einsum-3.3.0 packaging-21.3 pandas-1.5.3 paramiko-2.12.0 pathspec-0.11.0 pillow-9.4.0 pkginfo-1.9.6 pkgutil-resolve-name-1.3.10 portalocker-2.7.0 prettytable-0.7.2 protobuf-3.19.6 psutil-5.9.4 pyarrow-9.0.0 pyasn1-0.4.8 pyasn1-modules-0.2.8 pycparser-2.21 pygments-2.14.0 pynacl-1.5.0 pyopenssl-22.1.0 pyparsing-3.0.9 pyrsistent-0.19.3 python-dateutil-2.8.2 pytz-2022.7.1 pyyaml-6.0 requests-2.28.2 requests-oauthlib-1.3.1 resampy-0.2.1 rsa-4.9 scipy-1.10.0 six-1.16.0 sympy-1.11.1 tabulate-0.9.0 tensorboard-2.11.2 tensorboard-data-server-0.6.1 tensorboard-plugin-wit-1.8.1 tensorflow-2.11.0 tensorflow-estimator-2.11.0 tensorflow-io-gcs-filesystem-0.30.0 termcolor-2.2.0 tqdm-4.64.1 turicreate-6.4.1 typing-extensions-4.4.0 urllib3-1.26.14 websocket-client-1.5.0 werkzeug-2.2.2 wrapt-1.12.1 zipp-3.12.0\n",
      "\n",
      "done\n",
      "\u001b[91m\n",
      "\n",
      "==> WARNING: A newer version of conda exists. <==\n",
      "  current version: 4.12.0\n",
      "  latest version: 23.1.0\n",
      "\n",
      "Please update conda by running\n",
      "\n",
      "    $ conda update -n base -c defaults conda\n",
      "\n",
      "\n",
      "\u001b[0m#\n",
      "# To activate this environment, use\n",
      "#\n",
      "#     $ conda activate /azureml-envs/azureml_635f1be5530626fe076c2224989f6314\n",
      "#\n",
      "# To deactivate an active environment, use\n",
      "#\n",
      "#     $ conda deactivate\n",
      "\n",
      "WARNING: /root/.conda/pkgs does not exist\n",
      "Removing intermediate container 30aa820eeb38\n",
      " ---> f977ddf10302\n",
      "Step 15/28 : ENV PATH /azureml-envs/azureml_635f1be5530626fe076c2224989f6314/bin:$PATH\n",
      " ---> Running in e996a56b0422\n",
      "Removing intermediate container e996a56b0422\n",
      " ---> 93214c254699\n",
      "Step 16/28 : COPY azureml-environment-setup/send_conda_dependencies.py azureml-environment-setup/send_conda_dependencies.py\n",
      " ---> 77353734c83a\n",
      "Step 17/28 : RUN echo \"Copying environment context\"\n",
      " ---> Running in 61f5147febb9\n",
      "Copying environment context\n",
      "Removing intermediate container 61f5147febb9\n",
      " ---> 59ac28e87291\n",
      "Step 18/28 : COPY azureml-environment-setup/environment_context.json azureml-environment-setup/environment_context.json\n",
      " ---> da7177b197da\n",
      "Step 19/28 : RUN python /azureml-environment-setup/send_conda_dependencies.py -p /azureml-envs/azureml_635f1be5530626fe076c2224989f6314\n",
      " ---> Running in 40394732bd15\n",
      "Report materialized dependencies for the environment\n",
      "Reading environment context\n",
      "Exporting conda environment\n",
      "Sending request with materialized conda environment details\n",
      "Successfully sent materialized environment details\n",
      "Removing intermediate container 40394732bd15\n",
      " ---> 3fa5f84a00f7\n",
      "Step 20/28 : ENV AZUREML_CONDA_ENVIRONMENT_PATH /azureml-envs/azureml_635f1be5530626fe076c2224989f6314\n",
      " ---> Running in deedccb86ba8\n",
      "Removing intermediate container deedccb86ba8\n",
      " ---> d8c1dfd43240\n",
      "Step 21/28 : ENV LD_LIBRARY_PATH /azureml-envs/azureml_635f1be5530626fe076c2224989f6314/lib:$LD_LIBRARY_PATH\n",
      " ---> Running in 2d6e5dd58744\n",
      "Removing intermediate container 2d6e5dd58744\n",
      " ---> 9ff8c8c97dd2\n",
      "Step 22/28 : ENV CONDA_DEFAULT_ENV=azureml_635f1be5530626fe076c2224989f6314 CONDA_PREFIX=/azureml-envs/azureml_635f1be5530626fe076c2224989f6314\n",
      " ---> Running in 1bdc874a89b8\n",
      "Removing intermediate container 1bdc874a89b8\n",
      " ---> 309e1c7911e6\n",
      "Step 23/28 : COPY azureml-environment-setup/spark_cache.py azureml-environment-setup/log4j.properties /azureml-environment-setup/\n",
      " ---> 2f9271e787c2\n",
      "Step 24/28 : RUN if [ $SPARK_HOME ]; then /bin/bash -c '$SPARK_HOME/bin/spark-submit  /azureml-environment-setup/spark_cache.py'; fi\n",
      " ---> Running in 6f190b1c889f\n",
      "Removing intermediate container 6f190b1c889f\n",
      " ---> 648308047942\n",
      "Step 25/28 : RUN rm -rf azureml-environment-setup\n",
      " ---> Running in 317a02983d0a\n",
      "Removing intermediate container 317a02983d0a\n",
      " ---> 5b9de720c540\n",
      "Step 26/28 : ENV AZUREML_ENVIRONMENT_IMAGE True\n",
      " ---> Running in f10f46e2fae2\n",
      "Removing intermediate container f10f46e2fae2\n",
      " ---> 7ee78110d685\n",
      "Step 27/28 : CMD [\"bash\"]\n",
      " ---> Running in e62ffa3ec928\n",
      "Removing intermediate container e62ffa3ec928\n",
      " ---> 083effa0eefa\n",
      "Step 28/28 : EXPOSE 5001 8883 8888\n",
      " ---> Running in c5ea4d721f20\n",
      "Removing intermediate container c5ea4d721f20\n",
      " ---> 76721a88f05f\n",
      "Successfully built 76721a88f05f\n",
      "Successfully tagged 8cd100591dc0495bba6b05e638847d61.azurecr.io/azureml/azureml_e09ca68920848b36c7b56c609f002bda:latest\n",
      "Successfully tagged 8cd100591dc0495bba6b05e638847d61.azurecr.io/azureml/azureml_e09ca68920848b36c7b56c609f002bda:1\n",
      "2023/02/01 02:09:42 Successfully executed container: acb_step_0\n",
      "2023/02/01 02:09:42 Executing step ID: acb_step_1. Timeout(sec): 5400, Working directory: '', Network: 'acb_default_network'\n",
      "2023/02/01 02:09:42 Pushing image: 8cd100591dc0495bba6b05e638847d61.azurecr.io/azureml/azureml_e09ca68920848b36c7b56c609f002bda:1, attempt 1\n",
      "The push refers to repository [8cd100591dc0495bba6b05e638847d61.azurecr.io/azureml/azureml_e09ca68920848b36c7b56c609f002bda]\n",
      "44a937a35130: Preparing\n",
      "19ff1cd4104f: Preparing\n",
      "4c8227619dbf: Preparing\n",
      "595bc88a3dbb: Preparing\n",
      "f0c2573a616e: Preparing\n",
      "8dd82d91d4d9: Preparing\n",
      "7fcb555e71fe: Preparing\n",
      "db7fb439eef6: Preparing\n",
      "09dfc9285668: Preparing\n",
      "b77f089d0c47: Preparing\n",
      "74c3300d46e4: Preparing\n",
      "2289535bd0e6: Preparing\n",
      "b0a02381732a: Preparing\n",
      "2bcdf82aed44: Preparing\n",
      "b21e039321ee: Preparing\n",
      "445a2d2462f0: Preparing\n",
      "6e539e6b11c3: Preparing\n",
      "b67f8b8feccd: Preparing\n",
      "7e60813e02c4: Preparing\n",
      "0d66ccba1288: Preparing\n",
      "20b46ade1e43: Preparing\n",
      "21d33b1352c9: Preparing\n",
      "af7ed92504ae: Preparing\n",
      "8dd82d91d4d9: Waiting\n",
      "7fcb555e71fe: Waiting\n",
      "db7fb439eef6: Waiting\n",
      "09dfc9285668: Waiting\n",
      "b77f089d0c47: Waiting\n",
      "74c3300d46e4: Waiting\n",
      "2289535bd0e6: Waiting\n",
      "b0a02381732a: Waiting\n",
      "2bcdf82aed44: Waiting\n",
      "b21e039321ee: Waiting\n",
      "445a2d2462f0: Waiting\n",
      "6e539e6b11c3: Waiting\n",
      "b67f8b8feccd: Waiting\n",
      "7e60813e02c4: Waiting\n",
      "0d66ccba1288: Waiting\n",
      "20b46ade1e43: Waiting\n",
      "21d33b1352c9: Waiting\n",
      "af7ed92504ae: Waiting\n",
      "f0c2573a616e: Pushed\n",
      "19ff1cd4104f: Pushed\n",
      "44a937a35130: Pushed\n",
      "595bc88a3dbb: Pushed\n",
      "7fcb555e71fe: Pushed\n",
      "4c8227619dbf: Pushed\n",
      "09dfc9285668: Pushed\n",
      "db7fb439eef6: Pushed\n",
      "b77f089d0c47: Pushed\n",
      "2289535bd0e6: Pushed\n",
      "b0a02381732a: Pushed\n",
      "2bcdf82aed44: Pushed\n",
      "74c3300d46e4: Pushed\n",
      "b21e039321ee: Pushed\n",
      "7e60813e02c4: Pushed\n",
      "445a2d2462f0: Pushed\n",
      "6e539e6b11c3: Pushed\n",
      "0d66ccba1288: Pushed\n",
      "20b46ade1e43: Pushed\n",
      "af7ed92504ae: Pushed\n",
      "b67f8b8feccd: Pushed\n",
      "21d33b1352c9: Pushed\n",
      "8dd82d91d4d9: Pushed\n",
      "1: digest: sha256:4600028d281c746bf2678b8ef2ee9717660bd7c5045c79fbe92e56d39168960d size: 5146\n",
      "2023/02/01 02:12:05 Successfully pushed image: 8cd100591dc0495bba6b05e638847d61.azurecr.io/azureml/azureml_e09ca68920848b36c7b56c609f002bda:1\n",
      "2023/02/01 02:12:05 Executing step ID: acb_step_2. Timeout(sec): 5400, Working directory: '', Network: 'acb_default_network'\n",
      "2023/02/01 02:12:05 Pushing image: 8cd100591dc0495bba6b05e638847d61.azurecr.io/azureml/azureml_e09ca68920848b36c7b56c609f002bda:latest, attempt 1\n",
      "The push refers to repository [8cd100591dc0495bba6b05e638847d61.azurecr.io/azureml/azureml_e09ca68920848b36c7b56c609f002bda]\n",
      "44a937a35130: Preparing\n",
      "19ff1cd4104f: Preparing\n",
      "4c8227619dbf: Preparing\n",
      "595bc88a3dbb: Preparing\n",
      "f0c2573a616e: Preparing\n",
      "8dd82d91d4d9: Preparing\n",
      "7fcb555e71fe: Preparing\n",
      "db7fb439eef6: Preparing\n",
      "09dfc9285668: Preparing\n",
      "b77f089d0c47: Preparing\n",
      "74c3300d46e4: Preparing\n",
      "2289535bd0e6: Preparing\n",
      "b0a02381732a: Preparing\n",
      "2bcdf82aed44: Preparing\n",
      "b21e039321ee: Preparing\n",
      "445a2d2462f0: Preparing\n",
      "6e539e6b11c3: Preparing\n",
      "b67f8b8feccd: Preparing\n",
      "7e60813e02c4: Preparing\n",
      "0d66ccba1288: Preparing\n",
      "20b46ade1e43: Preparing\n",
      "21d33b1352c9: Preparing\n",
      "af7ed92504ae: Preparing\n",
      "8dd82d91d4d9: Waiting\n",
      "7fcb555e71fe: Waiting\n",
      "db7fb439eef6: Waiting\n",
      "b21e039321ee: Waiting\n",
      "09dfc9285668: Waiting\n",
      "b77f089d0c47: Waiting\n",
      "445a2d2462f0: Waiting\n",
      "74c3300d46e4: Waiting\n",
      "6e539e6b11c3: Waiting\n",
      "2289535bd0e6: Waiting\n",
      "b0a02381732a: Waiting\n",
      "b67f8b8feccd: Waiting\n",
      "2bcdf82aed44: Waiting\n",
      "7e60813e02c4: Waiting\n",
      "21d33b1352c9: Waiting\n",
      "0d66ccba1288: Waiting\n",
      "af7ed92504ae: Waiting\n",
      "20b46ade1e43: Waiting\n",
      "\n",
      "44a937a35130: Layer already exists\n",
      "19ff1cd4104f: Layer already exists\n",
      "595bc88a3dbb: Layer already exists\n",
      "f0c2573a616e: Layer already exists\n",
      "4c8227619dbf: Layer already exists\n",
      "8dd82d91d4d9: Layer already exists\n",
      "09dfc9285668: Layer already exists\n",
      "db7fb439eef6: Layer already exists\n",
      "74c3300d46e4: Layer already exists\n",
      "7fcb555e71fe: Layer already exists\n",
      "b77f089d0c47: Layer already exists\n",
      "2289535bd0e6: Layer already exists\n",
      "b21e039321ee: Layer already exists\n",
      "445a2d2462f0: Layer already exists\n",
      "b0a02381732a: Layer already exists\n",
      "6e539e6b11c3: Layer already exists\n",
      "b67f8b8feccd: Layer already exists\n",
      "7e60813e02c4: Layer already exists\n",
      "0d66ccba1288: Layer already exists\n",
      "2bcdf82aed44: Layer already exists\n",
      "21d33b1352c9: Layer already exists\n",
      "af7ed92504ae: Layer already exists\n",
      "20b46ade1e43: Layer already exists\n",
      "latest: digest: sha256:4600028d281c746bf2678b8ef2ee9717660bd7c5045c79fbe92e56d39168960d size: 5146\n",
      "2023/02/01 02:12:16 Successfully pushed image: 8cd100591dc0495bba6b05e638847d61.azurecr.io/azureml/azureml_e09ca68920848b36c7b56c609f002bda:latest\n",
      "2023/02/01 02:12:16 Step ID: acb_step_0 marked as successful (elapsed time in seconds: 306.302766)\n",
      "2023/02/01 02:12:16 Populating digests for step ID: acb_step_0...\n",
      "2023/02/01 02:12:18 Successfully populated digests for step ID: acb_step_0\n",
      "2023/02/01 02:12:18 Step ID: acb_step_1 marked as successful (elapsed time in seconds: 142.311346)\n",
      "2023/02/01 02:12:18 Step ID: acb_step_2 marked as successful (elapsed time in seconds: 11.232920)\n",
      "2023/02/01 02:12:18 The following dependencies were found:\n",
      "2023/02/01 02:12:18 \n",
      "- image:\n",
      "    registry: 8cd100591dc0495bba6b05e638847d61.azurecr.io\n",
      "    repository: azureml/azureml_e09ca68920848b36c7b56c609f002bda\n",
      "    tag: latest\n",
      "    digest: sha256:4600028d281c746bf2678b8ef2ee9717660bd7c5045c79fbe92e56d39168960d\n",
      "  runtime-dependency:\n",
      "    registry: mcr.microsoft.com\n",
      "    repository: azureml/openmpi4.1.0-ubuntu20.04\n",
      "    tag: 20221101.v1\n",
      "    digest: sha256:4505a963b2d34a42b5eaef48b8142ca98123d05d3a95eee3fe57551570a70e3b\n",
      "  buildtime-dependency:\n",
      "  - registry: mcr.microsoft.com\n",
      "    repository: azureml/o16n-base/python-assets\n",
      "    tag: latest\n",
      "    digest: sha256:d417c9df876f4ff868f2128e8295ebdac1b709ed514c71b315d63384f52438f6\n",
      "  git: {}\n",
      "- image:\n",
      "    registry: 8cd100591dc0495bba6b05e638847d61.azurecr.io\n",
      "    repository: azureml/azureml_e09ca68920848b36c7b56c609f002bda\n",
      "    tag: \"1\"\n",
      "    digest: sha256:4600028d281c746bf2678b8ef2ee9717660bd7c5045c79fbe92e56d39168960d\n",
      "  runtime-dependency:\n",
      "    registry: mcr.microsoft.com\n",
      "    repository: azureml/openmpi4.1.0-ubuntu20.04\n",
      "    tag: 20221101.v1\n",
      "    digest: sha256:4505a963b2d34a42b5eaef48b8142ca98123d05d3a95eee3fe57551570a70e3b\n",
      "  buildtime-dependency:\n",
      "  - registry: mcr.microsoft.com\n",
      "    repository: azureml/o16n-base/python-assets\n",
      "    tag: latest\n",
      "    digest: sha256:d417c9df876f4ff868f2128e8295ebdac1b709ed514c71b315d63384f52438f6\n",
      "  git: {}\n",
      "\n",
      "\n",
      "Run ID: ca1 was successful after 7m46s\n",
      "Package creation Succeeded\n",
      "Logging into Docker registry 8cd100591dc0495bba6b05e638847d61.azurecr.io\n",
      "Logging into Docker registry 8cd100591dc0495bba6b05e638847d61.azurecr.io\n",
      "Building Docker image from Dockerfile...\n",
      "Step 1/5 : FROM 8cd100591dc0495bba6b05e638847d61.azurecr.io/azureml/azureml_e09ca68920848b36c7b56c609f002bda\n",
      " ---> 76721a88f05f\n",
      "Step 2/5 : COPY azureml-app /var/azureml-app\n",
      " ---> db776a0369df\n",
      "Step 3/5 : RUN mkdir -p '/var/azureml-app' && echo eyJhY2NvdW50Q29udGV4dCI6eyJzdWJzY3JpcHRpb25JZCI6IjJmOGEyNTYzLTRlOTAtNGE4OC04ZTZjLTU2ZmEwZjEyY2I3ZSIsInJlc291cmNlR3JvdXBOYW1lIjoicmV0YWlsLXJlYy1icmF6aWwtZXgiLCJhY2NvdW50TmFtZSI6InJyYnJhemlsZXgiLCJ3b3Jrc3BhY2VJZCI6IjhjZDEwMDU5LTFkYzAtNDk1Yi1iYTZiLTA1ZTYzODg0N2Q2MSJ9LCJtb2RlbHMiOnt9LCJtb2RlbHNJbmZvIjp7fX0= | base64 --decode > /var/azureml-app/model_config_map.json\n",
      " ---> Running in ae1b3550f02c\n",
      " ---> a24f8f8e0dd0\n",
      "Step 4/5 : RUN mv '/var/azureml-app/tmpsxwz8js_.py' /var/azureml-app/main.py\n",
      " ---> Running in 11fa6cf9091d\n",
      " ---> ff9e73b15cf9\n",
      "Step 5/5 : CMD [\"runsvdir\",\"/var/runit\"]\n",
      " ---> Running in 459df33d5fcc\n",
      " ---> a7b9c1e19ff7\n",
      "Successfully built a7b9c1e19ff7\n",
      "Successfully tagged test:latest\n",
      "Starting Docker container...\n",
      "Docker container running.\n"
     ]
    }
   ],
   "source": [
    "inference_config = InferenceConfig(entry_script=DEPLOY_DIR+\"score.py\",environment=myenv)\n",
    "\n",
    "deployment_config = LocalWebservice.deploy_configuration(port=6789)\n",
    "\n",
    "local_service = Model.deploy(ws, \"test\", [azmodel_s, azmodel_r], inference_config, deployment_config)"
   ]
  },
  {
   "cell_type": "code",
   "execution_count": 52,
   "metadata": {
    "application/vnd.databricks.v1+cell": {
     "cellMetadata": {},
     "inputWidgets": {},
     "nuid": "787d032b-f49a-47dc-a1df-38b65970747c",
     "showTitle": false,
     "title": ""
    }
   },
   "outputs": [],
   "source": [
    "# If container fails, check out the logs\n",
    "# local_service.get_logs()"
   ]
  },
  {
   "cell_type": "markdown",
   "metadata": {
    "application/vnd.databricks.v1+cell": {
     "cellMetadata": {},
     "inputWidgets": {},
     "nuid": "8d8a8b26-58f0-41db-8e17-fe694b98e108",
     "showTitle": false,
     "title": ""
    }
   },
   "source": [
    "## Test local web service container"
   ]
  },
  {
   "cell_type": "code",
   "execution_count": 24,
   "metadata": {
    "application/vnd.databricks.v1+cell": {
     "cellMetadata": {},
     "inputWidgets": {},
     "nuid": "34c940de-6423-4ca8-a686-e1a1368b137b",
     "showTitle": false,
     "title": ""
    }
   },
   "outputs": [
    {
     "name": "stdout",
     "output_type": "stream",
     "text": [
      "Local service hosted in: http://localhost:6789/score\n"
     ]
    }
   ],
   "source": [
    "print(\"Local service hosted in:\", local_service.scoring_uri)"
   ]
  },
  {
   "cell_type": "code",
   "execution_count": 25,
   "metadata": {
    "application/vnd.databricks.v1+cell": {
     "cellMetadata": {},
     "inputWidgets": {},
     "nuid": "445f6482-d103-4110-8abd-7192385b250f",
     "showTitle": false,
     "title": ""
    }
   },
   "outputs": [
    {
     "name": "stdout",
     "output_type": "stream",
     "text": [
      "Checking container health...\n",
      "Local webservice is running at http://localhost:6789\n"
     ]
    },
    {
     "name": "stderr",
     "output_type": "stream",
     "text": [
      "Error: Scoring was unsuccessful.\n",
      "\n"
     ]
    },
    {
     "ename": "WebserviceException",
     "evalue": "WebserviceException:\n\tMessage: Error: Scoring was unsuccessful.\n\tInnerException None\n\tErrorResponse \n{\n    \"error\": {\n        \"message\": \"Error: Scoring was unsuccessful.\"\n    }\n}",
     "output_type": "error",
     "traceback": [
      "\u001b[0;31m---------------------------------------------------------------------------\u001b[0m",
      "\u001b[0;31mWebserviceException\u001b[0m                       Traceback (most recent call last)",
      "Cell \u001b[0;32mIn[25], line 3\u001b[0m\n\u001b[1;32m      1\u001b[0m \u001b[38;5;28;01mimport\u001b[39;00m \u001b[38;5;21;01mjson\u001b[39;00m\n\u001b[0;32m----> 3\u001b[0m response \u001b[38;5;241m=\u001b[39m \u001b[43mlocal_service\u001b[49m\u001b[38;5;241;43m.\u001b[39;49m\u001b[43mrun\u001b[49m\u001b[43m(\u001b[49m\u001b[43minput_data\u001b[49m\u001b[43m \u001b[49m\u001b[38;5;241;43m=\u001b[39;49m\u001b[43m \u001b[49m\u001b[43mtest_load3\u001b[49m\u001b[43m)\u001b[49m\n\u001b[1;32m      4\u001b[0m \u001b[38;5;28mprint\u001b[39m(response)\n",
      "File \u001b[0;32m/anaconda/envs/azureml_py38/lib/python3.8/site-packages/azureml/core/webservice/local.py:72\u001b[0m, in \u001b[0;36m_in_state.<locals>.decorator.<locals>.decorated\u001b[0;34m(self, *args, **kwargs)\u001b[0m\n\u001b[1;32m     69\u001b[0m \u001b[38;5;28;01mif\u001b[39;00m \u001b[38;5;28mself\u001b[39m\u001b[38;5;241m.\u001b[39mstate \u001b[38;5;129;01mnot\u001b[39;00m \u001b[38;5;129;01min\u001b[39;00m states:\n\u001b[1;32m     70\u001b[0m     \u001b[38;5;28;01mraise\u001b[39;00m WebserviceException(\u001b[38;5;124m'\u001b[39m\u001b[38;5;124mCannot call \u001b[39m\u001b[38;5;132;01m{}\u001b[39;00m\u001b[38;5;124m() when service is \u001b[39m\u001b[38;5;132;01m{}\u001b[39;00m\u001b[38;5;124m.\u001b[39m\u001b[38;5;124m'\u001b[39m\u001b[38;5;241m.\u001b[39mformat(func\u001b[38;5;241m.\u001b[39m\u001b[38;5;18m__name__\u001b[39m, \u001b[38;5;28mself\u001b[39m\u001b[38;5;241m.\u001b[39mstate),\n\u001b[1;32m     71\u001b[0m                               logger\u001b[38;5;241m=\u001b[39mmodule_logger)\n\u001b[0;32m---> 72\u001b[0m \u001b[38;5;28;01mreturn\u001b[39;00m \u001b[43mfunc\u001b[49m\u001b[43m(\u001b[49m\u001b[38;5;28;43mself\u001b[39;49m\u001b[43m,\u001b[49m\u001b[43m \u001b[49m\u001b[38;5;241;43m*\u001b[39;49m\u001b[43margs\u001b[49m\u001b[43m,\u001b[49m\u001b[43m \u001b[49m\u001b[38;5;241;43m*\u001b[39;49m\u001b[38;5;241;43m*\u001b[39;49m\u001b[43mkwargs\u001b[49m\u001b[43m)\u001b[49m\n",
      "File \u001b[0;32m/anaconda/envs/azureml_py38/lib/python3.8/site-packages/azureml/core/webservice/local.py:431\u001b[0m, in \u001b[0;36mLocalWebservice.run\u001b[0;34m(self, input_data)\u001b[0m\n\u001b[1;32m    428\u001b[0m \u001b[38;5;28;01mif\u001b[39;00m \u001b[38;5;28mself\u001b[39m\u001b[38;5;241m.\u001b[39mstate \u001b[38;5;241m==\u001b[39m LocalWebservice\u001b[38;5;241m.\u001b[39mSTATE_DEPLOYING:\n\u001b[1;32m    429\u001b[0m     \u001b[38;5;28mself\u001b[39m\u001b[38;5;241m.\u001b[39mwait_for_deployment()\n\u001b[0;32m--> 431\u001b[0m \u001b[38;5;28;01mreturn\u001b[39;00m \u001b[43mcontainer_scoring_call\u001b[49m\u001b[43m(\u001b[49m\u001b[38;5;28;43mself\u001b[39;49m\u001b[38;5;241;43m.\u001b[39;49m\u001b[43m_port\u001b[49m\u001b[43m,\u001b[49m\u001b[43m \u001b[49m\u001b[43minput_data\u001b[49m\u001b[43m,\u001b[49m\u001b[43m \u001b[49m\u001b[38;5;28;43mself\u001b[39;49m\u001b[38;5;241;43m.\u001b[39;49m\u001b[43m_container\u001b[49m\u001b[43m,\u001b[49m\u001b[43m \u001b[49m\u001b[38;5;28;43mself\u001b[39;49m\u001b[38;5;241;43m.\u001b[39;49m\u001b[43m_internal_base_url\u001b[49m\u001b[43m,\u001b[49m\n\u001b[1;32m    432\u001b[0m \u001b[43m                              \u001b[49m\u001b[43mcleanup_on_failure\u001b[49m\u001b[38;5;241;43m=\u001b[39;49m\u001b[38;5;28;43;01mFalse\u001b[39;49;00m\u001b[43m,\u001b[49m\u001b[43m \u001b[49m\u001b[43mscore_url\u001b[49m\u001b[38;5;241;43m=\u001b[39;49m\u001b[38;5;28;43mself\u001b[39;49m\u001b[38;5;241;43m.\u001b[39;49m\u001b[43mscoring_uri\u001b[49m\u001b[43m)\u001b[49m\n",
      "File \u001b[0;32m/anaconda/envs/azureml_py38/lib/python3.8/site-packages/azureml/_model_management/_util.py:840\u001b[0m, in \u001b[0;36mcontainer_scoring_call\u001b[0;34m(docker_port, input_data, container, health_url, cleanup_on_failure, score_url)\u001b[0m\n\u001b[1;32m    837\u001b[0m \u001b[38;5;28;01mif\u001b[39;00m cleanup_on_failure:\n\u001b[1;32m    838\u001b[0m     cleanup_container(container)\n\u001b[0;32m--> 840\u001b[0m \u001b[38;5;28;01mraise\u001b[39;00m WebserviceException(\u001b[38;5;124m'\u001b[39m\u001b[38;5;124mError: Scoring was unsuccessful.\u001b[39m\u001b[38;5;124m'\u001b[39m, logger\u001b[38;5;241m=\u001b[39mmodule_logger)\n",
      "\u001b[0;31mWebserviceException\u001b[0m: WebserviceException:\n\tMessage: Error: Scoring was unsuccessful.\n\tInnerException None\n\tErrorResponse \n{\n    \"error\": {\n        \"message\": \"Error: Scoring was unsuccessful.\"\n    }\n}"
     ]
    }
   ],
   "source": [
    "import json\n",
    "\n",
    "response = local_service.run(input_data = test_load3)\n",
    "print(response)"
   ]
  },
  {
   "cell_type": "code",
   "execution_count": 55,
   "metadata": {
    "application/vnd.databricks.v1+cell": {
     "cellMetadata": {},
     "inputWidgets": {},
     "nuid": "e3d61ba0-0d58-4bd2-9cec-7a87723bc181",
     "showTitle": false,
     "title": ""
    }
   },
   "outputs": [
    {
     "name": "stdout",
     "output_type": "stream",
     "text": [
      "[{\"visitorid\":6000,\"itemid\":64700,\"score\":0.0598958333,\"rank\":1},{\"visitorid\":6000,\"itemid\":158457,\"score\":0.0555555622,\"rank\":2},{\"visitorid\":6000,\"itemid\":54572,\"score\":0.0476190448,\"rank\":3},{\"visitorid\":6000,\"itemid\":342866,\"score\":0.0476190448,\"rank\":4},{\"visitorid\":6000,\"itemid\":393111,\"score\":0.0476190448,\"rank\":5},{\"visitorid\":6000,\"itemid\":464114,\"score\":0.0476190448,\"rank\":6},{\"visitorid\":6000,\"itemid\":50575,\"score\":0.0476190448,\"rank\":7},{\"visitorid\":6000,\"itemid\":279324,\"score\":0.0416666667,\"rank\":8},{\"visitorid\":6000,\"itemid\":342139,\"score\":0.0416666667,\"rank\":9},{\"visitorid\":6000,\"itemid\":26634,\"score\":0.0388888915,\"rank\":10},{\"visitorid\":567987987988,\"itemid\":456056,\"score\":0.0257491243,\"rank\":1},{\"visitorid\":567987987988,\"itemid\":119736,\"score\":0.0251864088,\"rank\":2},{\"visitorid\":567987987988,\"itemid\":338395,\"score\":0.0233529449,\"rank\":3},{\"visitorid\":567987987988,\"itemid\":439963,\"score\":0.0216234672,\"rank\":4},{\"visitorid\":567987987988,\"itemid\":186702,\"score\":0.0200717175,\"rank\":5},{\"visitorid\":567987987988,\"itemid\":213834,\"score\":0.0194312859,\"rank\":6},{\"visitorid\":567987987988,\"itemid\":62275,\"score\":0.0178080261,\"rank\":7},{\"visitorid\":567987987988,\"itemid\":89323,\"score\":0.0166921401,\"rank\":8},{\"visitorid\":567987987988,\"itemid\":334401,\"score\":0.0165238905,\"rank\":9},{\"visitorid\":567987987988,\"itemid\":146613,\"score\":0.0163567579,\"rank\":10}]\n"
     ]
    }
   ],
   "source": [
    "import urllib\n",
    "import requests\n",
    "import ast\n",
    "\n",
    "# The URL will need to the edited if ACI or AKS service\n",
    "url_aci = local_service.scoring_uri\n",
    "\n",
    "headers = {'Content-Type':'application/json'}\n",
    "body = test_load2\n",
    "\n",
    "req = urllib.request.Request(url_aci, str.encode(body), headers)\n",
    "response = ast.literal_eval(urllib.request.urlopen(req).read().decode('utf-8'))\n",
    "\n",
    "print(response)\n"
   ]
  },
  {
   "cell_type": "markdown",
   "metadata": {},
   "source": [
    "# 7. Deploy to Azure Container Instance"
   ]
  },
  {
   "cell_type": "code",
   "execution_count": 56,
   "metadata": {},
   "outputs": [
    {
     "name": "stdout",
     "output_type": "stream",
     "text": [
      "Tips: You can try get_logs(): https://aka.ms/debugimage#dockerlog or local deployment: https://aka.ms/debugimage#debug-locally to debug if deployment takes longer than 10 minutes.\n",
      "Running\n",
      "2022-12-07 00:04:35+00:00 Creating Container Registry if not exists.\n",
      "2022-12-07 00:04:35+00:00 Registering the environment.\n",
      "2022-12-07 00:04:37+00:00 Use the existing image.\n",
      "2022-12-07 00:04:37+00:00 Generating deployment configuration.\n",
      "2022-12-07 00:04:40+00:00 Submitting deployment to compute.\n",
      "2022-12-07 00:04:43+00:00 Checking the status of deployment test..\n",
      "2022-12-07 00:09:51+00:00 Checking the status of inference endpoint test.\n",
      "Succeeded\n",
      "ACI service creation operation finished, operation \"Succeeded\"\n"
     ]
    }
   ],
   "source": [
    "inference_config = InferenceConfig(entry_script=DEPLOY_DIR+\"score.py\",environment=myenv)\n",
    "\n",
    "deployment_config = AciWebservice.deploy_configuration(cpu_cores=1, memory_gb=1)\n",
    "\n",
    "aci_service = Model.deploy(ws, \"aci-service\", [azmodel_s, azmodel_r], inference_config, deployment_config, overwrite=True)\n",
    "\n",
    "aci_service.wait_for_deployment(show_output=True)"
   ]
  },
  {
   "cell_type": "markdown",
   "metadata": {},
   "source": [
    "## Test ACI URL API Endpoint"
   ]
  },
  {
   "cell_type": "code",
   "execution_count": 58,
   "metadata": {},
   "outputs": [
    {
     "data": {
      "text/plain": [
       "'http://71f08952-e588-491d-a93e-40ce53b4cff3.southcentralus.azurecontainer.io/score'"
      ]
     },
     "execution_count": 58,
     "metadata": {},
     "output_type": "execute_result"
    }
   ],
   "source": [
    "aci_service.scoring_uri"
   ]
  },
  {
   "cell_type": "code",
   "execution_count": 57,
   "metadata": {},
   "outputs": [
    {
     "name": "stdout",
     "output_type": "stream",
     "text": [
      "[{\"visitorid\":6000,\"itemid\":64700,\"score\":0.0598958333,\"rank\":1},{\"visitorid\":6000,\"itemid\":158457,\"score\":0.0555555622,\"rank\":2},{\"visitorid\":6000,\"itemid\":54572,\"score\":0.0476190448,\"rank\":3},{\"visitorid\":6000,\"itemid\":342866,\"score\":0.0476190448,\"rank\":4},{\"visitorid\":6000,\"itemid\":393111,\"score\":0.0476190448,\"rank\":5},{\"visitorid\":6000,\"itemid\":464114,\"score\":0.0476190448,\"rank\":6},{\"visitorid\":6000,\"itemid\":50575,\"score\":0.0476190448,\"rank\":7},{\"visitorid\":6000,\"itemid\":279324,\"score\":0.0416666667,\"rank\":8},{\"visitorid\":6000,\"itemid\":342139,\"score\":0.0416666667,\"rank\":9},{\"visitorid\":6000,\"itemid\":26634,\"score\":0.0388888915,\"rank\":10},{\"visitorid\":567987987988,\"itemid\":456056,\"score\":0.0257491243,\"rank\":1},{\"visitorid\":567987987988,\"itemid\":119736,\"score\":0.0251864088,\"rank\":2},{\"visitorid\":567987987988,\"itemid\":338395,\"score\":0.0233529449,\"rank\":3},{\"visitorid\":567987987988,\"itemid\":439963,\"score\":0.0216234672,\"rank\":4},{\"visitorid\":567987987988,\"itemid\":186702,\"score\":0.0200717175,\"rank\":5},{\"visitorid\":567987987988,\"itemid\":213834,\"score\":0.0194312859,\"rank\":6},{\"visitorid\":567987987988,\"itemid\":62275,\"score\":0.0178080261,\"rank\":7},{\"visitorid\":567987987988,\"itemid\":89323,\"score\":0.0166921401,\"rank\":8},{\"visitorid\":567987987988,\"itemid\":334401,\"score\":0.0165238905,\"rank\":9},{\"visitorid\":567987987988,\"itemid\":146613,\"score\":0.0163567579,\"rank\":10}]\n"
     ]
    }
   ],
   "source": [
    "import urllib\n",
    "import requests\n",
    "import ast\n",
    "\n",
    "# The URL will need to the edited if ACI or AKS service\n",
    "url_aci = aci_service.scoring_uri\n",
    "\n",
    "headers = {'Content-Type':'application/json'}\n",
    "body = test_load2\n",
    "\n",
    "req = urllib.request.Request(url_aci, str.encode(body), headers)\n",
    "response = ast.literal_eval(urllib.request.urlopen(req).read().decode('utf-8'))\n",
    "\n",
    "print(response)\n"
   ]
  },
  {
   "cell_type": "code",
   "execution_count": 59,
   "metadata": {},
   "outputs": [],
   "source": [
    "aci_service.delete()"
   ]
  },
  {
   "cell_type": "markdown",
   "metadata": {
    "application/vnd.databricks.v1+cell": {
     "cellMetadata": {},
     "inputWidgets": {},
     "nuid": "628be469-ce99-45cb-96e0-80e652f9fe24",
     "showTitle": false,
     "title": ""
    }
   },
   "source": [
    "# 8. Deploy to Production -  managed AKS Cluster\n",
    "\n",
    "Details for SSL and more best practices for production here: https://github.com/Azure/MachineLearningNotebooks/blob/master/how-to-use-azureml/deployment/production-deploy-to-aks/production-deploy-to-aks.ipynb"
   ]
  },
  {
   "cell_type": "code",
   "execution_count": 60,
   "metadata": {
    "application/vnd.databricks.v1+cell": {
     "cellMetadata": {},
     "inputWidgets": {},
     "nuid": "e2e85cda-818a-4e66-892f-5ca0b08692c5",
     "showTitle": false,
     "title": ""
    }
   },
   "outputs": [
    {
     "name": "stdout",
     "output_type": "stream",
     "text": [
      "Found existing cluster, use it.\n"
     ]
    }
   ],
   "source": [
    "# Choose a name for your AKS cluster\n",
    "aks_name = 'my-aks'\n",
    "\n",
    "# Verify that cluster does not exist already\n",
    "try:\n",
    "    aks_target = ComputeTarget(workspace=ws, name=aks_name)\n",
    "    print('Found existing cluster, use it.')\n",
    "except ComputeTargetException:\n",
    "    # Use the default configuration (can also provide parameters to customize)\n",
    "    # https://learn.microsoft.com/en-us/python/api/azureml-core/azureml.core.compute.aks.akscompute?view=azure-ml-py\n",
    "    prov_config = AksCompute.provisioning_configuration()\n",
    "\n",
    "    # Create the cluster\n",
    "    aks_target = ComputeTarget.create(workspace = ws, \n",
    "                                    name = aks_name, \n",
    "                                    provisioning_configuration = prov_config)\n",
    "\n",
    "if aks_target.get_status() != \"Succeeded\":\n",
    "    aks_target.wait_for_completion(show_output=True)"
   ]
  },
  {
   "cell_type": "code",
   "execution_count": 63,
   "metadata": {
    "application/vnd.databricks.v1+cell": {
     "cellMetadata": {},
     "inputWidgets": {},
     "nuid": "2d17f34a-a1b5-4632-b3a5-c8643ac948bf",
     "showTitle": false,
     "title": ""
    }
   },
   "outputs": [],
   "source": [
    "# Set the web service configuration (using default here)\n",
    "# https://learn.microsoft.com/en-us/python/api/azureml-core/azureml.core.webservice.akswebservice?view=azure-ml-py#azureml-core-webservice-akswebservice-deploy-configuration\n",
    "aks_config = AksWebservice.deploy_configuration()\n",
    "\n",
    "# # Enable token auth and disable (key) auth on the webservice\n",
    "# aks_config = AksWebservice.deploy_configuration(token_auth_enabled=True, auth_enabled=False)"
   ]
  },
  {
   "cell_type": "code",
   "execution_count": 64,
   "metadata": {
    "application/vnd.databricks.v1+cell": {
     "cellMetadata": {},
     "inputWidgets": {},
     "nuid": "56b7c922-2406-458c-9216-b25ae925426b",
     "showTitle": false,
     "title": ""
    }
   },
   "outputs": [
    {
     "name": "stdout",
     "output_type": "stream",
     "text": [
      "Tips: You can try get_logs(): https://aka.ms/debugimage#dockerlog or local deployment: https://aka.ms/debugimage#debug-locally to debug if deployment takes longer than 10 minutes.\n",
      "Running\n",
      "2022-12-07 00:11:49+00:00 Creating Container Registry if not exists.\n",
      "2022-12-07 00:11:49+00:00 Registering the environment.\n",
      "2022-12-07 00:11:50+00:00 Use the existing image.\n",
      "2022-12-07 00:11:54+00:00 Checking the status of deployment aks-service..\n",
      "2022-12-07 00:12:25+00:00 Checking the status of inference endpoint aks-service.\n",
      "Succeeded\n",
      "AKS service creation operation finished, operation \"Succeeded\"\n",
      "Healthy\n",
      "CPU times: user 373 ms, sys: 86.9 ms, total: 460 ms\n",
      "Wall time: 42.9 s\n"
     ]
    }
   ],
   "source": [
    "%%time\n",
    "\n",
    "aks_service_name ='aks-service'\n",
    "\n",
    "aks_service = Model.deploy(workspace=ws,\n",
    "                           name=aks_service_name,\n",
    "                           models=[azmodel_s, azmodel_r],\n",
    "                           inference_config=inference_config,\n",
    "                           deployment_config=aks_config,\n",
    "                           deployment_target=aks_target,\n",
    "                           overwrite=True)\n",
    "\n",
    "aks_service.wait_for_deployment(show_output = True)\n",
    "print(aks_service.state)"
   ]
  },
  {
   "cell_type": "markdown",
   "metadata": {
    "application/vnd.databricks.v1+cell": {
     "cellMetadata": {},
     "inputWidgets": {},
     "nuid": "d5350a07-b3fa-4a36-a6b7-b83ce515fdfb",
     "showTitle": false,
     "title": ""
    }
   },
   "source": [
    "# 8. Test the web service using raw HTTP request"
   ]
  },
  {
   "cell_type": "code",
   "execution_count": 65,
   "metadata": {
    "application/vnd.databricks.v1+cell": {
     "cellMetadata": {},
     "inputWidgets": {},
     "nuid": "5935a168-462a-4ffc-b823-28fd9ae03a14",
     "showTitle": false,
     "title": ""
    }
   },
   "outputs": [
    {
     "name": "stdout",
     "output_type": "stream",
     "text": [
      "G46wSFtiiAFlCHHi0beyU29ceaB2dPRS\n"
     ]
    }
   ],
   "source": [
    "# # if (key) auth is enabled, retrieve the API keys. AML generates two keys.\n",
    "key1, Key2 = aks_service.get_keys()\n",
    "print(key1)\n",
    "\n",
    "# # if token auth is enabled, retrieve the token.\n",
    "# access_token, refresh_after = aks_service.get_token()"
   ]
  },
  {
   "cell_type": "code",
   "execution_count": 66,
   "metadata": {
    "application/vnd.databricks.v1+cell": {
     "cellMetadata": {},
     "inputWidgets": {},
     "nuid": "527fee7d-2a9d-4574-b291-579a7de30f7f",
     "showTitle": false,
     "title": ""
    }
   },
   "outputs": [
    {
     "name": "stdout",
     "output_type": "stream",
     "text": [
      "http://20.114.104.171:80/api/v1/service/aks-service/score\n"
     ]
    }
   ],
   "source": [
    "print(aks_service.scoring_uri)"
   ]
  },
  {
   "cell_type": "code",
   "execution_count": 68,
   "metadata": {
    "application/vnd.databricks.v1+cell": {
     "cellMetadata": {},
     "inputWidgets": {},
     "nuid": "e8627124-39dc-47e7-b4c0-6f20bdfd5ee8",
     "showTitle": false,
     "title": ""
    }
   },
   "outputs": [],
   "source": [
    "apiurl = aks_service.scoring_uri\n",
    "key = key1\n",
    "# key = \"G46wSFtiiAFlCHHi0beyU29ceaB2dPRS\"\n",
    "# apiurl = \"http://20.114.104.171:80/api/v1/service/aks-service/score\""
   ]
  },
  {
   "cell_type": "code",
   "execution_count": 69,
   "metadata": {
    "application/vnd.databricks.v1+cell": {
     "cellMetadata": {},
     "inputWidgets": {},
     "nuid": "abf7b0ae-8e78-47ae-a0be-5388b3c11d83",
     "showTitle": false,
     "title": ""
    }
   },
   "outputs": [
    {
     "name": "stdout",
     "output_type": "stream",
     "text": [
      "[{\"visitorid\":6000,\"itemid\":119736,\"score\":1.2709273953,\"rank\":1},{\"visitorid\":6000,\"itemid\":32227,\"score\":1.2562527951,\"rank\":2},{\"visitorid\":6000,\"itemid\":234215,\"score\":1.2536956422,\"rank\":3},{\"visitorid\":6000,\"itemid\":210002,\"score\":1.2502753945,\"rank\":4},{\"visitorid\":6000,\"itemid\":23762,\"score\":1.2486156024,\"rank\":5},{\"visitorid\":6000,\"itemid\":76196,\"score\":1.2428713669,\"rank\":6},{\"visitorid\":6000,\"itemid\":212006,\"score\":1.2396474962,\"rank\":7},{\"visitorid\":6000,\"itemid\":256721,\"score\":1.2389497782,\"rank\":8},{\"visitorid\":6000,\"itemid\":123664,\"score\":1.2384240537,\"rank\":9},{\"visitorid\":6000,\"itemid\":317192,\"score\":1.2381217134,\"rank\":10},{\"visitorid\":567987987988,\"itemid\":119736,\"score\":1.6954194245,\"rank\":1},{\"visitorid\":567987987988,\"itemid\":32227,\"score\":1.692107864,\"rank\":2},{\"visitorid\":567987987988,\"itemid\":234215,\"score\":1.6887668235,\"rank\":3},{\"visitorid\":567987987988,\"itemid\":76196,\"score\":1.6697236534,\"rank\":4},{\"visitorid\":567987987988,\"itemid\":210002,\"score\":1.669452417,\"rank\":5},{\"visitorid\":567987987988,\"itemid\":116675,\"score\":1.6676152015,\"rank\":6},{\"visitorid\":567987987988,\"itemid\":16344,\"score\":1.6674069973,\"rank\":7},{\"visitorid\":567987987988,\"itemid\":212006,\"score\":1.6652621947,\"rank\":8},{\"visitorid\":567987987988,\"itemid\":23762,\"score\":1.6649795125,\"rank\":9},{\"visitorid\":567987987988,\"itemid\":37254,\"score\":1.6602719495,\"rank\":10}]\n",
      "CPU times: user 6.01 ms, sys: 923 µs, total: 6.94 ms\n",
      "Wall time: 350 ms\n"
     ]
    }
   ],
   "source": [
    "%%time\n",
    "\n",
    "# # If (key) auth is enabled, don't forget to add key to the HTTP header.\n",
    "headers = {'Content-Type':'application/json', 'Authorization': 'Bearer ' + key}\n",
    "\n",
    "# # If token auth is enabled, don't forget to add token to the HTTP header.\n",
    "# headers = {'Content-Type':'application/json', 'Authorization': 'Bearer ' + access_token}\n",
    "\n",
    "resp = requests.post(apiurl, bytes(test_load1,encoding = 'utf8'), headers=headers)\n",
    "\n",
    "print(ast.literal_eval(resp.text))"
   ]
  },
  {
   "cell_type": "code",
   "execution_count": 70,
   "metadata": {
    "application/vnd.databricks.v1+cell": {
     "cellMetadata": {},
     "inputWidgets": {},
     "nuid": "c4d4e31e-bd4e-4700-93f7-318ff85dc11f",
     "showTitle": false,
     "title": ""
    }
   },
   "outputs": [],
   "source": [
    "aks_service.delete()"
   ]
  },
  {
   "cell_type": "code",
   "execution_count": null,
   "metadata": {
    "application/vnd.databricks.v1+cell": {
     "cellMetadata": {},
     "inputWidgets": {},
     "nuid": "7c6a85a9-560d-4677-8b2b-5f8bbd27d773",
     "showTitle": false,
     "title": ""
    }
   },
   "outputs": [],
   "source": [
    "# aks_service.get_logs()"
   ]
  }
 ],
 "metadata": {
  "application/vnd.databricks.v1+notebook": {
   "dashboards": [],
   "language": "python",
   "notebookMetadata": {
    "pythonIndentUnit": 4
   },
   "notebookName": "Deploy-AzureML",
   "notebookOrigID": 4076937798675624,
   "widgets": {}
  },
  "kernelspec": {
   "display_name": "Python 3.8 - AzureML",
   "language": "python",
   "name": "python38-azureml"
  },
  "language_info": {
   "codemirror_mode": {
    "name": "ipython",
    "version": 3
   },
   "file_extension": ".py",
   "mimetype": "text/x-python",
   "name": "python",
   "nbconvert_exporter": "python",
   "pygments_lexer": "ipython3",
   "version": "3.8.10"
  }
 },
 "nbformat": 4,
 "nbformat_minor": 4
}
