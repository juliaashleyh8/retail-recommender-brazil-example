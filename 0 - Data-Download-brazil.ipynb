{
 "cells": [
  {
   "cell_type": "markdown",
   "metadata": {},
   "source": []
  },
  {
   "cell_type": "markdown",
   "metadata": {},
   "source": [
    "# Download the Brazil eCommerce Dataset from here\n",
    "https://www.kaggle.com/datasets/olistbr/brazilian-ecommerce?resource=download and upload it to this folder and run the cell below to unzip and put the data on the data/ folder Rename the download file to \"Brazil-retail-recommender.zip\" before or after upload"
   ]
  },
  {
   "cell_type": "code",
   "execution_count": 1,
   "metadata": {},
   "outputs": [],
   "source": [
    "import shutil\n",
    "import os\n",
    "\n",
    "zipfile = \"Brazil-retail-recommender.zip\"\n",
    "DATA_DIR = \"./data/\"\n",
    "\n",
    "#Uncompress Datasets zip file on temp folder\n",
    "os.makedirs(DATA_DIR, exist_ok=True)\n",
    "shutil.unpack_archive(zipfile, extract_dir=DATA_DIR)"
   ]
  },
  {
   "cell_type": "code",
   "execution_count": null,
   "metadata": {},
   "outputs": [],
   "source": [
    "# click on the folder \"data\" and you should have all the datasets unzipped\n",
    "# there should be 9 total datasets"
   ]
  }
 ],
 "metadata": {
  "kernelspec": {
   "display_name": "Python 3 (ipykernel)",
   "language": "python",
   "name": "python3"
  },
  "language_info": {
   "codemirror_mode": {
    "name": "ipython",
    "version": 3
   },
   "file_extension": ".py",
   "mimetype": "text/x-python",
   "name": "python",
   "nbconvert_exporter": "python",
   "pygments_lexer": "ipython3",
   "version": "3.8.5"
  },
  "vscode": {
   "interpreter": {
    "hash": "916dbcbb3f70747c44a77c7bcd40155683ae19c65e1c03b4aa3499c5328201f1"
   }
  }
 },
 "nbformat": 4,
 "nbformat_minor": 4
}
